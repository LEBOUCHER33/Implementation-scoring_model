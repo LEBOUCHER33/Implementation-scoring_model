{
  "cells": [
    {
      "cell_type": "markdown",
      "id": "15dcb6bf",
      "metadata": {
        "id": "15dcb6bf"
      },
      "source": [
        "# Projet 7"
      ]
    },
    {
      "cell_type": "code",
      "execution_count": 1,
      "id": "g1zUncB7hJqW",
      "metadata": {
        "id": "g1zUncB7hJqW",
        "colab": {
          "base_uri": "https://localhost:8080/"
        },
        "outputId": "725dbcd4-57c3-4965-8778-40938316ffa9"
      },
      "outputs": [
        {
          "output_type": "stream",
          "name": "stdout",
          "text": [
            "Mounted at /content/drive\n"
          ]
        }
      ],
      "source": [
        "from google.colab import drive\n",
        "drive.mount('/content/drive')"
      ]
    },
    {
      "cell_type": "markdown",
      "id": "b7a5b021",
      "metadata": {
        "id": "b7a5b021"
      },
      "source": [
        "A cette étape, nous avons deux fichiers :\n",
        "\n",
        "1- un fichier de données d'entrainement qui nous permettra de faire du ML supervisé afin de modéliser des profils clients et de leur attribuer une probabilité de solvabilité qui aboutira à une classication 0/1.\n",
        "\n",
        "2- un fichier de données de test avec des nouveaux clients qui servira pour l'inférence de ce modèle entrainé"
      ]
    },
    {
      "cell_type": "code",
      "execution_count": 2,
      "id": "da5e2414",
      "metadata": {
        "id": "da5e2414"
      },
      "outputs": [],
      "source": [
        "import pandas as pd\n",
        "import numpy as np\n",
        "import mlflow\n",
        "from sklearn.model_selection import train_test_split"
      ]
    },
    {
      "cell_type": "markdown",
      "id": "9b381e8e",
      "metadata": {
        "id": "9b381e8e"
      },
      "source": [
        "## Partie 3 : Créez un score métier pour l'entrainement de vos modèles"
      ]
    },
    {
      "cell_type": "markdown",
      "id": "6ff98e0c",
      "metadata": {
        "id": "6ff98e0c"
      },
      "source": [
        "L'objectif de cette partie sera de définir le score de performance du modèle ML pour traiter la problèmatique"
      ]
    },
    {
      "cell_type": "markdown",
      "id": "5dc975a7",
      "metadata": {
        "id": "5dc975a7"
      },
      "source": [
        "### 1- L'exactitude ou accuracy"
      ]
    },
    {
      "cell_type": "markdown",
      "id": "baa59070",
      "metadata": {
        "id": "baa59070"
      },
      "source": [
        "Dans un modèle de classification le premier score de performance utilisé est l'accuracy qui donne un pourcentage des classifications correctement réalisées.\n",
        "\n",
        "Dans notre cas, ce score n'est pas optimal car nous avons vu précédemment qu'il y a avait un énorme déséquilibre de classe entre les bons et les mauvais clients : on a une sur-représentation de la classe target == 0\n",
        "\n",
        "Enfin, on souhaite attribuer un coût plus élevé pour des Faux Positifs (= on accorde un crédit à un mauvais client et donc le défaut de paiement coûte cher) que pour les Faux Négatifs (= on n'accorde pas de crédit à un client solvable)"
      ]
    },
    {
      "cell_type": "markdown",
      "id": "94cf4719",
      "metadata": {
        "id": "94cf4719"
      },
      "source": [
        "On pourra seulement l'utiliser comme baseline"
      ]
    },
    {
      "cell_type": "markdown",
      "id": "8a897157",
      "metadata": {
        "id": "8a897157"
      },
      "source": [
        "### 2- Rappel et Précision"
      ]
    },
    {
      "cell_type": "markdown",
      "id": "b4281c77",
      "metadata": {
        "id": "b4281c77"
      },
      "source": [
        "Dans un ensemble de données déséquilibré où le nombre de positifs réels est très faible, le rappel est une métrique plus pertinente que la précision, car il mesure la capacité du modèle à identifier correctement toutes les instances positives.\n",
        "\n",
        "Un faux négatif a des conséquences plus graves qu'un faux positif.\n",
        "\n",
        "Dans notre cas, nous voulons surtout détecter les mauvais payeurs donc minimiser les FN = les mauvais payeurs prédits 0 alors qu'ils sont en réalité 1, il nous faudra donc maximiser le rappel."
      ]
    },
    {
      "cell_type": "markdown",
      "id": "9bd4911d",
      "metadata": {
        "id": "9bd4911d"
      },
      "source": [
        "Il faudra établir une matrice de confusion qui résumera TP TN FP FN afin de comprendre comment un modèle se trompe"
      ]
    },
    {
      "cell_type": "markdown",
      "id": "7cccf828",
      "metadata": {
        "id": "7cccf828"
      },
      "source": [
        "### 3- ROC et AUC_ROC"
      ]
    },
    {
      "cell_type": "markdown",
      "id": "8bf5e3e6",
      "metadata": {
        "id": "8bf5e3e6"
      },
      "source": [
        "La courbe ROC : Rappel = f(taux de FP); montre la performance du modèle à classifier selon les seuils de probabilité\n",
        "\n",
        "AUC_ROC : aire sous la courbe ROC; montre la capacité du modèle à bien distinguer les classes\n",
        "AUC = 0.5 (le modèle classe les clients au hasard) AUC = 1.0 (le classifieur ne fait aucune erreur)"
      ]
    },
    {
      "cell_type": "markdown",
      "id": "6516167c",
      "metadata": {
        "id": "6516167c"
      },
      "source": [
        "On utilisera AUC pour comparer les différents classifieurs"
      ]
    },
    {
      "cell_type": "markdown",
      "id": "1cec89cc",
      "metadata": {
        "id": "1cec89cc"
      },
      "source": [
        "### 4- F-Beta_score"
      ]
    },
    {
      "cell_type": "markdown",
      "id": "bcd801b6",
      "metadata": {
        "id": "bcd801b6"
      },
      "source": [
        "Le F1_score donne la moyenne harmonique entre précision et rappel : on veut un modèle qui équilibre la précision et le rappel.\n",
        "\n",
        "Le F-beta_score est une métrique qui combine la précision et le rappel en une seule valeur mais en donnant plus ou moins d'importance à l'une des deux selon le paramètre beta.\n",
        "\n",
        "\n",
        "On utilisera le Fbeta_score = 2 pour favoriser le rappel plutôt que la précision"
      ]
    },
    {
      "cell_type": "markdown",
      "id": "67b49fe5",
      "metadata": {
        "id": "67b49fe5"
      },
      "source": [
        "## Partie 4 : Simulez et comparez plusieurs modèles"
      ]
    },
    {
      "cell_type": "markdown",
      "id": "953dbb5c",
      "metadata": {
        "id": "953dbb5c"
      },
      "source": [
        "L'objectif ici sera d'évaluer plusieurs modèles de classifieurs sur nos données d'entrainement et de comparer leurs performances via l'outil de mlflow tracking"
      ]
    },
    {
      "cell_type": "markdown",
      "id": "a31cab54",
      "metadata": {
        "id": "a31cab54"
      },
      "source": [
        "### 4-1 loading des data"
      ]
    },
    {
      "cell_type": "code",
      "execution_count": 3,
      "id": "1affeff4",
      "metadata": {
        "id": "1affeff4"
      },
      "outputs": [],
      "source": [
        "X = pd.read_csv('/content/drive/MyDrive/DATA/DATA_cleaned/application_train_final.csv')"
      ]
    },
    {
      "cell_type": "code",
      "execution_count": 4,
      "id": "19fe3aa4",
      "metadata": {
        "id": "19fe3aa4"
      },
      "outputs": [],
      "source": [
        "y = X['TARGET']\n",
        "X = X.drop(columns=['TARGET'])"
      ]
    },
    {
      "cell_type": "code",
      "execution_count": 5,
      "id": "c53b5d37",
      "metadata": {
        "colab": {
          "base_uri": "https://localhost:8080/"
        },
        "id": "c53b5d37",
        "outputId": "9ab3156c-ca5d-418d-fc2b-51f8597b7b47"
      },
      "outputs": [
        {
          "output_type": "execute_result",
          "data": {
            "text/plain": [
              "np.int64(5669948)"
            ]
          },
          "metadata": {},
          "execution_count": 5
        }
      ],
      "source": [
        "X.isna().sum().sum()  # Vérification des valeurs manquantes"
      ]
    },
    {
      "cell_type": "code",
      "execution_count": 6,
      "id": "3aeba241",
      "metadata": {
        "colab": {
          "base_uri": "https://localhost:8080/"
        },
        "id": "3aeba241",
        "outputId": "523aa2a8-8101-412e-bffc-417d3a98b867"
      },
      "outputs": [
        {
          "output_type": "execute_result",
          "data": {
            "text/plain": [
              "array([dtype('float64')], dtype=object)"
            ]
          },
          "metadata": {},
          "execution_count": 6
        }
      ],
      "source": [
        "X.dtypes.unique()"
      ]
    },
    {
      "cell_type": "code",
      "execution_count": 7,
      "id": "52d9d160",
      "metadata": {
        "colab": {
          "base_uri": "https://localhost:8080/"
        },
        "id": "52d9d160",
        "outputId": "1a6b0aad-63bd-481a-c12a-c57496cb9711"
      },
      "outputs": [
        {
          "output_type": "stream",
          "name": "stdout",
          "text": [
            "Valeurs manquantes : 5669948\n",
            "Valeurs infinies : 1304\n"
          ]
        }
      ],
      "source": [
        "print(\"Valeurs manquantes :\", X.isnull().sum().sum())\n",
        "print(\"Valeurs infinies :\", np.isinf(X).sum().sum())"
      ]
    },
    {
      "cell_type": "markdown",
      "id": "2656a1a7",
      "metadata": {
        "id": "2656a1a7"
      },
      "source": [
        "On a bien uniquement des valeurs numériques encodées mais des valeurs manquantes et des valeurs infinies qu'il faudra imputer pour que le modèle puisse apprendre.\n",
        "\n",
        "Pour éviter la fuite de données on va spliter le dataset avant de faire de préprocesser le dataset."
      ]
    },
    {
      "cell_type": "code",
      "execution_count": 8,
      "id": "1575b572",
      "metadata": {
        "id": "1575b572"
      },
      "outputs": [],
      "source": [
        "X_train, X_test, y_train, y_test = train_test_split(X, y, test_size=0.2, random_state=42)"
      ]
    },
    {
      "cell_type": "markdown",
      "id": "e095fc5f",
      "metadata": {
        "id": "e095fc5f"
      },
      "source": [
        "### 4-2 Elaboration du pipeline d'entrainement du ML"
      ]
    },
    {
      "cell_type": "markdown",
      "id": "a299f3bb",
      "metadata": {
        "id": "a299f3bb"
      },
      "source": [
        "L'objectif sera de définir un pipeline qui permettra pour chacun des différents modèles sélectionnés, de préparer les données et de lancer les entrainements avec pour chaque modèle testé, différentes combinaisons d'hyperparamètres et métriques de performance\n",
        "\n",
        "Workflow du pipeline :\n",
        "\n",
        "- préparation des data :\n",
        "    - imputation des valeurs manquantes\n",
        "    - standardisation des variables\n",
        "\n",
        "- initialisation des modèles à tester et des grilles d'hyperparamètres associés\n",
        "\n",
        "- intégration des techniques de ré-équilibrage des classes\n",
        "\n",
        "- RandomSearchCV des hyperparamètres et run des entrainements des différents modèles\n",
        "\n",
        "- intégration avec MLFlow et logge des métriques"
      ]
    },
    {
      "cell_type": "markdown",
      "id": "e6819731",
      "metadata": {
        "id": "e6819731"
      },
      "source": [
        "#### 4-2-1 Preprocessing des data"
      ]
    },
    {
      "cell_type": "markdown",
      "id": "d78fdc3c",
      "metadata": {
        "id": "d78fdc3c"
      },
      "source": [
        "On va commencer par remplacer les valeurs infinies par la valeur NaN pour qu'on puisse ensuite les imputer lors du preprocessing"
      ]
    },
    {
      "cell_type": "code",
      "execution_count": 9,
      "id": "5e2f2592",
      "metadata": {
        "id": "5e2f2592"
      },
      "outputs": [],
      "source": [
        "# Remplacer les valeurs infinies par NaN\n",
        "X_train = X_train.replace([np.inf, -np.inf], np.nan)\n",
        "X_test = X_test.replace([np.inf, -np.inf], np.nan)"
      ]
    },
    {
      "cell_type": "markdown",
      "id": "689bd6bf",
      "metadata": {
        "id": "689bd6bf"
      },
      "source": [
        "Pour les variables binaires on imputera avec la valeur la plus fréquente et pour les autres avec la mediane et on fera une standardisation"
      ]
    },
    {
      "cell_type": "code",
      "execution_count": 10,
      "id": "e1e67ee1",
      "metadata": {
        "id": "e1e67ee1"
      },
      "outputs": [],
      "source": [
        "missing_cols = X.columns[X.isnull().any()]"
      ]
    },
    {
      "cell_type": "code",
      "execution_count": 11,
      "id": "251b552c",
      "metadata": {
        "id": "251b552c"
      },
      "outputs": [],
      "source": [
        "bin_col = [col for col in missing_cols if X[col].nunique() == 2]\n",
        "num_col = [col for col in missing_cols if X[col].nunique() > 2]"
      ]
    },
    {
      "cell_type": "code",
      "execution_count": 12,
      "id": "d773bbdd",
      "metadata": {
        "id": "d773bbdd"
      },
      "outputs": [],
      "source": [
        "from sklearn.pipeline import Pipeline\n",
        "from sklearn.preprocessing import StandardScaler\n",
        "from sklearn.impute import SimpleImputer\n",
        "from sklearn.compose import ColumnTransformer"
      ]
    },
    {
      "cell_type": "code",
      "execution_count": 13,
      "id": "a71a6bef",
      "metadata": {
        "id": "a71a6bef"
      },
      "outputs": [],
      "source": [
        "# pipeline d'imputation pour les variables binaires\n",
        "bin_transformer = Pipeline(steps= [\n",
        "    ('imputer', SimpleImputer(strategy='most_frequent'))])\n",
        "\n",
        "# pipeline d'imputation et de standardisation pour les valeurs numériques\n",
        "num_transformer = Pipeline(steps= [\n",
        "    ('imputer', SimpleImputer(strategy='median')),\n",
        "    ('scaler', StandardScaler())\n",
        "])"
      ]
    },
    {
      "cell_type": "markdown",
      "id": "d590c8f2",
      "metadata": {
        "id": "d590c8f2"
      },
      "source": [
        "On utilisera un ColumnTransformer pour gérer le préprocessing des données dans le pipeline."
      ]
    },
    {
      "cell_type": "code",
      "execution_count": 14,
      "id": "908da1df",
      "metadata": {
        "id": "908da1df"
      },
      "outputs": [],
      "source": [
        "preprocessor = ColumnTransformer(\n",
        "    transformers=[\n",
        "        ('num', num_transformer, num_col),\n",
        "        ('bin', bin_transformer, bin_col)],\n",
        "    remainder='passthrough'\n",
        "    )"
      ]
    },
    {
      "cell_type": "markdown",
      "id": "rc_OYMcVGZXt",
      "metadata": {
        "id": "rc_OYMcVGZXt"
      },
      "source": [
        "#### 4-2-2 Pipeline de la baseline"
      ]
    },
    {
      "cell_type": "markdown",
      "id": "ubfvRMWDGb_Q",
      "metadata": {
        "id": "ubfvRMWDGb_Q"
      },
      "source": [
        "On va tester l'entrainement d'un premier classifier sur le jeu de données pour établie une baseline"
      ]
    },
    {
      "cell_type": "code",
      "execution_count": null,
      "id": "MK7ahMPVGflu",
      "metadata": {
        "id": "MK7ahMPVGflu"
      },
      "outputs": [],
      "source": [
        "from sklearn.linear_model import LogisticRegression"
      ]
    },
    {
      "cell_type": "code",
      "execution_count": null,
      "id": "zZAmbQcNGhvA",
      "metadata": {
        "id": "zZAmbQcNGhvA"
      },
      "outputs": [],
      "source": [
        "clf = Pipeline(steps=[\n",
        "    ('preprocessor', preprocessor),\n",
        "    ('model', LogisticRegression(max_iter=1000, class_weight='balanced')) # on gère le déséquilibre avec class_weight='balanced'\n",
        "    ])"
      ]
    },
    {
      "cell_type": "code",
      "execution_count": null,
      "id": "l5m_IWjLGj1n",
      "metadata": {
        "colab": {
          "base_uri": "https://localhost:8080/",
          "height": 443
        },
        "id": "l5m_IWjLGj1n",
        "outputId": "38666f66-d69a-43b2-95fc-14ec9bf55298"
      },
      "outputs": [
        {
          "output_type": "stream",
          "name": "stderr",
          "text": [
            "/usr/local/lib/python3.12/dist-packages/sklearn/linear_model/_logistic.py:465: ConvergenceWarning: lbfgs failed to converge (status=1):\n",
            "STOP: TOTAL NO. OF ITERATIONS REACHED LIMIT.\n",
            "\n",
            "Increase the number of iterations (max_iter) or scale the data as shown in:\n",
            "    https://scikit-learn.org/stable/modules/preprocessing.html\n",
            "Please also refer to the documentation for alternative solver options:\n",
            "    https://scikit-learn.org/stable/modules/linear_model.html#logistic-regression\n",
            "  n_iter_i = _check_optimize_result(\n"
          ]
        },
        {
          "output_type": "execute_result",
          "data": {
            "text/plain": [
              "Pipeline(steps=[('preprocessor',\n",
              "                 ColumnTransformer(remainder='passthrough',\n",
              "                                   transformers=[('num',\n",
              "                                                  Pipeline(steps=[('imputer',\n",
              "                                                                   SimpleImputer(strategy='median')),\n",
              "                                                                  ('scaler',\n",
              "                                                                   StandardScaler())]),\n",
              "                                                  ['CREDITCARD_CREDIT_UTILIZATION_MEAN',\n",
              "                                                   'CREDITCARD_CNT_DRAWINGS_ATM_CURRENT_MEAN',\n",
              "                                                   'CREDITCARD_CNT_DRAWINGS_CURRENT_MAX',\n",
              "                                                   'CREDITCARD_CREDIT_UTILIZATION_MAX',\n",
              "                                                   'DAYS_CRE...\n",
              "                                                   'DAYS_CREDIT_ENDDATE_mean',\n",
              "                                                   'DAYS_DECISION_mean',\n",
              "                                                   'FLOORSMAX_AVG',\n",
              "                                                   'FLOORSMAX_MEDI',\n",
              "                                                   'FLOORSMAX_MODE',\n",
              "                                                   'RATE_DOWN_PAYMENT_max',\n",
              "                                                   'AMT_GOODS_PRICE',\n",
              "                                                   'OWN_CAR_AGE',\n",
              "                                                   'DAYS_CREDIT_ENDDATE_max',\n",
              "                                                   'HOUR_APPR_PROCESS_START_mean', ...]),\n",
              "                                                 ('bin',\n",
              "                                                  Pipeline(steps=[('imputer',\n",
              "                                                                   SimpleImputer(strategy='most_frequent'))]),\n",
              "                                                  [])])),\n",
              "                ('model',\n",
              "                 LogisticRegression(class_weight='balanced', max_iter=1000))])"
            ],
            "text/html": [
              "<style>#sk-container-id-1 {\n",
              "  /* Definition of color scheme common for light and dark mode */\n",
              "  --sklearn-color-text: #000;\n",
              "  --sklearn-color-text-muted: #666;\n",
              "  --sklearn-color-line: gray;\n",
              "  /* Definition of color scheme for unfitted estimators */\n",
              "  --sklearn-color-unfitted-level-0: #fff5e6;\n",
              "  --sklearn-color-unfitted-level-1: #f6e4d2;\n",
              "  --sklearn-color-unfitted-level-2: #ffe0b3;\n",
              "  --sklearn-color-unfitted-level-3: chocolate;\n",
              "  /* Definition of color scheme for fitted estimators */\n",
              "  --sklearn-color-fitted-level-0: #f0f8ff;\n",
              "  --sklearn-color-fitted-level-1: #d4ebff;\n",
              "  --sklearn-color-fitted-level-2: #b3dbfd;\n",
              "  --sklearn-color-fitted-level-3: cornflowerblue;\n",
              "\n",
              "  /* Specific color for light theme */\n",
              "  --sklearn-color-text-on-default-background: var(--sg-text-color, var(--theme-code-foreground, var(--jp-content-font-color1, black)));\n",
              "  --sklearn-color-background: var(--sg-background-color, var(--theme-background, var(--jp-layout-color0, white)));\n",
              "  --sklearn-color-border-box: var(--sg-text-color, var(--theme-code-foreground, var(--jp-content-font-color1, black)));\n",
              "  --sklearn-color-icon: #696969;\n",
              "\n",
              "  @media (prefers-color-scheme: dark) {\n",
              "    /* Redefinition of color scheme for dark theme */\n",
              "    --sklearn-color-text-on-default-background: var(--sg-text-color, var(--theme-code-foreground, var(--jp-content-font-color1, white)));\n",
              "    --sklearn-color-background: var(--sg-background-color, var(--theme-background, var(--jp-layout-color0, #111)));\n",
              "    --sklearn-color-border-box: var(--sg-text-color, var(--theme-code-foreground, var(--jp-content-font-color1, white)));\n",
              "    --sklearn-color-icon: #878787;\n",
              "  }\n",
              "}\n",
              "\n",
              "#sk-container-id-1 {\n",
              "  color: var(--sklearn-color-text);\n",
              "}\n",
              "\n",
              "#sk-container-id-1 pre {\n",
              "  padding: 0;\n",
              "}\n",
              "\n",
              "#sk-container-id-1 input.sk-hidden--visually {\n",
              "  border: 0;\n",
              "  clip: rect(1px 1px 1px 1px);\n",
              "  clip: rect(1px, 1px, 1px, 1px);\n",
              "  height: 1px;\n",
              "  margin: -1px;\n",
              "  overflow: hidden;\n",
              "  padding: 0;\n",
              "  position: absolute;\n",
              "  width: 1px;\n",
              "}\n",
              "\n",
              "#sk-container-id-1 div.sk-dashed-wrapped {\n",
              "  border: 1px dashed var(--sklearn-color-line);\n",
              "  margin: 0 0.4em 0.5em 0.4em;\n",
              "  box-sizing: border-box;\n",
              "  padding-bottom: 0.4em;\n",
              "  background-color: var(--sklearn-color-background);\n",
              "}\n",
              "\n",
              "#sk-container-id-1 div.sk-container {\n",
              "  /* jupyter's `normalize.less` sets `[hidden] { display: none; }`\n",
              "     but bootstrap.min.css set `[hidden] { display: none !important; }`\n",
              "     so we also need the `!important` here to be able to override the\n",
              "     default hidden behavior on the sphinx rendered scikit-learn.org.\n",
              "     See: https://github.com/scikit-learn/scikit-learn/issues/21755 */\n",
              "  display: inline-block !important;\n",
              "  position: relative;\n",
              "}\n",
              "\n",
              "#sk-container-id-1 div.sk-text-repr-fallback {\n",
              "  display: none;\n",
              "}\n",
              "\n",
              "div.sk-parallel-item,\n",
              "div.sk-serial,\n",
              "div.sk-item {\n",
              "  /* draw centered vertical line to link estimators */\n",
              "  background-image: linear-gradient(var(--sklearn-color-text-on-default-background), var(--sklearn-color-text-on-default-background));\n",
              "  background-size: 2px 100%;\n",
              "  background-repeat: no-repeat;\n",
              "  background-position: center center;\n",
              "}\n",
              "\n",
              "/* Parallel-specific style estimator block */\n",
              "\n",
              "#sk-container-id-1 div.sk-parallel-item::after {\n",
              "  content: \"\";\n",
              "  width: 100%;\n",
              "  border-bottom: 2px solid var(--sklearn-color-text-on-default-background);\n",
              "  flex-grow: 1;\n",
              "}\n",
              "\n",
              "#sk-container-id-1 div.sk-parallel {\n",
              "  display: flex;\n",
              "  align-items: stretch;\n",
              "  justify-content: center;\n",
              "  background-color: var(--sklearn-color-background);\n",
              "  position: relative;\n",
              "}\n",
              "\n",
              "#sk-container-id-1 div.sk-parallel-item {\n",
              "  display: flex;\n",
              "  flex-direction: column;\n",
              "}\n",
              "\n",
              "#sk-container-id-1 div.sk-parallel-item:first-child::after {\n",
              "  align-self: flex-end;\n",
              "  width: 50%;\n",
              "}\n",
              "\n",
              "#sk-container-id-1 div.sk-parallel-item:last-child::after {\n",
              "  align-self: flex-start;\n",
              "  width: 50%;\n",
              "}\n",
              "\n",
              "#sk-container-id-1 div.sk-parallel-item:only-child::after {\n",
              "  width: 0;\n",
              "}\n",
              "\n",
              "/* Serial-specific style estimator block */\n",
              "\n",
              "#sk-container-id-1 div.sk-serial {\n",
              "  display: flex;\n",
              "  flex-direction: column;\n",
              "  align-items: center;\n",
              "  background-color: var(--sklearn-color-background);\n",
              "  padding-right: 1em;\n",
              "  padding-left: 1em;\n",
              "}\n",
              "\n",
              "\n",
              "/* Toggleable style: style used for estimator/Pipeline/ColumnTransformer box that is\n",
              "clickable and can be expanded/collapsed.\n",
              "- Pipeline and ColumnTransformer use this feature and define the default style\n",
              "- Estimators will overwrite some part of the style using the `sk-estimator` class\n",
              "*/\n",
              "\n",
              "/* Pipeline and ColumnTransformer style (default) */\n",
              "\n",
              "#sk-container-id-1 div.sk-toggleable {\n",
              "  /* Default theme specific background. It is overwritten whether we have a\n",
              "  specific estimator or a Pipeline/ColumnTransformer */\n",
              "  background-color: var(--sklearn-color-background);\n",
              "}\n",
              "\n",
              "/* Toggleable label */\n",
              "#sk-container-id-1 label.sk-toggleable__label {\n",
              "  cursor: pointer;\n",
              "  display: flex;\n",
              "  width: 100%;\n",
              "  margin-bottom: 0;\n",
              "  padding: 0.5em;\n",
              "  box-sizing: border-box;\n",
              "  text-align: center;\n",
              "  align-items: start;\n",
              "  justify-content: space-between;\n",
              "  gap: 0.5em;\n",
              "}\n",
              "\n",
              "#sk-container-id-1 label.sk-toggleable__label .caption {\n",
              "  font-size: 0.6rem;\n",
              "  font-weight: lighter;\n",
              "  color: var(--sklearn-color-text-muted);\n",
              "}\n",
              "\n",
              "#sk-container-id-1 label.sk-toggleable__label-arrow:before {\n",
              "  /* Arrow on the left of the label */\n",
              "  content: \"▸\";\n",
              "  float: left;\n",
              "  margin-right: 0.25em;\n",
              "  color: var(--sklearn-color-icon);\n",
              "}\n",
              "\n",
              "#sk-container-id-1 label.sk-toggleable__label-arrow:hover:before {\n",
              "  color: var(--sklearn-color-text);\n",
              "}\n",
              "\n",
              "/* Toggleable content - dropdown */\n",
              "\n",
              "#sk-container-id-1 div.sk-toggleable__content {\n",
              "  max-height: 0;\n",
              "  max-width: 0;\n",
              "  overflow: hidden;\n",
              "  text-align: left;\n",
              "  /* unfitted */\n",
              "  background-color: var(--sklearn-color-unfitted-level-0);\n",
              "}\n",
              "\n",
              "#sk-container-id-1 div.sk-toggleable__content.fitted {\n",
              "  /* fitted */\n",
              "  background-color: var(--sklearn-color-fitted-level-0);\n",
              "}\n",
              "\n",
              "#sk-container-id-1 div.sk-toggleable__content pre {\n",
              "  margin: 0.2em;\n",
              "  border-radius: 0.25em;\n",
              "  color: var(--sklearn-color-text);\n",
              "  /* unfitted */\n",
              "  background-color: var(--sklearn-color-unfitted-level-0);\n",
              "}\n",
              "\n",
              "#sk-container-id-1 div.sk-toggleable__content.fitted pre {\n",
              "  /* unfitted */\n",
              "  background-color: var(--sklearn-color-fitted-level-0);\n",
              "}\n",
              "\n",
              "#sk-container-id-1 input.sk-toggleable__control:checked~div.sk-toggleable__content {\n",
              "  /* Expand drop-down */\n",
              "  max-height: 200px;\n",
              "  max-width: 100%;\n",
              "  overflow: auto;\n",
              "}\n",
              "\n",
              "#sk-container-id-1 input.sk-toggleable__control:checked~label.sk-toggleable__label-arrow:before {\n",
              "  content: \"▾\";\n",
              "}\n",
              "\n",
              "/* Pipeline/ColumnTransformer-specific style */\n",
              "\n",
              "#sk-container-id-1 div.sk-label input.sk-toggleable__control:checked~label.sk-toggleable__label {\n",
              "  color: var(--sklearn-color-text);\n",
              "  background-color: var(--sklearn-color-unfitted-level-2);\n",
              "}\n",
              "\n",
              "#sk-container-id-1 div.sk-label.fitted input.sk-toggleable__control:checked~label.sk-toggleable__label {\n",
              "  background-color: var(--sklearn-color-fitted-level-2);\n",
              "}\n",
              "\n",
              "/* Estimator-specific style */\n",
              "\n",
              "/* Colorize estimator box */\n",
              "#sk-container-id-1 div.sk-estimator input.sk-toggleable__control:checked~label.sk-toggleable__label {\n",
              "  /* unfitted */\n",
              "  background-color: var(--sklearn-color-unfitted-level-2);\n",
              "}\n",
              "\n",
              "#sk-container-id-1 div.sk-estimator.fitted input.sk-toggleable__control:checked~label.sk-toggleable__label {\n",
              "  /* fitted */\n",
              "  background-color: var(--sklearn-color-fitted-level-2);\n",
              "}\n",
              "\n",
              "#sk-container-id-1 div.sk-label label.sk-toggleable__label,\n",
              "#sk-container-id-1 div.sk-label label {\n",
              "  /* The background is the default theme color */\n",
              "  color: var(--sklearn-color-text-on-default-background);\n",
              "}\n",
              "\n",
              "/* On hover, darken the color of the background */\n",
              "#sk-container-id-1 div.sk-label:hover label.sk-toggleable__label {\n",
              "  color: var(--sklearn-color-text);\n",
              "  background-color: var(--sklearn-color-unfitted-level-2);\n",
              "}\n",
              "\n",
              "/* Label box, darken color on hover, fitted */\n",
              "#sk-container-id-1 div.sk-label.fitted:hover label.sk-toggleable__label.fitted {\n",
              "  color: var(--sklearn-color-text);\n",
              "  background-color: var(--sklearn-color-fitted-level-2);\n",
              "}\n",
              "\n",
              "/* Estimator label */\n",
              "\n",
              "#sk-container-id-1 div.sk-label label {\n",
              "  font-family: monospace;\n",
              "  font-weight: bold;\n",
              "  display: inline-block;\n",
              "  line-height: 1.2em;\n",
              "}\n",
              "\n",
              "#sk-container-id-1 div.sk-label-container {\n",
              "  text-align: center;\n",
              "}\n",
              "\n",
              "/* Estimator-specific */\n",
              "#sk-container-id-1 div.sk-estimator {\n",
              "  font-family: monospace;\n",
              "  border: 1px dotted var(--sklearn-color-border-box);\n",
              "  border-radius: 0.25em;\n",
              "  box-sizing: border-box;\n",
              "  margin-bottom: 0.5em;\n",
              "  /* unfitted */\n",
              "  background-color: var(--sklearn-color-unfitted-level-0);\n",
              "}\n",
              "\n",
              "#sk-container-id-1 div.sk-estimator.fitted {\n",
              "  /* fitted */\n",
              "  background-color: var(--sklearn-color-fitted-level-0);\n",
              "}\n",
              "\n",
              "/* on hover */\n",
              "#sk-container-id-1 div.sk-estimator:hover {\n",
              "  /* unfitted */\n",
              "  background-color: var(--sklearn-color-unfitted-level-2);\n",
              "}\n",
              "\n",
              "#sk-container-id-1 div.sk-estimator.fitted:hover {\n",
              "  /* fitted */\n",
              "  background-color: var(--sklearn-color-fitted-level-2);\n",
              "}\n",
              "\n",
              "/* Specification for estimator info (e.g. \"i\" and \"?\") */\n",
              "\n",
              "/* Common style for \"i\" and \"?\" */\n",
              "\n",
              ".sk-estimator-doc-link,\n",
              "a:link.sk-estimator-doc-link,\n",
              "a:visited.sk-estimator-doc-link {\n",
              "  float: right;\n",
              "  font-size: smaller;\n",
              "  line-height: 1em;\n",
              "  font-family: monospace;\n",
              "  background-color: var(--sklearn-color-background);\n",
              "  border-radius: 1em;\n",
              "  height: 1em;\n",
              "  width: 1em;\n",
              "  text-decoration: none !important;\n",
              "  margin-left: 0.5em;\n",
              "  text-align: center;\n",
              "  /* unfitted */\n",
              "  border: var(--sklearn-color-unfitted-level-1) 1pt solid;\n",
              "  color: var(--sklearn-color-unfitted-level-1);\n",
              "}\n",
              "\n",
              ".sk-estimator-doc-link.fitted,\n",
              "a:link.sk-estimator-doc-link.fitted,\n",
              "a:visited.sk-estimator-doc-link.fitted {\n",
              "  /* fitted */\n",
              "  border: var(--sklearn-color-fitted-level-1) 1pt solid;\n",
              "  color: var(--sklearn-color-fitted-level-1);\n",
              "}\n",
              "\n",
              "/* On hover */\n",
              "div.sk-estimator:hover .sk-estimator-doc-link:hover,\n",
              ".sk-estimator-doc-link:hover,\n",
              "div.sk-label-container:hover .sk-estimator-doc-link:hover,\n",
              ".sk-estimator-doc-link:hover {\n",
              "  /* unfitted */\n",
              "  background-color: var(--sklearn-color-unfitted-level-3);\n",
              "  color: var(--sklearn-color-background);\n",
              "  text-decoration: none;\n",
              "}\n",
              "\n",
              "div.sk-estimator.fitted:hover .sk-estimator-doc-link.fitted:hover,\n",
              ".sk-estimator-doc-link.fitted:hover,\n",
              "div.sk-label-container:hover .sk-estimator-doc-link.fitted:hover,\n",
              ".sk-estimator-doc-link.fitted:hover {\n",
              "  /* fitted */\n",
              "  background-color: var(--sklearn-color-fitted-level-3);\n",
              "  color: var(--sklearn-color-background);\n",
              "  text-decoration: none;\n",
              "}\n",
              "\n",
              "/* Span, style for the box shown on hovering the info icon */\n",
              ".sk-estimator-doc-link span {\n",
              "  display: none;\n",
              "  z-index: 9999;\n",
              "  position: relative;\n",
              "  font-weight: normal;\n",
              "  right: .2ex;\n",
              "  padding: .5ex;\n",
              "  margin: .5ex;\n",
              "  width: min-content;\n",
              "  min-width: 20ex;\n",
              "  max-width: 50ex;\n",
              "  color: var(--sklearn-color-text);\n",
              "  box-shadow: 2pt 2pt 4pt #999;\n",
              "  /* unfitted */\n",
              "  background: var(--sklearn-color-unfitted-level-0);\n",
              "  border: .5pt solid var(--sklearn-color-unfitted-level-3);\n",
              "}\n",
              "\n",
              ".sk-estimator-doc-link.fitted span {\n",
              "  /* fitted */\n",
              "  background: var(--sklearn-color-fitted-level-0);\n",
              "  border: var(--sklearn-color-fitted-level-3);\n",
              "}\n",
              "\n",
              ".sk-estimator-doc-link:hover span {\n",
              "  display: block;\n",
              "}\n",
              "\n",
              "/* \"?\"-specific style due to the `<a>` HTML tag */\n",
              "\n",
              "#sk-container-id-1 a.estimator_doc_link {\n",
              "  float: right;\n",
              "  font-size: 1rem;\n",
              "  line-height: 1em;\n",
              "  font-family: monospace;\n",
              "  background-color: var(--sklearn-color-background);\n",
              "  border-radius: 1rem;\n",
              "  height: 1rem;\n",
              "  width: 1rem;\n",
              "  text-decoration: none;\n",
              "  /* unfitted */\n",
              "  color: var(--sklearn-color-unfitted-level-1);\n",
              "  border: var(--sklearn-color-unfitted-level-1) 1pt solid;\n",
              "}\n",
              "\n",
              "#sk-container-id-1 a.estimator_doc_link.fitted {\n",
              "  /* fitted */\n",
              "  border: var(--sklearn-color-fitted-level-1) 1pt solid;\n",
              "  color: var(--sklearn-color-fitted-level-1);\n",
              "}\n",
              "\n",
              "/* On hover */\n",
              "#sk-container-id-1 a.estimator_doc_link:hover {\n",
              "  /* unfitted */\n",
              "  background-color: var(--sklearn-color-unfitted-level-3);\n",
              "  color: var(--sklearn-color-background);\n",
              "  text-decoration: none;\n",
              "}\n",
              "\n",
              "#sk-container-id-1 a.estimator_doc_link.fitted:hover {\n",
              "  /* fitted */\n",
              "  background-color: var(--sklearn-color-fitted-level-3);\n",
              "}\n",
              "</style><div id=\"sk-container-id-1\" class=\"sk-top-container\"><div class=\"sk-text-repr-fallback\"><pre>Pipeline(steps=[(&#x27;preprocessor&#x27;,\n",
              "                 ColumnTransformer(remainder=&#x27;passthrough&#x27;,\n",
              "                                   transformers=[(&#x27;num&#x27;,\n",
              "                                                  Pipeline(steps=[(&#x27;imputer&#x27;,\n",
              "                                                                   SimpleImputer(strategy=&#x27;median&#x27;)),\n",
              "                                                                  (&#x27;scaler&#x27;,\n",
              "                                                                   StandardScaler())]),\n",
              "                                                  [&#x27;CREDITCARD_CREDIT_UTILIZATION_MEAN&#x27;,\n",
              "                                                   &#x27;CREDITCARD_CNT_DRAWINGS_ATM_CURRENT_MEAN&#x27;,\n",
              "                                                   &#x27;CREDITCARD_CNT_DRAWINGS_CURRENT_MAX&#x27;,\n",
              "                                                   &#x27;CREDITCARD_CREDIT_UTILIZATION_MAX&#x27;,\n",
              "                                                   &#x27;DAYS_CRE...\n",
              "                                                   &#x27;DAYS_CREDIT_ENDDATE_mean&#x27;,\n",
              "                                                   &#x27;DAYS_DECISION_mean&#x27;,\n",
              "                                                   &#x27;FLOORSMAX_AVG&#x27;,\n",
              "                                                   &#x27;FLOORSMAX_MEDI&#x27;,\n",
              "                                                   &#x27;FLOORSMAX_MODE&#x27;,\n",
              "                                                   &#x27;RATE_DOWN_PAYMENT_max&#x27;,\n",
              "                                                   &#x27;AMT_GOODS_PRICE&#x27;,\n",
              "                                                   &#x27;OWN_CAR_AGE&#x27;,\n",
              "                                                   &#x27;DAYS_CREDIT_ENDDATE_max&#x27;,\n",
              "                                                   &#x27;HOUR_APPR_PROCESS_START_mean&#x27;, ...]),\n",
              "                                                 (&#x27;bin&#x27;,\n",
              "                                                  Pipeline(steps=[(&#x27;imputer&#x27;,\n",
              "                                                                   SimpleImputer(strategy=&#x27;most_frequent&#x27;))]),\n",
              "                                                  [])])),\n",
              "                (&#x27;model&#x27;,\n",
              "                 LogisticRegression(class_weight=&#x27;balanced&#x27;, max_iter=1000))])</pre><b>In a Jupyter environment, please rerun this cell to show the HTML representation or trust the notebook. <br />On GitHub, the HTML representation is unable to render, please try loading this page with nbviewer.org.</b></div><div class=\"sk-container\" hidden><div class=\"sk-item sk-dashed-wrapped\"><div class=\"sk-label-container\"><div class=\"sk-label fitted sk-toggleable\"><input class=\"sk-toggleable__control sk-hidden--visually\" id=\"sk-estimator-id-1\" type=\"checkbox\" ><label for=\"sk-estimator-id-1\" class=\"sk-toggleable__label fitted sk-toggleable__label-arrow\"><div><div>Pipeline</div></div><div><a class=\"sk-estimator-doc-link fitted\" rel=\"noreferrer\" target=\"_blank\" href=\"https://scikit-learn.org/1.6/modules/generated/sklearn.pipeline.Pipeline.html\">?<span>Documentation for Pipeline</span></a><span class=\"sk-estimator-doc-link fitted\">i<span>Fitted</span></span></div></label><div class=\"sk-toggleable__content fitted\"><pre>Pipeline(steps=[(&#x27;preprocessor&#x27;,\n",
              "                 ColumnTransformer(remainder=&#x27;passthrough&#x27;,\n",
              "                                   transformers=[(&#x27;num&#x27;,\n",
              "                                                  Pipeline(steps=[(&#x27;imputer&#x27;,\n",
              "                                                                   SimpleImputer(strategy=&#x27;median&#x27;)),\n",
              "                                                                  (&#x27;scaler&#x27;,\n",
              "                                                                   StandardScaler())]),\n",
              "                                                  [&#x27;CREDITCARD_CREDIT_UTILIZATION_MEAN&#x27;,\n",
              "                                                   &#x27;CREDITCARD_CNT_DRAWINGS_ATM_CURRENT_MEAN&#x27;,\n",
              "                                                   &#x27;CREDITCARD_CNT_DRAWINGS_CURRENT_MAX&#x27;,\n",
              "                                                   &#x27;CREDITCARD_CREDIT_UTILIZATION_MAX&#x27;,\n",
              "                                                   &#x27;DAYS_CRE...\n",
              "                                                   &#x27;DAYS_CREDIT_ENDDATE_mean&#x27;,\n",
              "                                                   &#x27;DAYS_DECISION_mean&#x27;,\n",
              "                                                   &#x27;FLOORSMAX_AVG&#x27;,\n",
              "                                                   &#x27;FLOORSMAX_MEDI&#x27;,\n",
              "                                                   &#x27;FLOORSMAX_MODE&#x27;,\n",
              "                                                   &#x27;RATE_DOWN_PAYMENT_max&#x27;,\n",
              "                                                   &#x27;AMT_GOODS_PRICE&#x27;,\n",
              "                                                   &#x27;OWN_CAR_AGE&#x27;,\n",
              "                                                   &#x27;DAYS_CREDIT_ENDDATE_max&#x27;,\n",
              "                                                   &#x27;HOUR_APPR_PROCESS_START_mean&#x27;, ...]),\n",
              "                                                 (&#x27;bin&#x27;,\n",
              "                                                  Pipeline(steps=[(&#x27;imputer&#x27;,\n",
              "                                                                   SimpleImputer(strategy=&#x27;most_frequent&#x27;))]),\n",
              "                                                  [])])),\n",
              "                (&#x27;model&#x27;,\n",
              "                 LogisticRegression(class_weight=&#x27;balanced&#x27;, max_iter=1000))])</pre></div> </div></div><div class=\"sk-serial\"><div class=\"sk-item sk-dashed-wrapped\"><div class=\"sk-label-container\"><div class=\"sk-label fitted sk-toggleable\"><input class=\"sk-toggleable__control sk-hidden--visually\" id=\"sk-estimator-id-2\" type=\"checkbox\" ><label for=\"sk-estimator-id-2\" class=\"sk-toggleable__label fitted sk-toggleable__label-arrow\"><div><div>preprocessor: ColumnTransformer</div></div><div><a class=\"sk-estimator-doc-link fitted\" rel=\"noreferrer\" target=\"_blank\" href=\"https://scikit-learn.org/1.6/modules/generated/sklearn.compose.ColumnTransformer.html\">?<span>Documentation for preprocessor: ColumnTransformer</span></a></div></label><div class=\"sk-toggleable__content fitted\"><pre>ColumnTransformer(remainder=&#x27;passthrough&#x27;,\n",
              "                  transformers=[(&#x27;num&#x27;,\n",
              "                                 Pipeline(steps=[(&#x27;imputer&#x27;,\n",
              "                                                  SimpleImputer(strategy=&#x27;median&#x27;)),\n",
              "                                                 (&#x27;scaler&#x27;, StandardScaler())]),\n",
              "                                 [&#x27;CREDITCARD_CREDIT_UTILIZATION_MEAN&#x27;,\n",
              "                                  &#x27;CREDITCARD_CNT_DRAWINGS_ATM_CURRENT_MEAN&#x27;,\n",
              "                                  &#x27;CREDITCARD_CNT_DRAWINGS_CURRENT_MAX&#x27;,\n",
              "                                  &#x27;CREDITCARD_CREDIT_UTILIZATION_MAX&#x27;,\n",
              "                                  &#x27;DAYS_CREDIT_mean&#x27;,\n",
              "                                  &#x27;CREDITCARD_CNT_DRAWIN...\n",
              "                                  &#x27;DAYS_ENDDATE_FACT_mean&#x27;, &#x27;DAYS_CREDIT_std&#x27;,\n",
              "                                  &#x27;DAYS_CREDIT_max&#x27;, &#x27;DAYS_CREDIT_ENDDATE_mean&#x27;,\n",
              "                                  &#x27;DAYS_DECISION_mean&#x27;, &#x27;FLOORSMAX_AVG&#x27;,\n",
              "                                  &#x27;FLOORSMAX_MEDI&#x27;, &#x27;FLOORSMAX_MODE&#x27;,\n",
              "                                  &#x27;RATE_DOWN_PAYMENT_max&#x27;, &#x27;AMT_GOODS_PRICE&#x27;,\n",
              "                                  &#x27;OWN_CAR_AGE&#x27;, &#x27;DAYS_CREDIT_ENDDATE_max&#x27;,\n",
              "                                  &#x27;HOUR_APPR_PROCESS_START_mean&#x27;, ...]),\n",
              "                                (&#x27;bin&#x27;,\n",
              "                                 Pipeline(steps=[(&#x27;imputer&#x27;,\n",
              "                                                  SimpleImputer(strategy=&#x27;most_frequent&#x27;))]),\n",
              "                                 [])])</pre></div> </div></div><div class=\"sk-parallel\"><div class=\"sk-parallel-item\"><div class=\"sk-item\"><div class=\"sk-label-container\"><div class=\"sk-label fitted sk-toggleable\"><input class=\"sk-toggleable__control sk-hidden--visually\" id=\"sk-estimator-id-3\" type=\"checkbox\" ><label for=\"sk-estimator-id-3\" class=\"sk-toggleable__label fitted sk-toggleable__label-arrow\"><div><div>num</div></div></label><div class=\"sk-toggleable__content fitted\"><pre>[&#x27;CREDITCARD_CREDIT_UTILIZATION_MEAN&#x27;, &#x27;CREDITCARD_CNT_DRAWINGS_ATM_CURRENT_MEAN&#x27;, &#x27;CREDITCARD_CNT_DRAWINGS_CURRENT_MAX&#x27;, &#x27;CREDITCARD_CREDIT_UTILIZATION_MAX&#x27;, &#x27;DAYS_CREDIT_mean&#x27;, &#x27;CREDITCARD_CNT_DRAWINGS_CURRENT_MEAN&#x27;, &#x27;CREDIT_ACTIVE_Closed_mean&#x27;, &#x27;CREDIT_ACTIVE_Active_mean&#x27;, &#x27;DAYS_CREDIT_min&#x27;, &#x27;CREDITCARD_AMT_INST_MIN_REGULARITY_MEAN&#x27;, &#x27;CREDITCARD_CREDIT_UTILIZATION_STD&#x27;, &#x27;DAYS_CREDIT_UPDATE_mean&#x27;, &#x27;CREDITCARD_CNT_DRAWINGS_ATM_CURRENT_MAX&#x27;, &#x27;DAYS_ENDDATE_FACT_min&#x27;, &#x27;MONTHS_BALANCE_min&#x27;, &#x27;DAYS_LAST_PHONE_CHANGE&#x27;, &#x27;DAYS_DECISION_min&#x27;, &#x27;DAYS_ENDDATE_FACT_mean&#x27;, &#x27;DAYS_CREDIT_std&#x27;, &#x27;DAYS_CREDIT_max&#x27;, &#x27;DAYS_CREDIT_ENDDATE_mean&#x27;, &#x27;DAYS_DECISION_mean&#x27;, &#x27;FLOORSMAX_AVG&#x27;, &#x27;FLOORSMAX_MEDI&#x27;, &#x27;FLOORSMAX_MODE&#x27;, &#x27;RATE_DOWN_PAYMENT_max&#x27;, &#x27;AMT_GOODS_PRICE&#x27;, &#x27;OWN_CAR_AGE&#x27;, &#x27;DAYS_CREDIT_ENDDATE_max&#x27;, &#x27;HOUR_APPR_PROCESS_START_mean&#x27;, &#x27;MONTHS_BALANCE_size&#x27;, &#x27;APP_CREDIT_PERC_mean&#x27;, &#x27;AMT_ANNUITY_mean_y&#x27;, &#x27;DAYS_CREDIT_ENDDATE_min&#x27;, &#x27;ELEVATORS_AVG&#x27;, &#x27;ELEVATORS_MEDI&#x27;, &#x27;FLOORSMIN_AVG&#x27;, &#x27;RATE_DOWN_PAYMENT_mean&#x27;, &#x27;FLOORSMIN_MEDI&#x27;, &#x27;LIVINGAREA_AVG&#x27;, &#x27;LIVINGAREA_MEDI&#x27;, &#x27;FLOORSMIN_MODE&#x27;, &#x27;TOTALAREA_MODE&#x27;, &#x27;AMT_ANNUITY_min&#x27;, &#x27;DEF_30_CNT_SOCIAL_CIRCLE&#x27;, &#x27;ELEVATORS_MODE&#x27;, &#x27;HOUR_APPR_PROCESS_START_min&#x27;, &#x27;DEF_60_CNT_SOCIAL_CIRCLE&#x27;, &#x27;APP_CREDIT_PERC_max&#x27;, &#x27;HOUR_APPR_PROCESS_START_max&#x27;, &#x27;LIVINGAREA_MODE&#x27;, &#x27;APARTMENTS_AVG&#x27;, &#x27;PAYMENT_DIFF_MEAN&#x27;, &#x27;APARTMENTS_MEDI&#x27;, &#x27;AMT_ANNUITY_max_y&#x27;, &#x27;CNT_PAYMENT_mean&#x27;, &#x27;CNT_PAYMENT_sum&#x27;, &#x27;PAYMENT_DIFF_SUM&#x27;, &#x27;APARTMENTS_MODE&#x27;, &#x27;AMT_PAYMENT_MIN&#x27;]</pre></div> </div></div><div class=\"sk-serial\"><div class=\"sk-item\"><div class=\"sk-serial\"><div class=\"sk-item\"><div class=\"sk-estimator fitted sk-toggleable\"><input class=\"sk-toggleable__control sk-hidden--visually\" id=\"sk-estimator-id-4\" type=\"checkbox\" ><label for=\"sk-estimator-id-4\" class=\"sk-toggleable__label fitted sk-toggleable__label-arrow\"><div><div>SimpleImputer</div></div><div><a class=\"sk-estimator-doc-link fitted\" rel=\"noreferrer\" target=\"_blank\" href=\"https://scikit-learn.org/1.6/modules/generated/sklearn.impute.SimpleImputer.html\">?<span>Documentation for SimpleImputer</span></a></div></label><div class=\"sk-toggleable__content fitted\"><pre>SimpleImputer(strategy=&#x27;median&#x27;)</pre></div> </div></div><div class=\"sk-item\"><div class=\"sk-estimator fitted sk-toggleable\"><input class=\"sk-toggleable__control sk-hidden--visually\" id=\"sk-estimator-id-5\" type=\"checkbox\" ><label for=\"sk-estimator-id-5\" class=\"sk-toggleable__label fitted sk-toggleable__label-arrow\"><div><div>StandardScaler</div></div><div><a class=\"sk-estimator-doc-link fitted\" rel=\"noreferrer\" target=\"_blank\" href=\"https://scikit-learn.org/1.6/modules/generated/sklearn.preprocessing.StandardScaler.html\">?<span>Documentation for StandardScaler</span></a></div></label><div class=\"sk-toggleable__content fitted\"><pre>StandardScaler()</pre></div> </div></div></div></div></div></div></div><div class=\"sk-parallel-item\"><div class=\"sk-item\"><div class=\"sk-label-container\"><div class=\"sk-label fitted sk-toggleable\"><input class=\"sk-toggleable__control sk-hidden--visually\" id=\"sk-estimator-id-6\" type=\"checkbox\" ><label for=\"sk-estimator-id-6\" class=\"sk-toggleable__label fitted sk-toggleable__label-arrow\"><div><div>bin</div></div></label><div class=\"sk-toggleable__content fitted\"><pre>[]</pre></div> </div></div><div class=\"sk-serial\"><div class=\"sk-item\"><div class=\"sk-serial\"><div class=\"sk-item\"><div class=\"sk-estimator fitted sk-toggleable\"><input class=\"sk-toggleable__control sk-hidden--visually\" id=\"sk-estimator-id-7\" type=\"checkbox\" ><label for=\"sk-estimator-id-7\" class=\"sk-toggleable__label fitted sk-toggleable__label-arrow\"><div><div>SimpleImputer</div></div><div><a class=\"sk-estimator-doc-link fitted\" rel=\"noreferrer\" target=\"_blank\" href=\"https://scikit-learn.org/1.6/modules/generated/sklearn.impute.SimpleImputer.html\">?<span>Documentation for SimpleImputer</span></a></div></label><div class=\"sk-toggleable__content fitted\"><pre>SimpleImputer(strategy=&#x27;most_frequent&#x27;)</pre></div> </div></div></div></div></div></div></div><div class=\"sk-parallel-item\"><div class=\"sk-item\"><div class=\"sk-label-container\"><div class=\"sk-label fitted sk-toggleable\"><input class=\"sk-toggleable__control sk-hidden--visually\" id=\"sk-estimator-id-8\" type=\"checkbox\" ><label for=\"sk-estimator-id-8\" class=\"sk-toggleable__label fitted sk-toggleable__label-arrow\"><div><div>remainder</div></div></label><div class=\"sk-toggleable__content fitted\"><pre>[&#x27;EXT_SOURCE_2&#x27;, &#x27;EXT_SOURCE_3&#x27;, &#x27;EXT_SOURCE_1&#x27;, &#x27;DAYS_BIRTH&#x27;, &#x27;REGION_RATING_CLIENT_W_CITY&#x27;, &#x27;REGION_RATING_CLIENT&#x27;, &#x27;NAME_INCOME_TYPE_Working&#x27;, &#x27;NAME_EDUCATION_TYPE_Higher education&#x27;, &#x27;CODE_GENDER_M&#x27;, &#x27;CODE_GENDER_F&#x27;, &#x27;DAYS_ID_PUBLISH&#x27;, &#x27;REG_CITY_NOT_WORK_CITY&#x27;, &#x27;NAME_EDUCATION_TYPE_Secondary / secondary special&#x27;, &#x27;NAME_INCOME_TYPE_Pensioner&#x27;, &#x27;DAYS_EMPLOYED&#x27;, &#x27;ORGANIZATION_TYPE_XNA&#x27;, &#x27;FLAG_EMP_PHONE&#x27;, &#x27;REG_CITY_NOT_LIVE_CITY&#x27;, &#x27;FLAG_DOCUMENT_3&#x27;, &#x27;OCCUPATION_TYPE_Laborers&#x27;, &#x27;DAYS_REGISTRATION&#x27;, &#x27;HOUSETYPE_MODE_block of flats&#x27;, &#x27;HOUSETYPE_MODE_nan&#x27;, &#x27;WALLSMATERIAL_MODE_nan&#x27;, &#x27;OCCUPATION_TYPE_nan&#x27;, &#x27;REGION_POPULATION_RELATIVE&#x27;, &#x27;EMPLOYABILITY_STABILITY&#x27;, &#x27;WALLSMATERIAL_MODE_Panel&#x27;, &#x27;LIVE_CITY_NOT_WORK_CITY&#x27;, &#x27;NAME_CONTRACT_TYPE&#x27;, &#x27;AMT_CREDIT&#x27;, &#x27;OCCUPATION_TYPE_Drivers&#x27;, &#x27;NAME_HOUSING_TYPE_With parents&#x27;, &#x27;FONDKAPREMONT_MODE_nan&#x27;, &#x27;ORGANIZATION_TYPE_Self-employed&#x27;, &#x27;FLAG_DOCUMENT_6&#x27;, &#x27;NAME_HOUSING_TYPE_House / apartment&#x27;, &#x27;FLAG_WORK_PHONE&#x27;, &#x27;OCCUPATION_TYPE_Low-skill Laborers&#x27;, &#x27;NAME_FAMILY_STATUS_Single / not married&#x27;]</pre></div> </div></div><div class=\"sk-serial\"><div class=\"sk-item\"><div class=\"sk-estimator fitted sk-toggleable\"><input class=\"sk-toggleable__control sk-hidden--visually\" id=\"sk-estimator-id-9\" type=\"checkbox\" ><label for=\"sk-estimator-id-9\" class=\"sk-toggleable__label fitted sk-toggleable__label-arrow\"><div><div>passthrough</div></div></label><div class=\"sk-toggleable__content fitted\"><pre>passthrough</pre></div> </div></div></div></div></div></div></div><div class=\"sk-item\"><div class=\"sk-estimator fitted sk-toggleable\"><input class=\"sk-toggleable__control sk-hidden--visually\" id=\"sk-estimator-id-10\" type=\"checkbox\" ><label for=\"sk-estimator-id-10\" class=\"sk-toggleable__label fitted sk-toggleable__label-arrow\"><div><div>LogisticRegression</div></div><div><a class=\"sk-estimator-doc-link fitted\" rel=\"noreferrer\" target=\"_blank\" href=\"https://scikit-learn.org/1.6/modules/generated/sklearn.linear_model.LogisticRegression.html\">?<span>Documentation for LogisticRegression</span></a></div></label><div class=\"sk-toggleable__content fitted\"><pre>LogisticRegression(class_weight=&#x27;balanced&#x27;, max_iter=1000)</pre></div> </div></div></div></div></div></div>"
            ]
          },
          "metadata": {},
          "execution_count": 17
        }
      ],
      "source": [
        "clf.fit(X_train, y_train)"
      ]
    },
    {
      "cell_type": "markdown",
      "id": "NgWvgaVbGmsa",
      "metadata": {
        "id": "NgWvgaVbGmsa"
      },
      "source": [
        "Evaluons les perfomances de ce premier modèle"
      ]
    },
    {
      "cell_type": "code",
      "execution_count": null,
      "id": "f8llgVe_Gp8P",
      "metadata": {
        "id": "f8llgVe_Gp8P"
      },
      "outputs": [],
      "source": [
        "# 1- Prédictions\n",
        "y_pred = clf.predict(X_test)\n",
        "y_proba = clf.predict_proba(X_test)[:, 1]"
      ]
    },
    {
      "cell_type": "code",
      "execution_count": null,
      "id": "A7_rFFJuGslX",
      "metadata": {
        "id": "A7_rFFJuGslX"
      },
      "outputs": [],
      "source": [
        "from sklearn.metrics import classification_report, roc_auc_score, confusion_matrix, RocCurveDisplay, fbeta_score"
      ]
    },
    {
      "cell_type": "code",
      "execution_count": null,
      "id": "unVzwLJyGvEy",
      "metadata": {
        "colab": {
          "base_uri": "https://localhost:8080/"
        },
        "id": "unVzwLJyGvEy",
        "outputId": "79214a0d-14f3-4181-c4fa-6847ab50cc90"
      },
      "outputs": [
        {
          "output_type": "stream",
          "name": "stdout",
          "text": [
            "F2-score : 0.16219535329532633\n"
          ]
        }
      ],
      "source": [
        "# 2- Évaluation des performances\n",
        "# f0.5_score\n",
        "f2 = fbeta_score(y_test, y_pred, beta=0.5)\n",
        "print(\"F2-score :\", f2)"
      ]
    },
    {
      "cell_type": "code",
      "execution_count": null,
      "id": "LP2EiEo3GxOP",
      "metadata": {
        "colab": {
          "base_uri": "https://localhost:8080/",
          "height": 449
        },
        "id": "LP2EiEo3GxOP",
        "outputId": "1e8e2250-79a5-4715-8620-adc6482fed8c"
      },
      "outputs": [
        {
          "output_type": "display_data",
          "data": {
            "text/plain": [
              "<Figure size 640x480 with 2 Axes>"
            ],
            "image/png": "[encoded data removed]"
          },
          "metadata": {}
        }
      ],
      "source": [
        "# matrice de confusion\n",
        "cm = confusion_matrix(y_test, y_pred)\n",
        "import seaborn as sns\n",
        "import matplotlib.pyplot as plt\n",
        "sns.heatmap(cm, annot=True, fmt=\"d\", cmap=\"Blues\")\n",
        "plt.xlabel(\"Prédit\")\n",
        "plt.ylabel(\"Réel\")\n",
        "plt.show()"
      ]
    },
    {
      "cell_type": "markdown",
      "id": "0091i_mBvy4l",
      "metadata": {
        "id": "0091i_mBvy4l"
      },
      "source": [
        "On a 20553 FP, ils ont été classés mauvais payeurs alors qu'ils étaient solvables\n",
        "On a 1700 FN, ils sont été classés solvables alors qu'ils ne le sont pas."
      ]
    },
    {
      "cell_type": "code",
      "execution_count": null,
      "id": "zsEYZfoSG2Mi",
      "metadata": {
        "colab": {
          "base_uri": "https://localhost:8080/",
          "height": 468
        },
        "id": "zsEYZfoSG2Mi",
        "outputId": "765e7f5f-cd5b-43fa-817d-1ded81c8bc97"
      },
      "outputs": [
        {
          "output_type": "stream",
          "name": "stdout",
          "text": [
            "AUC-ROC : 0.7041473201711388\n"
          ]
        },
        {
          "output_type": "display_data",
          "data": {
            "text/plain": [
              "<Figure size 640x480 with 1 Axes>"
            ],
            "image/png": "[encoded data removed]"
          },
          "metadata": {}
        }
      ],
      "source": [
        "# auc-roc\n",
        "auc_roc = roc_auc_score(y_test, y_proba)\n",
        "print(\"AUC-ROC :\", auc_roc)\n",
        "RocCurveDisplay.from_predictions(y_test, y_proba)\n",
        "plt.show()"
      ]
    },
    {
      "cell_type": "code",
      "execution_count": null,
      "id": "MmgwZL5t87j3",
      "metadata": {
        "colab": {
          "base_uri": "https://localhost:8080/",
          "height": 363
        },
        "id": "MmgwZL5t87j3",
        "outputId": "96a309dd-8bb7-40e4-c129-a749f1018cc9"
      },
      "outputs": [
        {
          "output_type": "execute_result",
          "data": {
            "text/plain": [
              "                         Feature  Importance\n",
              "64        RATE_DOWN_PAYMENT_mean    0.136959\n",
              "65                FLOORSMIN_MEDI    0.134157\n",
              "56  HOUR_APPR_PROCESS_START_mean    0.120905\n",
              "55       EMPLOYABILITY_STABILITY    0.112531\n",
              "68               LIVINGAREA_MEDI    0.104724\n",
              "72               AMT_ANNUITY_min    0.103810\n",
              "78           APP_CREDIT_PERC_max    0.096178\n",
              "15       DAYS_CREDIT_UPDATE_mean    0.095592\n",
              "0                   EXT_SOURCE_2    0.093234\n",
              "66      WALLSMATERIAL_MODE_Panel    0.092860"
            ],
            "text/html": [
              "\n",
              "  <div id=\"df-2220cfe5-032f-48e0-a568-5bfea20f866c\" class=\"colab-df-container\">\n",
              "    <div>\n",
              "<style scoped>\n",
              "    .dataframe tbody tr th:only-of-type {\n",
              "        vertical-align: middle;\n",
              "    }\n",
              "\n",
              "    .dataframe tbody tr th {\n",
              "        vertical-align: top;\n",
              "    }\n",
              "\n",
              "    .dataframe thead th {\n",
              "        text-align: right;\n",
              "    }\n",
              "</style>\n",
              "<table border=\"1\" class=\"dataframe\">\n",
              "  <thead>\n",
              "    <tr style=\"text-align: right;\">\n",
              "      <th></th>\n",
              "      <th>Feature</th>\n",
              "      <th>Importance</th>\n",
              "    </tr>\n",
              "  </thead>\n",
              "  <tbody>\n",
              "    <tr>\n",
              "      <th>64</th>\n",
              "      <td>RATE_DOWN_PAYMENT_mean</td>\n",
              "      <td>0.136959</td>\n",
              "    </tr>\n",
              "    <tr>\n",
              "      <th>65</th>\n",
              "      <td>FLOORSMIN_MEDI</td>\n",
              "      <td>0.134157</td>\n",
              "    </tr>\n",
              "    <tr>\n",
              "      <th>56</th>\n",
              "      <td>HOUR_APPR_PROCESS_START_mean</td>\n",
              "      <td>0.120905</td>\n",
              "    </tr>\n",
              "    <tr>\n",
              "      <th>55</th>\n",
              "      <td>EMPLOYABILITY_STABILITY</td>\n",
              "      <td>0.112531</td>\n",
              "    </tr>\n",
              "    <tr>\n",
              "      <th>68</th>\n",
              "      <td>LIVINGAREA_MEDI</td>\n",
              "      <td>0.104724</td>\n",
              "    </tr>\n",
              "    <tr>\n",
              "      <th>72</th>\n",
              "      <td>AMT_ANNUITY_min</td>\n",
              "      <td>0.103810</td>\n",
              "    </tr>\n",
              "    <tr>\n",
              "      <th>78</th>\n",
              "      <td>APP_CREDIT_PERC_max</td>\n",
              "      <td>0.096178</td>\n",
              "    </tr>\n",
              "    <tr>\n",
              "      <th>15</th>\n",
              "      <td>DAYS_CREDIT_UPDATE_mean</td>\n",
              "      <td>0.095592</td>\n",
              "    </tr>\n",
              "    <tr>\n",
              "      <th>0</th>\n",
              "      <td>EXT_SOURCE_2</td>\n",
              "      <td>0.093234</td>\n",
              "    </tr>\n",
              "    <tr>\n",
              "      <th>66</th>\n",
              "      <td>WALLSMATERIAL_MODE_Panel</td>\n",
              "      <td>0.092860</td>\n",
              "    </tr>\n",
              "  </tbody>\n",
              "</table>\n",
              "</div>\n",
              "    <div class=\"colab-df-buttons\">\n",
              "\n",
              "  <div class=\"colab-df-container\">\n",
              "    <button class=\"colab-df-convert\" onclick=\"convertToInteractive('df-2220cfe5-032f-48e0-a568-5bfea20f866c')\"\n",
              "            title=\"Convert this dataframe to an interactive table.\"\n",
              "            style=\"display:none;\">\n",
              "\n",
              "  <svg xmlns=\"http://www.w3.org/2000/svg\" height=\"24px\" viewBox=\"0 -960 960 960\">\n",
              "    <path d=\"M120-120v-720h720v720H120Zm60-500h600v-160H180v160Zm220 220h160v-160H400v160Zm0 220h160v-160H400v160ZM180-400h160v-160H180v160Zm440 0h160v-160H620v160ZM180-180h160v-160H180v160Zm440 0h160v-160H620v160Z\"/>\n",
              "  </svg>\n",
              "    </button>\n",
              "\n",
              "  <style>\n",
              "    .colab-df-container {\n",
              "      display:flex;\n",
              "      gap: 12px;\n",
              "    }\n",
              "\n",
              "    .colab-df-convert {\n",
              "      background-color: #E8F0FE;\n",
              "      border: none;\n",
              "      border-radius: 50%;\n",
              "      cursor: pointer;\n",
              "      display: none;\n",
              "      fill: #1967D2;\n",
              "      height: 32px;\n",
              "      padding: 0 0 0 0;\n",
              "      width: 32px;\n",
              "    }\n",
              "\n",
              "    .colab-df-convert:hover {\n",
              "      background-color: #E2EBFA;\n",
              "      box-shadow: 0px 1px 2px rgba(60, 64, 67, 0.3), 0px 1px 3px 1px rgba(60, 64, 67, 0.15);\n",
              "      fill: #174EA6;\n",
              "    }\n",
              "\n",
              "    .colab-df-buttons div {\n",
              "      margin-bottom: 4px;\n",
              "    }\n",
              "\n",
              "    [theme=dark] .colab-df-convert {\n",
              "      background-color: #3B4455;\n",
              "      fill: #D2E3FC;\n",
              "    }\n",
              "\n",
              "    [theme=dark] .colab-df-convert:hover {\n",
              "      background-color: #434B5C;\n",
              "      box-shadow: 0px 1px 3px 1px rgba(0, 0, 0, 0.15);\n",
              "      filter: drop-shadow(0px 1px 2px rgba(0, 0, 0, 0.3));\n",
              "      fill: #FFFFFF;\n",
              "    }\n",
              "  </style>\n",
              "\n",
              "    <script>\n",
              "      const buttonEl =\n",
              "        document.querySelector('#df-2220cfe5-032f-48e0-a568-5bfea20f866c button.colab-df-convert');\n",
              "      buttonEl.style.display =\n",
              "        google.colab.kernel.accessAllowed ? 'block' : 'none';\n",
              "\n",
              "      async function convertToInteractive(key) {\n",
              "        const element = document.querySelector('#df-2220cfe5-032f-48e0-a568-5bfea20f866c');\n",
              "        const dataTable =\n",
              "          await google.colab.kernel.invokeFunction('convertToInteractive',\n",
              "                                                    [key], {});\n",
              "        if (!dataTable) return;\n",
              "\n",
              "        const docLinkHtml = 'Like what you see? Visit the ' +\n",
              "          '<a target=\"_blank\" href=https://colab.research.google.com/notebooks/data_table.ipynb>data table notebook</a>'\n",
              "          + ' to learn more about interactive tables.';\n",
              "        element.innerHTML = '';\n",
              "        dataTable['output_type'] = 'display_data';\n",
              "        await google.colab.output.renderOutput(dataTable, element);\n",
              "        const docLink = document.createElement('div');\n",
              "        docLink.innerHTML = docLinkHtml;\n",
              "        element.appendChild(docLink);\n",
              "      }\n",
              "    </script>\n",
              "  </div>\n",
              "\n",
              "\n",
              "    <div id=\"df-3c4731e7-000d-4428-bf76-56773a34cd4c\">\n",
              "      <button class=\"colab-df-quickchart\" onclick=\"quickchart('df-3c4731e7-000d-4428-bf76-56773a34cd4c')\"\n",
              "                title=\"Suggest charts\"\n",
              "                style=\"display:none;\">\n",
              "\n",
              "<svg xmlns=\"http://www.w3.org/2000/svg\" height=\"24px\"viewBox=\"0 0 24 24\"\n",
              "     width=\"24px\">\n",
              "    <g>\n",
              "        <path d=\"M19 3H5c-1.1 0-2 .9-2 2v14c0 1.1.9 2 2 2h14c1.1 0 2-.9 2-2V5c0-1.1-.9-2-2-2zM9 17H7v-7h2v7zm4 0h-2V7h2v10zm4 0h-2v-4h2v4z\"/>\n",
              "    </g>\n",
              "</svg>\n",
              "      </button>\n",
              "\n",
              "<style>\n",
              "  .colab-df-quickchart {\n",
              "      --bg-color: #E8F0FE;\n",
              "      --fill-color: #1967D2;\n",
              "      --hover-bg-color: #E2EBFA;\n",
              "      --hover-fill-color: #174EA6;\n",
              "      --disabled-fill-color: #AAA;\n",
              "      --disabled-bg-color: #DDD;\n",
              "  }\n",
              "\n",
              "  [theme=dark] .colab-df-quickchart {\n",
              "      --bg-color: #3B4455;\n",
              "      --fill-color: #D2E3FC;\n",
              "      --hover-bg-color: #434B5C;\n",
              "      --hover-fill-color: #FFFFFF;\n",
              "      --disabled-bg-color: #3B4455;\n",
              "      --disabled-fill-color: #666;\n",
              "  }\n",
              "\n",
              "  .colab-df-quickchart {\n",
              "    background-color: var(--bg-color);\n",
              "    border: none;\n",
              "    border-radius: 50%;\n",
              "    cursor: pointer;\n",
              "    display: none;\n",
              "    fill: var(--fill-color);\n",
              "    height: 32px;\n",
              "    padding: 0;\n",
              "    width: 32px;\n",
              "  }\n",
              "\n",
              "  .colab-df-quickchart:hover {\n",
              "    background-color: var(--hover-bg-color);\n",
              "    box-shadow: 0 1px 2px rgba(60, 64, 67, 0.3), 0 1px 3px 1px rgba(60, 64, 67, 0.15);\n",
              "    fill: var(--button-hover-fill-color);\n",
              "  }\n",
              "\n",
              "  .colab-df-quickchart-complete:disabled,\n",
              "  .colab-df-quickchart-complete:disabled:hover {\n",
              "    background-color: var(--disabled-bg-color);\n",
              "    fill: var(--disabled-fill-color);\n",
              "    box-shadow: none;\n",
              "  }\n",
              "\n",
              "  .colab-df-spinner {\n",
              "    border: 2px solid var(--fill-color);\n",
              "    border-color: transparent;\n",
              "    border-bottom-color: var(--fill-color);\n",
              "    animation:\n",
              "      spin 1s steps(1) infinite;\n",
              "  }\n",
              "\n",
              "  @keyframes spin {\n",
              "    0% {\n",
              "      border-color: transparent;\n",
              "      border-bottom-color: var(--fill-color);\n",
              "      border-left-color: var(--fill-color);\n",
              "    }\n",
              "    20% {\n",
              "      border-color: transparent;\n",
              "      border-left-color: var(--fill-color);\n",
              "      border-top-color: var(--fill-color);\n",
              "    }\n",
              "    30% {\n",
              "      border-color: transparent;\n",
              "      border-left-color: var(--fill-color);\n",
              "      border-top-color: var(--fill-color);\n",
              "      border-right-color: var(--fill-color);\n",
              "    }\n",
              "    40% {\n",
              "      border-color: transparent;\n",
              "      border-right-color: var(--fill-color);\n",
              "      border-top-color: var(--fill-color);\n",
              "    }\n",
              "    60% {\n",
              "      border-color: transparent;\n",
              "      border-right-color: var(--fill-color);\n",
              "    }\n",
              "    80% {\n",
              "      border-color: transparent;\n",
              "      border-right-color: var(--fill-color);\n",
              "      border-bottom-color: var(--fill-color);\n",
              "    }\n",
              "    90% {\n",
              "      border-color: transparent;\n",
              "      border-bottom-color: var(--fill-color);\n",
              "    }\n",
              "  }\n",
              "</style>\n",
              "\n",
              "      <script>\n",
              "        async function quickchart(key) {\n",
              "          const quickchartButtonEl =\n",
              "            document.querySelector('#' + key + ' button');\n",
              "          quickchartButtonEl.disabled = true;  // To prevent multiple clicks.\n",
              "          quickchartButtonEl.classList.add('colab-df-spinner');\n",
              "          try {\n",
              "            const charts = await google.colab.kernel.invokeFunction(\n",
              "                'suggestCharts', [key], {});\n",
              "          } catch (error) {\n",
              "            console.error('Error during call to suggestCharts:', error);\n",
              "          }\n",
              "          quickchartButtonEl.classList.remove('colab-df-spinner');\n",
              "          quickchartButtonEl.classList.add('colab-df-quickchart-complete');\n",
              "        }\n",
              "        (() => {\n",
              "          let quickchartButtonEl =\n",
              "            document.querySelector('#df-3c4731e7-000d-4428-bf76-56773a34cd4c button');\n",
              "          quickchartButtonEl.style.display =\n",
              "            google.colab.kernel.accessAllowed ? 'block' : 'none';\n",
              "        })();\n",
              "      </script>\n",
              "    </div>\n",
              "\n",
              "    </div>\n",
              "  </div>\n"
            ],
            "application/vnd.google.colaboratory.intrinsic+json": {
              "type": "dataframe",
              "variable_name": "importance_df",
              "summary": "{\n  \"name\": \"importance_df\",\n  \"rows\": 100,\n  \"fields\": [\n    {\n      \"column\": \"Feature\",\n      \"properties\": {\n        \"dtype\": \"string\",\n        \"num_unique_values\": 100,\n        \"samples\": [\n          \"DAYS_CREDIT_ENDDATE_max\",\n          \"PAYMENT_DIFF_MEAN\",\n          \"OCCUPATION_TYPE_Low-skill Laborers\"\n        ],\n        \"semantic_type\": \"\",\n        \"description\": \"\"\n      }\n    },\n    {\n      \"column\": \"Importance\",\n      \"properties\": {\n        \"dtype\": \"number\",\n        \"std\": 0.05141159516469099,\n        \"min\": -0.08987223247312519,\n        \"max\": 0.1369589782282022,\n        \"num_unique_values\": 100,\n        \"samples\": [\n          -0.04007536003563595,\n          0.0010374816582176649,\n          -0.015453218403854727\n        ],\n        \"semantic_type\": \"\",\n        \"description\": \"\"\n      }\n    }\n  ]\n}"
            }
          },
          "metadata": {},
          "execution_count": 23
        }
      ],
      "source": [
        "feat_importances = clf.named_steps['model'].coef_[0] # calcul des importances des features\n",
        "feature_names = X_train.columns\n",
        "importance_df = pd.DataFrame({'Feature': feature_names, 'Importance': feat_importances})\n",
        "importance_df = importance_df.sort_values(by='Importance', ascending=False)\n",
        "importance_df.head(10)"
      ]
    },
    {
      "cell_type": "code",
      "execution_count": null,
      "id": "pqzh7yxS-BV6",
      "metadata": {
        "colab": {
          "base_uri": "https://localhost:8080/",
          "height": 394
        },
        "id": "pqzh7yxS-BV6",
        "outputId": "c1aa377e-e766-4d32-ee22-3344120e6673"
      },
      "outputs": [
        {
          "output_type": "execute_result",
          "data": {
            "text/plain": [
              "<Axes: xlabel='Importance', ylabel='Feature'>"
            ]
          },
          "metadata": {},
          "execution_count": 24
        },
        {
          "output_type": "display_data",
          "data": {
            "text/plain": [
              "<Figure size 1000x600 with 1 Axes>"
            ],
            "image/png": "[encoded data removed]"
          },
          "metadata": {}
        }
      ],
      "source": [
        "# visualisation des 10 features les plus importantes\n",
        "plt.figure(figsize=(10, 6))\n",
        "sns.barplot(x='Importance', y='Feature', data=importance_df.head(10))"
      ]
    },
    {
      "cell_type": "markdown",
      "id": "593868ff",
      "metadata": {
        "id": "593868ff"
      },
      "source": [
        "#### 4-2-2 Définition de la grille des modèles / hyperparamètres"
      ]
    },
    {
      "cell_type": "markdown",
      "id": "e2ad302d",
      "metadata": {
        "id": "e2ad302d"
      },
      "source": [
        "On va définir les différents modèles que l'on souhaite utiliser, les hyperparamètres à tester ainsi que les métriques que l'on souhaite suivre."
      ]
    },
    {
      "cell_type": "code",
      "execution_count": 15,
      "id": "d6884b44",
      "metadata": {
        "id": "d6884b44"
      },
      "outputs": [],
      "source": [
        "from scipy.stats import uniform, randint\n",
        "from sklearn.linear_model import LogisticRegression\n",
        "from sklearn.ensemble import RandomForestClassifier, GradientBoostingClassifier\n",
        "from sklearn.svm import SVC\n",
        "from lightgbm import LGBMClassifier\n",
        "from xgboost import XGBClassifier"
      ]
    },
    {
      "cell_type": "code",
      "execution_count": 16,
      "id": "2EkgCy-mBCYe",
      "metadata": {
        "id": "2EkgCy-mBCYe"
      },
      "outputs": [],
      "source": [
        "# définition du dictionnaire des modeles à tester et leurs hyperparamètres associés\n",
        "model_params_grid = {\n",
        "    \"RandomForest\": {\n",
        "        'model' : RandomForestClassifier(class_weight='balanced'),\n",
        "        \"params\": {\n",
        "            \"model__n_estimators\": randint(100, 300),\n",
        "            \"model__max_depth\": randint(3, 20),\n",
        "            \"model__min_samples_split\": randint(2, 10),\n",
        "            \"model__min_samples_leaf\": randint(1, 5)\n",
        "        }\n",
        "    },\n",
        "    \"XGBoost\": {\n",
        "        'model' : XGBClassifier(),\n",
        "        \"params\": {\n",
        "            \"model__n_estimators\": randint(100, 500),\n",
        "            \"model__learning_rate\": uniform(0.01, 0.3),\n",
        "            \"model__max_depth\": randint(2, 6),\n",
        "            \"model__subsample\": uniform(0.7, 0.3),        # valeurs entre 0.7 et 1.0\n",
        "            \"model__colsample_bytree\": uniform(0.7, 0.3) # idem\n",
        "        }\n",
        "    },\n",
        "    \"LightGBM\": {\n",
        "        'model' : LGBMClassifier(class_weight='balanced'),\n",
        "        \"params\":{\n",
        "            \"model__learning_rate\": uniform(0.01, 0.1),\n",
        "            \"model__max_depth\": [-1, 3, 5, 7, 9],\n",
        "            \"model__num_leaves\": randint(20, 100),\n",
        "            \"model__n_estimators\": randint(100, 500)\n",
        "        }\n",
        "    },\n",
        "            }"
      ]
    },
    {
      "cell_type": "code",
      "execution_count": 17,
      "id": "3e080f73",
      "metadata": {
        "id": "3e080f73"
      },
      "outputs": [],
      "source": [
        "# définition des métriques à suivre\n",
        "from sklearn.metrics import make_scorer, fbeta_score, accuracy_score, roc_auc_score\n",
        "scoring = {\n",
        "    'accuracy': 'accuracy', # métrique baseline\n",
        "    'fbeta': make_scorer(fbeta_score, beta = 2), # métrique principale\n",
        "    \"roc_auc\": \"roc_auc\" # métrique pour comparer les modèles\n",
        "}"
      ]
    },
    {
      "cell_type": "markdown",
      "id": "St6vHXvYjpXb",
      "metadata": {
        "id": "St6vHXvYjpXb"
      },
      "source": [
        "#### 4-2-3 Rééquilibrage des classes"
      ]
    },
    {
      "cell_type": "markdown",
      "id": "F6oSdfrVjx5e",
      "metadata": {
        "id": "F6oSdfrVjx5e"
      },
      "source": [
        "On va rééquilibrer les classes de notre dataset d'entrainement pour que les algorothmes puissent capturer la classe minoritaire"
      ]
    },
    {
      "cell_type": "code",
      "execution_count": 18,
      "id": "oFqFahowkZct",
      "metadata": {
        "colab": {
          "base_uri": "https://localhost:8080/",
          "height": 178
        },
        "id": "oFqFahowkZct",
        "outputId": "e6ede6c5-4d7f-424c-d18c-4f10a6c9ba32"
      },
      "outputs": [
        {
          "output_type": "execute_result",
          "data": {
            "text/plain": [
              "TARGET\n",
              "0    0.919271\n",
              "1    0.080729\n",
              "Name: proportion, dtype: float64"
            ],
            "text/html": [
              "<div>\n",
              "<style scoped>\n",
              "    .dataframe tbody tr th:only-of-type {\n",
              "        vertical-align: middle;\n",
              "    }\n",
              "\n",
              "    .dataframe tbody tr th {\n",
              "        vertical-align: top;\n",
              "    }\n",
              "\n",
              "    .dataframe thead th {\n",
              "        text-align: right;\n",
              "    }\n",
              "</style>\n",
              "<table border=\"1\" class=\"dataframe\">\n",
              "  <thead>\n",
              "    <tr style=\"text-align: right;\">\n",
              "      <th></th>\n",
              "      <th>proportion</th>\n",
              "    </tr>\n",
              "    <tr>\n",
              "      <th>TARGET</th>\n",
              "      <th></th>\n",
              "    </tr>\n",
              "  </thead>\n",
              "  <tbody>\n",
              "    <tr>\n",
              "      <th>0</th>\n",
              "      <td>0.919271</td>\n",
              "    </tr>\n",
              "    <tr>\n",
              "      <th>1</th>\n",
              "      <td>0.080729</td>\n",
              "    </tr>\n",
              "  </tbody>\n",
              "</table>\n",
              "</div><br><label><b>dtype:</b> float64</label>"
            ]
          },
          "metadata": {},
          "execution_count": 18
        }
      ],
      "source": [
        "y.value_counts(normalize=True)"
      ]
    },
    {
      "cell_type": "markdown",
      "id": "_USK-vpBpIqZ",
      "metadata": {
        "id": "_USK-vpBpIqZ"
      },
      "source": [
        "On a un très fort déséquilibrage des classes. Pour palier à ce problème et éviter que les modèles n'apprennent que sur la classe majoritaire on peut recourir à des techniques de ré-échantillonnage :\n",
        "- on enlève des individus de la classe majoritaire\n",
        "- on ajoute des individus dans la classe minoritaire\n",
        "\n",
        "La library Imblearn a plusieurs méthodes de ré-échantillonage:   \n",
        "- RandomUnderSampler : sous-echantillonne au hasard la classe majoritaire avec ou sans remplacement\n",
        "- RandomOverSampler : génère de nvx ech dans la classe minoritaire\n",
        "- Tomek : crée des paires des deux classes avec des individus proches\n",
        "- SMOTE : génère des données syntéthiques dans la classe minoritaire en créant des points synthétiques avec la méthode des k plus proches voisins\n",
        "\n",
        "On choisira :      \n",
        "\n",
        "1- de sous-echantillonner la classe majoritaire\n",
        "\n",
        "2- de générer des données synthétiques dans la classe minoritaire\n",
        "\n",
        "l'objectif sera de rétablir une balance 2/3 - 1/3 des deux classes"
      ]
    },
    {
      "cell_type": "code",
      "execution_count": 19,
      "id": "g8IBymw5q4u-",
      "metadata": {
        "id": "g8IBymw5q4u-"
      },
      "outputs": [],
      "source": [
        "import imblearn\n",
        "from imblearn.pipeline import Pipeline as ImbPipeline\n",
        "from imblearn.under_sampling import RandomUnderSampler\n",
        "from imblearn.over_sampling import RandomOverSampler\n",
        "from imblearn.over_sampling import SMOTE\n",
        "from imblearn.combine import SMOTETomek"
      ]
    },
    {
      "cell_type": "code",
      "execution_count": 20,
      "id": "g09OvDjr-SZc",
      "metadata": {
        "id": "g09OvDjr-SZc"
      },
      "outputs": [],
      "source": [
        "# 1- on sur-échantillone la classe minoritaire\n",
        "smote = SMOTE(sampling_strategy=0.35, random_state=42)\n",
        "# 2- on sous-echantillonne la classe majoritaire\n",
        "under = RandomUnderSampler(sampling_strategy=0.65, random_state=42)"
      ]
    },
    {
      "cell_type": "code",
      "execution_count": 21,
      "id": "231z8qpP-fOs",
      "metadata": {
        "id": "231z8qpP-fOs"
      },
      "outputs": [],
      "source": [
        "pipe_smote = ImbPipeline(steps=[\n",
        "    ('preprocessor', preprocessor),\n",
        "    ('over', smote),\n",
        "    ('under', under)\n",
        "    ])"
      ]
    },
    {
      "cell_type": "code",
      "execution_count": 22,
      "id": "lp_14HAG-UyE",
      "metadata": {
        "id": "lp_14HAG-UyE"
      },
      "outputs": [],
      "source": [
        "X_resampled, y_resampled = pipe_smote.fit_resample(X_train, y_train)"
      ]
    },
    {
      "cell_type": "code",
      "execution_count": 23,
      "id": "T4YUlt65BgWh",
      "metadata": {
        "colab": {
          "base_uri": "https://localhost:8080/"
        },
        "id": "T4YUlt65BgWh",
        "outputId": "1445be39-50f2-469e-843d-61702fdcd452"
      },
      "outputs": [
        {
          "output_type": "execute_result",
          "data": {
            "text/plain": [
              "(200909, 100)"
            ]
          },
          "metadata": {},
          "execution_count": 23
        }
      ],
      "source": [
        "X_resampled.shape"
      ]
    },
    {
      "cell_type": "code",
      "execution_count": 24,
      "id": "Gt_rQ-qpBkqI",
      "metadata": {
        "colab": {
          "base_uri": "https://localhost:8080/",
          "height": 178
        },
        "id": "Gt_rQ-qpBkqI",
        "outputId": "38df27c4-78a5-49b1-c398-b3fc061ccba9"
      },
      "outputs": [
        {
          "output_type": "execute_result",
          "data": {
            "text/plain": [
              "TARGET\n",
              "0    0.60606\n",
              "1    0.39394\n",
              "Name: proportion, dtype: float64"
            ],
            "text/html": [
              "<div>\n",
              "<style scoped>\n",
              "    .dataframe tbody tr th:only-of-type {\n",
              "        vertical-align: middle;\n",
              "    }\n",
              "\n",
              "    .dataframe tbody tr th {\n",
              "        vertical-align: top;\n",
              "    }\n",
              "\n",
              "    .dataframe thead th {\n",
              "        text-align: right;\n",
              "    }\n",
              "</style>\n",
              "<table border=\"1\" class=\"dataframe\">\n",
              "  <thead>\n",
              "    <tr style=\"text-align: right;\">\n",
              "      <th></th>\n",
              "      <th>proportion</th>\n",
              "    </tr>\n",
              "    <tr>\n",
              "      <th>TARGET</th>\n",
              "      <th></th>\n",
              "    </tr>\n",
              "  </thead>\n",
              "  <tbody>\n",
              "    <tr>\n",
              "      <th>0</th>\n",
              "      <td>0.60606</td>\n",
              "    </tr>\n",
              "    <tr>\n",
              "      <th>1</th>\n",
              "      <td>0.39394</td>\n",
              "    </tr>\n",
              "  </tbody>\n",
              "</table>\n",
              "</div><br><label><b>dtype:</b> float64</label>"
            ]
          },
          "metadata": {},
          "execution_count": 24
        }
      ],
      "source": [
        "y_resampled.value_counts(normalize=True)"
      ]
    },
    {
      "cell_type": "markdown",
      "id": "0-o0dp7QBxtR",
      "metadata": {
        "id": "0-o0dp7QBxtR"
      },
      "source": [
        "On va désormais réécrire notre pipeline pour intégrer le ré-équilibrage des classes dans l'entrainement des modèles"
      ]
    },
    {
      "cell_type": "code",
      "execution_count": 25,
      "id": "7eLM5LjKCCTI",
      "metadata": {
        "id": "7eLM5LjKCCTI"
      },
      "outputs": [],
      "source": [
        "pipe_final = ImbPipeline (steps =[\n",
        "    ('preprocessor', preprocessor),\n",
        "    ('over', smote),\n",
        "    ('under', under),\n",
        "    ('model', None)\n",
        "])"
      ]
    },
    {
      "cell_type": "markdown",
      "id": "9e5bfbed",
      "metadata": {
        "id": "9e5bfbed"
      },
      "source": [
        "#### 4-2-4 Recherche d'optimisation des modèles et intégration avec ML Flox"
      ]
    },
    {
      "cell_type": "markdown",
      "id": "DcoOzKork7y2",
      "metadata": {
        "id": "DcoOzKork7y2"
      },
      "source": [
        "On va définir ici la grille de Recherche qui va tester différents modèles et les combinaisons d'hyperparamètres qui leur sont associées et évaluer leurs performances en fonction du scoring métier.\n",
        "\n",
        "Workflow pour chacun des modèles du dictionnaire :\n",
        "\n",
        "- on lance une RandomSearchCV qui va tester aléatoirement 20 combinaison d'hyperparamètres différentes selon la grille, avec cross_validation et k_folds=3\n",
        "\n",
        "- on va récupérer la combinaison qui a permis d'obtenir le meilleur f0.5_score\n",
        "\n",
        "- avec ce modèle entrainé sur X_train avec cette combinaison, on va faire des prédictions sur X_test\n",
        "\n",
        "- on va évaluer les performances de ce classifieur avec y_test\n",
        "\n",
        "- on utilisera l'interface ML Flow UI pour logger nos métriques et visualiser les résultats obtenus"
      ]
    },
    {
      "cell_type": "markdown",
      "id": "-eJx0XkQFo0K",
      "metadata": {
        "id": "-eJx0XkQFo0K"
      },
      "source": [
        "Pour utiliser ml flow ui dans google.colab il faut utiliser un outil qui va permettre de relier le port local à une adresse https (un tunnel), on utilise pour cela un token d'authentification (ngrok)"
      ]
    },
    {
      "cell_type": "code",
      "execution_count": 34,
      "id": "ZwRwHoJZDBgc",
      "metadata": {
        "id": "ZwRwHoJZDBgc"
      },
      "outputs": [],
      "source": [
        "from pyngrok import ngrok"
      ]
    },
    {
      "cell_type": "code",
      "execution_count": 35,
      "id": "tSHGfSBLEk9c",
      "metadata": {
        "colab": {
          "base_uri": "https://localhost:8080/"
        },
        "id": "tSHGfSBLEk9c",
        "outputId": "d746a2b8-a689-4f6f-9fdd-ef7efbd555b1"
      },
      "outputs": [
        {
          "output_type": "stream",
          "name": "stdout",
          "text": [
            "Authtoken saved to configuration file: /root/.config/ngrok/ngrok.yml\n"
          ]
        }
      ],
      "source": [
        "!ngrok config add-authtoken 329rCcOHub1rx6JPTE60hXrtXmz_3UnH8rrwpWyo7dFuhZ4TW"
      ]
    },
    {
      "cell_type": "code",
      "execution_count": 36,
      "id": "Jy10sH28FFWI",
      "metadata": {
        "id": "Jy10sH28FFWI"
      },
      "outputs": [],
      "source": [
        "port = 5000\n",
        "public_url = ngrok.connect(port)"
      ]
    },
    {
      "cell_type": "code",
      "execution_count": 37,
      "id": "VgBXj0ipFIYW",
      "metadata": {
        "id": "VgBXj0ipFIYW"
      },
      "outputs": [],
      "source": [
        "get_ipython().system_raw(f\"mlflow ui --port {port} &\")"
      ]
    },
    {
      "cell_type": "code",
      "execution_count": 38,
      "id": "MZsv0WNBHwtw",
      "metadata": {
        "colab": {
          "base_uri": "https://localhost:8080/"
        },
        "id": "MZsv0WNBHwtw",
        "outputId": "5f54672e-353a-4e5b-85a8-266348261e5f"
      },
      "outputs": [
        {
          "output_type": "execute_result",
          "data": {
            "text/plain": [
              "<NgrokTunnel: \"https://d0992da8a505.ngrok-free.app\" -> \"http://localhost:5000\">"
            ]
          },
          "metadata": {},
          "execution_count": 38
        }
      ],
      "source": [
        "public_url"
      ]
    },
    {
      "cell_type": "markdown",
      "id": "67gEjZ6rjMfm",
      "metadata": {
        "id": "67gEjZ6rjMfm"
      },
      "source": [
        "Pour diminuer les temps d'entrainement, on va réduire le volume de données."
      ]
    },
    {
      "cell_type": "code",
      "execution_count": 31,
      "id": "A2laMSvNCiEQ",
      "metadata": {
        "id": "A2laMSvNCiEQ"
      },
      "outputs": [],
      "source": [
        "X_small, _, y_small, _ = train_test_split(\n",
        "    X_train, y_train,\n",
        "    train_size=0.25,          # garde 25% du dataset\n",
        "    stratify=y_train,        # conserve le ratio des classes\n",
        "    random_state=42\n",
        ")"
      ]
    },
    {
      "cell_type": "code",
      "execution_count": 39,
      "id": "tp8qN0pKQKTV",
      "metadata": {
        "colab": {
          "base_uri": "https://localhost:8080/"
        },
        "id": "tp8qN0pKQKTV",
        "outputId": "ded7b449-92a2-4f58-d6a3-8f184a3eb5b3"
      },
      "outputs": [
        {
          "output_type": "execute_result",
          "data": {
            "text/plain": [
              "<Experiment: artifact_location='file:///content/mlruns/331611894679559092', creation_time=1757483023734, experiment_id='331611894679559092', last_update_time=1757483023734, lifecycle_stage='active', name='Solvabilite_client_balanced', tags={}>"
            ]
          },
          "metadata": {},
          "execution_count": 39
        }
      ],
      "source": [
        "mlflow.set_experiment(\"Solvabilite_client_balanced\")"
      ]
    },
    {
      "cell_type": "code",
      "execution_count": 40,
      "id": "I3dLM-r6Cnb3",
      "metadata": {
        "colab": {
          "base_uri": "https://localhost:8080/"
        },
        "id": "I3dLM-r6Cnb3",
        "outputId": "ac6a4152-357c-49d3-d33b-01a9e6a9ebdb"
      },
      "outputs": [
        {
          "output_type": "stream",
          "name": "stdout",
          "text": [
            "Training model: RandomForest\n",
            "Fitting 3 folds for each of 20 candidates, totalling 60 fits\n"
          ]
        },
        {
          "output_type": "stream",
          "name": "stderr",
          "text": [
            "/usr/local/lib/python3.12/dist-packages/mlflow/types/utils.py:452: UserWarning: Hint: Inferred schema contains integer column(s). Integer columns in Python cannot represent missing values. If your input data contains missing values at inference time, it will be encoded as floats and will cause a schema enforcement error. The best way to avoid this problem is to infer the model schema based on a realistic data sample (training dataset) that includes missing values. Alternatively, you can declare integer columns as doubles (float64) whenever these columns may have missing values. See `Handling Integers With Missing Values <https://www.mlflow.org/docs/latest/models.html#handling-integers-with-missing-values>`_ for more details.\n",
            "  warnings.warn(\n"
          ]
        },
        {
          "output_type": "stream",
          "name": "stdout",
          "text": [
            "Best fbeta score for RandomForest: 0.28225018998230844\n",
            "Training model: XGBoost\n",
            "Fitting 3 folds for each of 20 candidates, totalling 60 fits\n"
          ]
        },
        {
          "output_type": "stream",
          "name": "stderr",
          "text": [
            "/usr/local/lib/python3.12/dist-packages/mlflow/types/utils.py:452: UserWarning: Hint: Inferred schema contains integer column(s). Integer columns in Python cannot represent missing values. If your input data contains missing values at inference time, it will be encoded as floats and will cause a schema enforcement error. The best way to avoid this problem is to infer the model schema based on a realistic data sample (training dataset) that includes missing values. Alternatively, you can declare integer columns as doubles (float64) whenever these columns may have missing values. See `Handling Integers With Missing Values <https://www.mlflow.org/docs/latest/models.html#handling-integers-with-missing-values>`_ for more details.\n",
            "  warnings.warn(\n"
          ]
        },
        {
          "output_type": "stream",
          "name": "stdout",
          "text": [
            "Best fbeta score for XGBoost: 0.17602103507112873\n",
            "Training model: LightGBM\n",
            "Fitting 3 folds for each of 20 candidates, totalling 60 fits\n",
            "[LightGBM] [Info] Number of positive: 19786, number of negative: 30440\n",
            "[LightGBM] [Info] Auto-choosing row-wise multi-threading, the overhead of testing was 0.029600 seconds.\n",
            "You can set `force_row_wise=true` to remove the overhead.\n",
            "And if memory is not enough, you can set `force_col_wise=true`.\n",
            "[LightGBM] [Info] Total Bins 25471\n",
            "[LightGBM] [Info] Number of data points in the train set: 50226, number of used features: 100\n",
            "[LightGBM] [Info] [binary:BoostFromScore]: pavg=0.500000 -> initscore=-0.000000\n",
            "[LightGBM] [Info] Start training from score -0.000000\n",
            "[LightGBM] [Warning] No further splits with positive gain, best gain: -inf\n",
            "[LightGBM] [Warning] No further splits with positive gain, best gain: -inf\n"
          ]
        },
        {
          "output_type": "stream",
          "name": "stderr",
          "text": [
            "/usr/local/lib/python3.12/dist-packages/sklearn/utils/validation.py:2739: UserWarning: X does not have valid feature names, but LGBMClassifier was fitted with feature names\n",
            "  warnings.warn(\n",
            "/usr/local/lib/python3.12/dist-packages/sklearn/utils/validation.py:2739: UserWarning: X does not have valid feature names, but LGBMClassifier was fitted with feature names\n",
            "  warnings.warn(\n",
            "/usr/local/lib/python3.12/dist-packages/sklearn/utils/validation.py:2739: UserWarning: X does not have valid feature names, but LGBMClassifier was fitted with feature names\n",
            "  warnings.warn(\n",
            "/usr/local/lib/python3.12/dist-packages/mlflow/types/utils.py:452: UserWarning: Hint: Inferred schema contains integer column(s). Integer columns in Python cannot represent missing values. If your input data contains missing values at inference time, it will be encoded as floats and will cause a schema enforcement error. The best way to avoid this problem is to infer the model schema based on a realistic data sample (training dataset) that includes missing values. Alternatively, you can declare integer columns as doubles (float64) whenever these columns may have missing values. See `Handling Integers With Missing Values <https://www.mlflow.org/docs/latest/models.html#handling-integers-with-missing-values>`_ for more details.\n",
            "  warnings.warn(\n"
          ]
        },
        {
          "output_type": "stream",
          "name": "stdout",
          "text": [
            "Best fbeta score for LightGBM: 0.2097622177792007\n"
          ]
        },
        {
          "output_type": "stream",
          "name": "stderr",
          "text": [
            "/usr/local/lib/python3.12/dist-packages/sklearn/utils/validation.py:2739: UserWarning: X does not have valid feature names, but LGBMClassifier was fitted with feature names\n",
            "  warnings.warn(\n"
          ]
        }
      ],
      "source": [
        "from sklearn.model_selection import RandomizedSearchCV\n",
        "import time\n",
        "for model_name, mp in model_params_grid.items():\n",
        "    print(f\"Training model: {model_name}\")\n",
        "    pipe_final.set_params(model=mp['model'])\n",
        "    model_search = RandomizedSearchCV(\n",
        "        estimator=pipe_final,\n",
        "        param_distributions=mp['params'],\n",
        "        n_iter=20,\n",
        "        scoring=scoring,\n",
        "        refit='fbeta',\n",
        "        cv=3,\n",
        "        verbose=2,\n",
        "        n_jobs=-1,\n",
        "        random_state=42\n",
        "    )\n",
        "    start_time = time.time()\n",
        "    model_search.fit(X_small, y_small) # lancement de la recherche d'optimisation\n",
        "    train_time = start_time - time.time()\n",
        "    model_best = model_search.best_estimator_  # on récupère la combinaison optimale du modèle testé\n",
        "    y_pred = model_best.predict(X_test) # on prédit sur le jeu de test\n",
        "    y_proba = model_best.predict_proba(X_test)[:, 1] # on évalue les probabilités pour la classe positive = défaut de paiement\n",
        "    # on logge les résultats dans ML Flow\n",
        "    with mlflow.start_run(run_name=model_name):\n",
        "        mlflow.log_param(\"model\", model_name) # nom du modèle\n",
        "        mlflow.log_params(model_search.best_params_) # hyperparamètres optimaux\n",
        "        mlflow.log_metric(\"train_time\", train_time) # temps d'entrainement\n",
        "        mlflow.log_metric(\"accuracy\", accuracy_score(y_test, y_pred)) # métrique baseline\n",
        "        mlflow.log_metric(\"fbeta\", fbeta_score(y_test, y_pred, beta=0.5)) # métrique principale\n",
        "        mlflow.log_metric(\"roc_auc\", roc_auc_score(y_test, y_proba)) # métrique pour comparer les modèles\n",
        "        mlflow.sklearn.log_model(model_best, name=\"model\", input_example=X_small.iloc[:1]) # on logge le modèle entrainé\n",
        "\n",
        "    print(f\"Best fbeta score for {model_name}: {model_search.best_score_}\")"
      ]
    },
    {
      "cell_type": "code",
      "source": [
        "# 3- autre stratégie : utiliser directement SMOTEtomek\n",
        "tomek = SMOTETomek(sampling_strategy=0.35, random_state=42)"
      ],
      "metadata": {
        "id": "mlBT664X-ERn"
      },
      "id": "mlBT664X-ERn",
      "execution_count": null,
      "outputs": []
    },
    {
      "cell_type": "code",
      "source": [
        "X_res, y_res = tomek.fit_resample(X_train, y_train)"
      ],
      "metadata": {
        "id": "0BjC8Po3-d5W"
      },
      "id": "0BjC8Po3-d5W",
      "execution_count": null,
      "outputs": []
    },
    {
      "cell_type": "code",
      "source": [
        "y_res.value_counts(normalize=True)"
      ],
      "metadata": {
        "id": "Ao7f3IztHDlI"
      },
      "id": "Ao7f3IztHDlI",
      "execution_count": null,
      "outputs": []
    },
    {
      "cell_type": "code",
      "source": [
        "X_res_small, y_res_small = train_test_split(\n",
        "    X_res, y_res,\n",
        "    train_size=0.25,          # garde 25% du dataset\n",
        "    stratify=y_res,        # conserve le ratio des classes\n",
        "    random_state=42\n",
        ")"
      ],
      "metadata": {
        "id": "POHrE7VF_pIk"
      },
      "id": "POHrE7VF_pIk",
      "execution_count": null,
      "outputs": []
    },
    {
      "cell_type": "code",
      "source": [
        "pipe = Pipeline (steps = [\n",
        "    ('preprocessor', preprocessor),\n",
        "    ('model', None)\n",
        "])"
      ],
      "metadata": {
        "id": "9poiEZveGZON"
      },
      "id": "9poiEZveGZON",
      "execution_count": null,
      "outputs": []
    },
    {
      "cell_type": "code",
      "source": [
        "for model_name, mp in model_params_grid.items():\n",
        "    print(f\"Training model: {model_name}\")\n",
        "    pipe_final.set_params(model=mp['model'])\n",
        "    model_search = RandomizedSearchCV(\n",
        "        estimator=pipe,\n",
        "        param_distributions=mp['params'],\n",
        "        n_iter=20,\n",
        "        scoring=scoring,\n",
        "        refit='fbeta',\n",
        "        cv=3,\n",
        "        verbose=2,\n",
        "        n_jobs=-1,\n",
        "        random_state=42\n",
        "    )\n",
        "    start_time = time.time()\n",
        "    model_search.fit(X_res_small, y_res_small) # lancement de la recherche d'optimisation\n",
        "    train_time = start_time - time.time()\n",
        "    model_best = model_search.best_estimator_  # on récupère la combinaison optimale du modèle testé\n",
        "    y_pred = model_best.predict(X_test) # on prédit sur le jeu de test\n",
        "    y_proba = model_best.predict_proba(X_test)[:, 1] # on évalue les probabilités pour la classe positive = défaut de paiement\n",
        "    # on logge les résultats dans ML Flow\n",
        "    with mlflow.start_run(run_name=model_name):\n",
        "        mlflow.log_param(\"model\", model_name) # nom du modèle\n",
        "        mlflow.log_params(model_search.best_params_) # hyperparamètres optimaux\n",
        "        mlflow.log_metric(\"train_time\", train_time) # temps d'entrainement\n",
        "        mlflow.log_metric(\"accuracy\", accuracy_score(y_test, y_pred)) # métrique baseline\n",
        "        mlflow.log_metric(\"fbeta\", fbeta_score(y_test, y_pred, beta=0.5)) # métrique principale\n",
        "        mlflow.log_metric(\"roc_auc\", roc_auc_score(y_test, y_proba)) # métrique pour comparer les modèles\n",
        "        mlflow.sklearn.log_model(model_best, name=\"model\", input_example=X_small.iloc[:1]) # on logge le modèle entrainé\n",
        "\n",
        "    print(f\"Best fbeta score for {model_name}: {model_search.best_score_}\")"
      ],
      "metadata": {
        "id": "TehnbFftFdn0"
      },
      "id": "TehnbFftFdn0",
      "execution_count": null,
      "outputs": []
    },
    {
      "cell_type": "markdown",
      "id": "t5hY28ByNCD8",
      "metadata": {
        "id": "t5hY28ByNCD8"
      },
      "source": [
        "### 4-3 Récupération du meilleur modèle"
      ]
    },
    {
      "cell_type": "markdown",
      "id": "8HVq9enYNHtr",
      "metadata": {
        "id": "8HVq9enYNHtr"
      },
      "source": [
        "#### 4-3-1 récupération des runs sous format csv"
      ]
    },
    {
      "cell_type": "code",
      "execution_count": 45,
      "id": "SjElCSXEFj6A",
      "metadata": {
        "id": "SjElCSXEFj6A"
      },
      "outputs": [],
      "source": [
        "balanced_exp = pd.read_csv('/content/drive/MyDrive/runs.csv')"
      ]
    },
    {
      "cell_type": "code",
      "execution_count": 46,
      "id": "RhtxerSXFuL4",
      "metadata": {
        "id": "RhtxerSXFuL4",
        "colab": {
          "base_uri": "https://localhost:8080/",
          "height": 314
        },
        "outputId": "ccd073bd-60a8-4cf7-f15c-cef85e972107"
      },
      "outputs": [
        {
          "output_type": "execute_result",
          "data": {
            "text/plain": [
              "            Start Time Duration                            Run ID  \\\n",
              "0  2025-09-10 08:40:29     8.5s  2af2bd5480174a22b35cf53023a0b0b6   \n",
              "1  2025-09-10 08:28:56     5.0s  ec9f945d568e44f994f2fb4dc34a07cf   \n",
              "2  2025-09-10 08:21:32    10.3s  38c9574366ae4d988ce236f5f9bd7f6d   \n",
              "\n",
              "           Name Source Type  \\\n",
              "0      LightGBM       LOCAL   \n",
              "1       XGBoost       LOCAL   \n",
              "2  RandomForest       LOCAL   \n",
              "\n",
              "                                         Source Name  User    Status  \\\n",
              "0  /usr/local/lib/python3.12/dist-packages/colab_...  root  FINISHED   \n",
              "1  /usr/local/lib/python3.12/dist-packages/colab_...  root  FINISHED   \n",
              "2  /usr/local/lib/python3.12/dist-packages/colab_...  root  FINISHED   \n",
              "\n",
              "          model  model__colsample_bytree  ...  model__max_depth  \\\n",
              "0      LightGBM                      NaN  ...                 7   \n",
              "1       XGBoost                 0.722365  ...                 5   \n",
              "2  RandomForest                      NaN  ...                 3   \n",
              "\n",
              "   model__min_samples_leaf  model__min_samples_split  model__n_estimators  \\\n",
              "0                      NaN                       NaN                  113   \n",
              "1                      NaN                       NaN                  228   \n",
              "2                      4.0                       3.0                  121   \n",
              "\n",
              "   model__num_leaves  model__subsample  accuracy     fbeta   roc_auc  \\\n",
              "0               28.0               NaN  0.901842  0.283794  0.757106   \n",
              "1                NaN          0.759615  0.899940  0.247760  0.727561   \n",
              "2                NaN               NaN  0.797148  0.172983  0.665624   \n",
              "\n",
              "             train_time  \n",
              "0   '-685.8448300361633  \n",
              "1  '-433.33607745170593  \n",
              "2   '-2217.740070581436  \n",
              "\n",
              "[3 rows x 21 columns]"
            ],
            "text/html": [
              "\n",
              "  <div id=\"df-7ab29964-82a9-4e77-b8e6-0c6d48362991\" class=\"colab-df-container\">\n",
              "    <div>\n",
              "<style scoped>\n",
              "    .dataframe tbody tr th:only-of-type {\n",
              "        vertical-align: middle;\n",
              "    }\n",
              "\n",
              "    .dataframe tbody tr th {\n",
              "        vertical-align: top;\n",
              "    }\n",
              "\n",
              "    .dataframe thead th {\n",
              "        text-align: right;\n",
              "    }\n",
              "</style>\n",
              "<table border=\"1\" class=\"dataframe\">\n",
              "  <thead>\n",
              "    <tr style=\"text-align: right;\">\n",
              "      <th></th>\n",
              "      <th>Start Time</th>\n",
              "      <th>Duration</th>\n",
              "      <th>Run ID</th>\n",
              "      <th>Name</th>\n",
              "      <th>Source Type</th>\n",
              "      <th>Source Name</th>\n",
              "      <th>User</th>\n",
              "      <th>Status</th>\n",
              "      <th>model</th>\n",
              "      <th>model__colsample_bytree</th>\n",
              "      <th>...</th>\n",
              "      <th>model__max_depth</th>\n",
              "      <th>model__min_samples_leaf</th>\n",
              "      <th>model__min_samples_split</th>\n",
              "      <th>model__n_estimators</th>\n",
              "      <th>model__num_leaves</th>\n",
              "      <th>model__subsample</th>\n",
              "      <th>accuracy</th>\n",
              "      <th>fbeta</th>\n",
              "      <th>roc_auc</th>\n",
              "      <th>train_time</th>\n",
              "    </tr>\n",
              "  </thead>\n",
              "  <tbody>\n",
              "    <tr>\n",
              "      <th>0</th>\n",
              "      <td>2025-09-10 08:40:29</td>\n",
              "      <td>8.5s</td>\n",
              "      <td>2af2bd5480174a22b35cf53023a0b0b6</td>\n",
              "      <td>LightGBM</td>\n",
              "      <td>LOCAL</td>\n",
              "      <td>/usr/local/lib/python3.12/dist-packages/colab_...</td>\n",
              "      <td>root</td>\n",
              "      <td>FINISHED</td>\n",
              "      <td>LightGBM</td>\n",
              "      <td>NaN</td>\n",
              "      <td>...</td>\n",
              "      <td>7</td>\n",
              "      <td>NaN</td>\n",
              "      <td>NaN</td>\n",
              "      <td>113</td>\n",
              "      <td>28.0</td>\n",
              "      <td>NaN</td>\n",
              "      <td>0.901842</td>\n",
              "      <td>0.283794</td>\n",
              "      <td>0.757106</td>\n",
              "      <td>'-685.8448300361633</td>\n",
              "    </tr>\n",
              "    <tr>\n",
              "      <th>1</th>\n",
              "      <td>2025-09-10 08:28:56</td>\n",
              "      <td>5.0s</td>\n",
              "      <td>ec9f945d568e44f994f2fb4dc34a07cf</td>\n",
              "      <td>XGBoost</td>\n",
              "      <td>LOCAL</td>\n",
              "      <td>/usr/local/lib/python3.12/dist-packages/colab_...</td>\n",
              "      <td>root</td>\n",
              "      <td>FINISHED</td>\n",
              "      <td>XGBoost</td>\n",
              "      <td>0.722365</td>\n",
              "      <td>...</td>\n",
              "      <td>5</td>\n",
              "      <td>NaN</td>\n",
              "      <td>NaN</td>\n",
              "      <td>228</td>\n",
              "      <td>NaN</td>\n",
              "      <td>0.759615</td>\n",
              "      <td>0.899940</td>\n",
              "      <td>0.247760</td>\n",
              "      <td>0.727561</td>\n",
              "      <td>'-433.33607745170593</td>\n",
              "    </tr>\n",
              "    <tr>\n",
              "      <th>2</th>\n",
              "      <td>2025-09-10 08:21:32</td>\n",
              "      <td>10.3s</td>\n",
              "      <td>38c9574366ae4d988ce236f5f9bd7f6d</td>\n",
              "      <td>RandomForest</td>\n",
              "      <td>LOCAL</td>\n",
              "      <td>/usr/local/lib/python3.12/dist-packages/colab_...</td>\n",
              "      <td>root</td>\n",
              "      <td>FINISHED</td>\n",
              "      <td>RandomForest</td>\n",
              "      <td>NaN</td>\n",
              "      <td>...</td>\n",
              "      <td>3</td>\n",
              "      <td>4.0</td>\n",
              "      <td>3.0</td>\n",
              "      <td>121</td>\n",
              "      <td>NaN</td>\n",
              "      <td>NaN</td>\n",
              "      <td>0.797148</td>\n",
              "      <td>0.172983</td>\n",
              "      <td>0.665624</td>\n",
              "      <td>'-2217.740070581436</td>\n",
              "    </tr>\n",
              "  </tbody>\n",
              "</table>\n",
              "<p>3 rows × 21 columns</p>\n",
              "</div>\n",
              "    <div class=\"colab-df-buttons\">\n",
              "\n",
              "  <div class=\"colab-df-container\">\n",
              "    <button class=\"colab-df-convert\" onclick=\"convertToInteractive('df-7ab29964-82a9-4e77-b8e6-0c6d48362991')\"\n",
              "            title=\"Convert this dataframe to an interactive table.\"\n",
              "            style=\"display:none;\">\n",
              "\n",
              "  <svg xmlns=\"http://www.w3.org/2000/svg\" height=\"24px\" viewBox=\"0 -960 960 960\">\n",
              "    <path d=\"M120-120v-720h720v720H120Zm60-500h600v-160H180v160Zm220 220h160v-160H400v160Zm0 220h160v-160H400v160ZM180-400h160v-160H180v160Zm440 0h160v-160H620v160ZM180-180h160v-160H180v160Zm440 0h160v-160H620v160Z\"/>\n",
              "  </svg>\n",
              "    </button>\n",
              "\n",
              "  <style>\n",
              "    .colab-df-container {\n",
              "      display:flex;\n",
              "      gap: 12px;\n",
              "    }\n",
              "\n",
              "    .colab-df-convert {\n",
              "      background-color: #E8F0FE;\n",
              "      border: none;\n",
              "      border-radius: 50%;\n",
              "      cursor: pointer;\n",
              "      display: none;\n",
              "      fill: #1967D2;\n",
              "      height: 32px;\n",
              "      padding: 0 0 0 0;\n",
              "      width: 32px;\n",
              "    }\n",
              "\n",
              "    .colab-df-convert:hover {\n",
              "      background-color: #E2EBFA;\n",
              "      box-shadow: 0px 1px 2px rgba(60, 64, 67, 0.3), 0px 1px 3px 1px rgba(60, 64, 67, 0.15);\n",
              "      fill: #174EA6;\n",
              "    }\n",
              "\n",
              "    .colab-df-buttons div {\n",
              "      margin-bottom: 4px;\n",
              "    }\n",
              "\n",
              "    [theme=dark] .colab-df-convert {\n",
              "      background-color: #3B4455;\n",
              "      fill: #D2E3FC;\n",
              "    }\n",
              "\n",
              "    [theme=dark] .colab-df-convert:hover {\n",
              "      background-color: #434B5C;\n",
              "      box-shadow: 0px 1px 3px 1px rgba(0, 0, 0, 0.15);\n",
              "      filter: drop-shadow(0px 1px 2px rgba(0, 0, 0, 0.3));\n",
              "      fill: #FFFFFF;\n",
              "    }\n",
              "  </style>\n",
              "\n",
              "    <script>\n",
              "      const buttonEl =\n",
              "        document.querySelector('#df-7ab29964-82a9-4e77-b8e6-0c6d48362991 button.colab-df-convert');\n",
              "      buttonEl.style.display =\n",
              "        google.colab.kernel.accessAllowed ? 'block' : 'none';\n",
              "\n",
              "      async function convertToInteractive(key) {\n",
              "        const element = document.querySelector('#df-7ab29964-82a9-4e77-b8e6-0c6d48362991');\n",
              "        const dataTable =\n",
              "          await google.colab.kernel.invokeFunction('convertToInteractive',\n",
              "                                                    [key], {});\n",
              "        if (!dataTable) return;\n",
              "\n",
              "        const docLinkHtml = 'Like what you see? Visit the ' +\n",
              "          '<a target=\"_blank\" href=https://colab.research.google.com/notebooks/data_table.ipynb>data table notebook</a>'\n",
              "          + ' to learn more about interactive tables.';\n",
              "        element.innerHTML = '';\n",
              "        dataTable['output_type'] = 'display_data';\n",
              "        await google.colab.output.renderOutput(dataTable, element);\n",
              "        const docLink = document.createElement('div');\n",
              "        docLink.innerHTML = docLinkHtml;\n",
              "        element.appendChild(docLink);\n",
              "      }\n",
              "    </script>\n",
              "  </div>\n",
              "\n",
              "\n",
              "    <div id=\"df-3e20976e-0179-42e0-8e78-5880fc151864\">\n",
              "      <button class=\"colab-df-quickchart\" onclick=\"quickchart('df-3e20976e-0179-42e0-8e78-5880fc151864')\"\n",
              "                title=\"Suggest charts\"\n",
              "                style=\"display:none;\">\n",
              "\n",
              "<svg xmlns=\"http://www.w3.org/2000/svg\" height=\"24px\"viewBox=\"0 0 24 24\"\n",
              "     width=\"24px\">\n",
              "    <g>\n",
              "        <path d=\"M19 3H5c-1.1 0-2 .9-2 2v14c0 1.1.9 2 2 2h14c1.1 0 2-.9 2-2V5c0-1.1-.9-2-2-2zM9 17H7v-7h2v7zm4 0h-2V7h2v10zm4 0h-2v-4h2v4z\"/>\n",
              "    </g>\n",
              "</svg>\n",
              "      </button>\n",
              "\n",
              "<style>\n",
              "  .colab-df-quickchart {\n",
              "      --bg-color: #E8F0FE;\n",
              "      --fill-color: #1967D2;\n",
              "      --hover-bg-color: #E2EBFA;\n",
              "      --hover-fill-color: #174EA6;\n",
              "      --disabled-fill-color: #AAA;\n",
              "      --disabled-bg-color: #DDD;\n",
              "  }\n",
              "\n",
              "  [theme=dark] .colab-df-quickchart {\n",
              "      --bg-color: #3B4455;\n",
              "      --fill-color: #D2E3FC;\n",
              "      --hover-bg-color: #434B5C;\n",
              "      --hover-fill-color: #FFFFFF;\n",
              "      --disabled-bg-color: #3B4455;\n",
              "      --disabled-fill-color: #666;\n",
              "  }\n",
              "\n",
              "  .colab-df-quickchart {\n",
              "    background-color: var(--bg-color);\n",
              "    border: none;\n",
              "    border-radius: 50%;\n",
              "    cursor: pointer;\n",
              "    display: none;\n",
              "    fill: var(--fill-color);\n",
              "    height: 32px;\n",
              "    padding: 0;\n",
              "    width: 32px;\n",
              "  }\n",
              "\n",
              "  .colab-df-quickchart:hover {\n",
              "    background-color: var(--hover-bg-color);\n",
              "    box-shadow: 0 1px 2px rgba(60, 64, 67, 0.3), 0 1px 3px 1px rgba(60, 64, 67, 0.15);\n",
              "    fill: var(--button-hover-fill-color);\n",
              "  }\n",
              "\n",
              "  .colab-df-quickchart-complete:disabled,\n",
              "  .colab-df-quickchart-complete:disabled:hover {\n",
              "    background-color: var(--disabled-bg-color);\n",
              "    fill: var(--disabled-fill-color);\n",
              "    box-shadow: none;\n",
              "  }\n",
              "\n",
              "  .colab-df-spinner {\n",
              "    border: 2px solid var(--fill-color);\n",
              "    border-color: transparent;\n",
              "    border-bottom-color: var(--fill-color);\n",
              "    animation:\n",
              "      spin 1s steps(1) infinite;\n",
              "  }\n",
              "\n",
              "  @keyframes spin {\n",
              "    0% {\n",
              "      border-color: transparent;\n",
              "      border-bottom-color: var(--fill-color);\n",
              "      border-left-color: var(--fill-color);\n",
              "    }\n",
              "    20% {\n",
              "      border-color: transparent;\n",
              "      border-left-color: var(--fill-color);\n",
              "      border-top-color: var(--fill-color);\n",
              "    }\n",
              "    30% {\n",
              "      border-color: transparent;\n",
              "      border-left-color: var(--fill-color);\n",
              "      border-top-color: var(--fill-color);\n",
              "      border-right-color: var(--fill-color);\n",
              "    }\n",
              "    40% {\n",
              "      border-color: transparent;\n",
              "      border-right-color: var(--fill-color);\n",
              "      border-top-color: var(--fill-color);\n",
              "    }\n",
              "    60% {\n",
              "      border-color: transparent;\n",
              "      border-right-color: var(--fill-color);\n",
              "    }\n",
              "    80% {\n",
              "      border-color: transparent;\n",
              "      border-right-color: var(--fill-color);\n",
              "      border-bottom-color: var(--fill-color);\n",
              "    }\n",
              "    90% {\n",
              "      border-color: transparent;\n",
              "      border-bottom-color: var(--fill-color);\n",
              "    }\n",
              "  }\n",
              "</style>\n",
              "\n",
              "      <script>\n",
              "        async function quickchart(key) {\n",
              "          const quickchartButtonEl =\n",
              "            document.querySelector('#' + key + ' button');\n",
              "          quickchartButtonEl.disabled = true;  // To prevent multiple clicks.\n",
              "          quickchartButtonEl.classList.add('colab-df-spinner');\n",
              "          try {\n",
              "            const charts = await google.colab.kernel.invokeFunction(\n",
              "                'suggestCharts', [key], {});\n",
              "          } catch (error) {\n",
              "            console.error('Error during call to suggestCharts:', error);\n",
              "          }\n",
              "          quickchartButtonEl.classList.remove('colab-df-spinner');\n",
              "          quickchartButtonEl.classList.add('colab-df-quickchart-complete');\n",
              "        }\n",
              "        (() => {\n",
              "          let quickchartButtonEl =\n",
              "            document.querySelector('#df-3e20976e-0179-42e0-8e78-5880fc151864 button');\n",
              "          quickchartButtonEl.style.display =\n",
              "            google.colab.kernel.accessAllowed ? 'block' : 'none';\n",
              "        })();\n",
              "      </script>\n",
              "    </div>\n",
              "\n",
              "    </div>\n",
              "  </div>\n"
            ],
            "application/vnd.google.colaboratory.intrinsic+json": {
              "type": "dataframe",
              "variable_name": "balanced_exp"
            }
          },
          "metadata": {},
          "execution_count": 46
        }
      ],
      "source": [
        "balanced_exp.head()"
      ]
    },
    {
      "cell_type": "code",
      "execution_count": 48,
      "id": "WHu5z55IGZhy",
      "metadata": {
        "id": "WHu5z55IGZhy",
        "colab": {
          "base_uri": "https://localhost:8080/",
          "height": 505
        },
        "outputId": "fb014d26-7be2-4622-dba1-db15ad4b40e2"
      },
      "outputs": [
        {
          "output_type": "display_data",
          "data": {
            "text/plain": [
              "<Figure size 1200x800 with 4 Axes>"
            ],
            "image/png": "[encoded data removed]"
          },
          "metadata": {}
        }
      ],
      "source": [
        "# visualisation des performances\n",
        "import matplotlib.pyplot as plt\n",
        "import seaborn as sns\n",
        "cmap = plt.cm.viridis_r\n",
        "colors = [cmap(i) for i in np.linspace(0, 1, 3)]\n",
        "fig,axs = plt.subplots (2,2,figsize=(12,8))\n",
        "axs[0,0].barh(balanced_exp['model'],balanced_exp['accuracy'], height = 0.4, color = colors )\n",
        "axs[0,0].set_title('Accuracy', fontsize = 15)\n",
        "axs[0,1].barh(balanced_exp['model'],balanced_exp['fbeta'], height = 0.4, color = colors)\n",
        "axs[0,1].set_title('Fbeta_score', fontsize = 15)\n",
        "axs[1,0].barh(balanced_exp['model'],balanced_exp['roc_auc'], height = 0.4, color = colors)\n",
        "axs[1,0].set_title('AUC_ROC', fontsize = 15)\n",
        "axs[1,1].barh(balanced_exp['model'],balanced_exp['train_time'], height = 0.4, color = colors)\n",
        "axs[1,1].set_title('Temps d\\'entrainement', fontsize = 15)\n",
        "\n",
        "plt.suptitle(\"Visualisation des performances d'entrainement des modèles\", fontsize = 20)\n",
        "plt.tight_layout()\n",
        "plt.show()\n"
      ]
    },
    {
      "cell_type": "markdown",
      "id": "3Q1drNbQM6Bz",
      "metadata": {
        "id": "3Q1drNbQM6Bz"
      },
      "source": [
        "#### 4-3-2 Récupération avec l'outil MLFlow Tracking"
      ]
    },
    {
      "cell_type": "code",
      "execution_count": 49,
      "id": "pdX4GNC9MENJ",
      "metadata": {
        "id": "pdX4GNC9MENJ",
        "colab": {
          "base_uri": "https://localhost:8080/"
        },
        "outputId": "27add994-4966-4466-a6e3-6899e5a829a0"
      },
      "outputs": [
        {
          "output_type": "execute_result",
          "data": {
            "text/plain": [
              "<Experiment: artifact_location='file:///content/mlruns/331611894679559092', creation_time=1757483023734, experiment_id='331611894679559092', last_update_time=1757483023734, lifecycle_stage='active', name='Solvabilite_client_balanced', tags={}>"
            ]
          },
          "metadata": {},
          "execution_count": 49
        }
      ],
      "source": [
        "experiment_name = \"Solvabilite_client_balanced\"\n",
        "mlflow.set_experiment(experiment_name)"
      ]
    },
    {
      "cell_type": "code",
      "execution_count": 50,
      "id": "lZRWq2f4Lwne",
      "metadata": {
        "id": "lZRWq2f4Lwne"
      },
      "outputs": [],
      "source": [
        "client = mlflow.tracking.MlflowClient()\n",
        "experiment = client.get_experiment_by_name(experiment_name)\n",
        "runs = client.search_runs(\n",
        "    experiment_ids=[experiment.experiment_id],\n",
        "    order_by=[\"metrics.fbeta DESC\"],  # trier par métrique fbeta_score\n",
        ")"
      ]
    },
    {
      "cell_type": "code",
      "execution_count": 51,
      "id": "b8F-GdSuMd-O",
      "metadata": {
        "id": "b8F-GdSuMd-O",
        "colab": {
          "base_uri": "https://localhost:8080/"
        },
        "outputId": "49aa925e-b60c-4053-c369-e0ee6796c9fd"
      },
      "outputs": [
        {
          "output_type": "execute_result",
          "data": {
            "text/plain": [
              "[<Run: data=<RunData: metrics={'accuracy': 0.9018421865600053,\n",
              "  'fbeta': 0.2837940952045548,\n",
              "  'roc_auc': 0.7571062836476139,\n",
              "  'train_time': -685.8448300361633}, params={'model': 'LightGBM',\n",
              "  'model__learning_rate': '0.10488855372533333',\n",
              "  'model__max_depth': '7',\n",
              "  'model__n_estimators': '113',\n",
              "  'model__num_leaves': '28'}, tags={'mlflow.runName': 'LightGBM',\n",
              "  'mlflow.source.name': '/usr/local/lib/python3.12/dist-packages/colab_kernel_launcher.py',\n",
              "  'mlflow.source.type': 'LOCAL',\n",
              "  'mlflow.user': 'root'}>, info=<RunInfo: artifact_uri='file:///content/mlruns/331611894679559092/2af2bd5480174a22b35cf53023a0b0b6/artifacts', end_time=1757486437537, experiment_id='331611894679559092', lifecycle_stage='active', run_id='2af2bd5480174a22b35cf53023a0b0b6', run_name='LightGBM', start_time=1757486429007, status='FINISHED', user_id='root'>, inputs=<RunInputs: dataset_inputs=[], model_inputs=[]>, outputs=<RunOutputs: model_outputs=[<LoggedModelOutput: model_id='m-2c700ff82fca45c4b08fbb75d8ec91bb', step=0>]>>,\n",
              " <Run: data=<RunData: metrics={'accuracy': 0.8999398403329919,\n",
              "  'fbeta': 0.2477602718566574,\n",
              "  'roc_auc': 0.7275610598619053,\n",
              "  'train_time': -433.33607745170593}, params={'model': 'XGBoost',\n",
              "  'model__colsample_bytree': '0.7223651931039312',\n",
              "  'model__learning_rate': '0.3060660809801552',\n",
              "  'model__max_depth': '5',\n",
              "  'model__n_estimators': '228',\n",
              "  'model__subsample': '0.7596147044602517'}, tags={'mlflow.runName': 'XGBoost',\n",
              "  'mlflow.source.name': '/usr/local/lib/python3.12/dist-packages/colab_kernel_launcher.py',\n",
              "  'mlflow.source.type': 'LOCAL',\n",
              "  'mlflow.user': 'root'}>, info=<RunInfo: artifact_uri='file:///content/mlruns/331611894679559092/ec9f945d568e44f994f2fb4dc34a07cf/artifacts', end_time=1757485741685, experiment_id='331611894679559092', lifecycle_stage='active', run_id='ec9f945d568e44f994f2fb4dc34a07cf', run_name='XGBoost', start_time=1757485736649, status='FINISHED', user_id='root'>, inputs=<RunInputs: dataset_inputs=[], model_inputs=[]>, outputs=<RunOutputs: model_outputs=[<LoggedModelOutput: model_id='m-92a0ad8668da46a18826303fa9ae50b2', step=0>]>>,\n",
              " <Run: data=<RunData: metrics={'accuracy': 0.7971481065964262,\n",
              "  'fbeta': 0.17298289769562436,\n",
              "  'roc_auc': 0.6656239667882193,\n",
              "  'train_time': -2217.740070581436}, params={'model': 'RandomForest',\n",
              "  'model__max_depth': '3',\n",
              "  'model__min_samples_leaf': '4',\n",
              "  'model__min_samples_split': '3',\n",
              "  'model__n_estimators': '121'}, tags={'mlflow.runName': 'RandomForest',\n",
              "  'mlflow.source.name': '/usr/local/lib/python3.12/dist-packages/colab_kernel_launcher.py',\n",
              "  'mlflow.source.type': 'LOCAL',\n",
              "  'mlflow.user': 'root'}>, info=<RunInfo: artifact_uri='file:///content/mlruns/331611894679559092/38c9574366ae4d988ce236f5f9bd7f6d/artifacts', end_time=1757485302439, experiment_id='331611894679559092', lifecycle_stage='active', run_id='38c9574366ae4d988ce236f5f9bd7f6d', run_name='RandomForest', start_time=1757485292127, status='FINISHED', user_id='root'>, inputs=<RunInputs: dataset_inputs=[], model_inputs=[]>, outputs=<RunOutputs: model_outputs=[<LoggedModelOutput: model_id='m-fb60cb4a454a4d6188a79b714b61567f', step=0>]>>]"
            ]
          },
          "metadata": {},
          "execution_count": 51
        }
      ],
      "source": [
        "runs"
      ]
    },
    {
      "cell_type": "code",
      "execution_count": 52,
      "id": "qk82JBqULglO",
      "metadata": {
        "id": "qk82JBqULglO",
        "colab": {
          "base_uri": "https://localhost:8080/"
        },
        "outputId": "7bc4b37e-4687-4a48-8a0d-9dd8af6292ea"
      },
      "outputs": [
        {
          "output_type": "stream",
          "name": "stdout",
          "text": [
            "Run ID: 2af2bd5480174a22b35cf53023a0b0b6\n",
            "Paramètres: {'model__num_leaves': '28', 'model__max_depth': '7', 'model__learning_rate': '0.10488855372533333', 'model': 'LightGBM', 'model__n_estimators': '113'}\n",
            "Metrics: {'train_time': -685.8448300361633, 'fbeta': 0.2837940952045548, 'accuracy': 0.9018421865600053, 'roc_auc': 0.7571062836476139}\n"
          ]
        }
      ],
      "source": [
        "# on récupère le top_run\n",
        "best_run = runs[0]\n",
        "print(\"Run ID:\", best_run.info.run_id)\n",
        "print(\"Paramètres:\", best_run.data.params)\n",
        "print(\"Metrics:\", best_run.data.metrics)"
      ]
    },
    {
      "cell_type": "code",
      "execution_count": 53,
      "id": "qIQ7yc28NeY9",
      "metadata": {
        "id": "qIQ7yc28NeY9"
      },
      "outputs": [],
      "source": [
        "# on récupère la meilleure combinaison d'hyperparamètres\n",
        "params = best_run.data.params"
      ]
    },
    {
      "cell_type": "code",
      "execution_count": 54,
      "id": "iL1G1LmkmErb",
      "metadata": {
        "id": "iL1G1LmkmErb",
        "colab": {
          "base_uri": "https://localhost:8080/"
        },
        "outputId": "d75520f3-fd8c-4fc3-db0a-cff37e161258"
      },
      "outputs": [
        {
          "output_type": "execute_result",
          "data": {
            "text/plain": [
              "{'model__num_leaves': '28',\n",
              " 'model__max_depth': '7',\n",
              " 'model__learning_rate': '0.10488855372533333',\n",
              " 'model': 'LightGBM',\n",
              " 'model__n_estimators': '113'}"
            ]
          },
          "metadata": {},
          "execution_count": 54
        }
      ],
      "source": [
        "params"
      ]
    },
    {
      "cell_type": "markdown",
      "id": "WKRKLOGdHGNP",
      "metadata": {
        "id": "WKRKLOGdHGNP"
      },
      "source": [
        "On instancie le meilleur modèle avec ces hyperparamètres"
      ]
    },
    {
      "cell_type": "code",
      "execution_count": 55,
      "id": "GsXuAx3LbxHV",
      "metadata": {
        "id": "GsXuAx3LbxHV"
      },
      "outputs": [],
      "source": [
        "best_model = LGBMClassifier (\n",
        "    learning_rate = 0.10488855372533333,\n",
        "    n_estimators = 113,\n",
        "    max_depth=7,\n",
        "    num_leaves=28,\n",
        "    class_weight='balanced'\n",
        "    )"
      ]
    },
    {
      "cell_type": "code",
      "execution_count": 56,
      "id": "9_YHvcVUcP4F",
      "metadata": {
        "id": "9_YHvcVUcP4F"
      },
      "outputs": [],
      "source": [
        "best_pipeline = ImbPipeline(steps=[\n",
        "    ('preprocessor', preprocessor),\n",
        "    ('over', smote),\n",
        "    ('under', under),\n",
        "    ('model', best_model)\n",
        "    ])"
      ]
    },
    {
      "cell_type": "markdown",
      "id": "WHhWw275e2jJ",
      "metadata": {
        "id": "WHhWw275e2jJ"
      },
      "source": [
        "### 4-5 Entrainement complet et évaluation des performances"
      ]
    },
    {
      "cell_type": "code",
      "execution_count": 57,
      "id": "tBUIHN9uceW3",
      "metadata": {
        "id": "tBUIHN9uceW3",
        "colab": {
          "base_uri": "https://localhost:8080/",
          "height": 523
        },
        "outputId": "74a4ec64-b582-4729-94f6-85cb07564ff4"
      },
      "outputs": [
        {
          "output_type": "stream",
          "name": "stdout",
          "text": [
            "[LightGBM] [Info] Number of positive: 79146, number of negative: 121763\n",
            "[LightGBM] [Info] Auto-choosing row-wise multi-threading, the overhead of testing was 0.224935 seconds.\n",
            "You can set `force_row_wise=true` to remove the overhead.\n",
            "And if memory is not enough, you can set `force_col_wise=true`.\n",
            "[LightGBM] [Info] Total Bins 25500\n",
            "[LightGBM] [Info] Number of data points in the train set: 200909, number of used features: 100\n",
            "[LightGBM] [Info] [binary:BoostFromScore]: pavg=0.500000 -> initscore=-0.000000\n",
            "[LightGBM] [Info] Start training from score -0.000000\n"
          ]
        },
        {
          "output_type": "execute_result",
          "data": {
            "text/plain": [
              "Pipeline(steps=[('preprocessor',\n",
              "                 ColumnTransformer(remainder='passthrough',\n",
              "                                   transformers=[('num',\n",
              "                                                  Pipeline(steps=[('imputer',\n",
              "                                                                   SimpleImputer(strategy='median')),\n",
              "                                                                  ('scaler',\n",
              "                                                                   StandardScaler())]),\n",
              "                                                  ['CREDITCARD_CREDIT_UTILIZATION_MEAN',\n",
              "                                                   'CREDITCARD_CNT_DRAWINGS_ATM_CURRENT_MEAN',\n",
              "                                                   'CREDITCARD_CNT_DRAWINGS_CURRENT_MAX',\n",
              "                                                   'CREDITCARD_CREDIT_UTILIZATION_MAX',\n",
              "                                                   'DAYS_CRE...\n",
              "                                                   'HOUR_APPR_PROCESS_START_mean', ...]),\n",
              "                                                 ('bin',\n",
              "                                                  Pipeline(steps=[('imputer',\n",
              "                                                                   SimpleImputer(strategy='most_frequent'))]),\n",
              "                                                  [])])),\n",
              "                ('over', SMOTE(random_state=42, sampling_strategy=0.35)),\n",
              "                ('under',\n",
              "                 RandomUnderSampler(random_state=42, sampling_strategy=0.65)),\n",
              "                ('model',\n",
              "                 LGBMClassifier(class_weight='balanced',\n",
              "                                learning_rate=0.10488855372533333, max_depth=7,\n",
              "                                n_estimators=113, num_leaves=28))])"
            ],
            "text/html": [
              "<style>#sk-container-id-1 {\n",
              "  /* Definition of color scheme common for light and dark mode */\n",
              "  --sklearn-color-text: #000;\n",
              "  --sklearn-color-text-muted: #666;\n",
              "  --sklearn-color-line: gray;\n",
              "  /* Definition of color scheme for unfitted estimators */\n",
              "  --sklearn-color-unfitted-level-0: #fff5e6;\n",
              "  --sklearn-color-unfitted-level-1: #f6e4d2;\n",
              "  --sklearn-color-unfitted-level-2: #ffe0b3;\n",
              "  --sklearn-color-unfitted-level-3: chocolate;\n",
              "  /* Definition of color scheme for fitted estimators */\n",
              "  --sklearn-color-fitted-level-0: #f0f8ff;\n",
              "  --sklearn-color-fitted-level-1: #d4ebff;\n",
              "  --sklearn-color-fitted-level-2: #b3dbfd;\n",
              "  --sklearn-color-fitted-level-3: cornflowerblue;\n",
              "\n",
              "  /* Specific color for light theme */\n",
              "  --sklearn-color-text-on-default-background: var(--sg-text-color, var(--theme-code-foreground, var(--jp-content-font-color1, black)));\n",
              "  --sklearn-color-background: var(--sg-background-color, var(--theme-background, var(--jp-layout-color0, white)));\n",
              "  --sklearn-color-border-box: var(--sg-text-color, var(--theme-code-foreground, var(--jp-content-font-color1, black)));\n",
              "  --sklearn-color-icon: #696969;\n",
              "\n",
              "  @media (prefers-color-scheme: dark) {\n",
              "    /* Redefinition of color scheme for dark theme */\n",
              "    --sklearn-color-text-on-default-background: var(--sg-text-color, var(--theme-code-foreground, var(--jp-content-font-color1, white)));\n",
              "    --sklearn-color-background: var(--sg-background-color, var(--theme-background, var(--jp-layout-color0, #111)));\n",
              "    --sklearn-color-border-box: var(--sg-text-color, var(--theme-code-foreground, var(--jp-content-font-color1, white)));\n",
              "    --sklearn-color-icon: #878787;\n",
              "  }\n",
              "}\n",
              "\n",
              "#sk-container-id-1 {\n",
              "  color: var(--sklearn-color-text);\n",
              "}\n",
              "\n",
              "#sk-container-id-1 pre {\n",
              "  padding: 0;\n",
              "}\n",
              "\n",
              "#sk-container-id-1 input.sk-hidden--visually {\n",
              "  border: 0;\n",
              "  clip: rect(1px 1px 1px 1px);\n",
              "  clip: rect(1px, 1px, 1px, 1px);\n",
              "  height: 1px;\n",
              "  margin: -1px;\n",
              "  overflow: hidden;\n",
              "  padding: 0;\n",
              "  position: absolute;\n",
              "  width: 1px;\n",
              "}\n",
              "\n",
              "#sk-container-id-1 div.sk-dashed-wrapped {\n",
              "  border: 1px dashed var(--sklearn-color-line);\n",
              "  margin: 0 0.4em 0.5em 0.4em;\n",
              "  box-sizing: border-box;\n",
              "  padding-bottom: 0.4em;\n",
              "  background-color: var(--sklearn-color-background);\n",
              "}\n",
              "\n",
              "#sk-container-id-1 div.sk-container {\n",
              "  /* jupyter's `normalize.less` sets `[hidden] { display: none; }`\n",
              "     but bootstrap.min.css set `[hidden] { display: none !important; }`\n",
              "     so we also need the `!important` here to be able to override the\n",
              "     default hidden behavior on the sphinx rendered scikit-learn.org.\n",
              "     See: https://github.com/scikit-learn/scikit-learn/issues/21755 */\n",
              "  display: inline-block !important;\n",
              "  position: relative;\n",
              "}\n",
              "\n",
              "#sk-container-id-1 div.sk-text-repr-fallback {\n",
              "  display: none;\n",
              "}\n",
              "\n",
              "div.sk-parallel-item,\n",
              "div.sk-serial,\n",
              "div.sk-item {\n",
              "  /* draw centered vertical line to link estimators */\n",
              "  background-image: linear-gradient(var(--sklearn-color-text-on-default-background), var(--sklearn-color-text-on-default-background));\n",
              "  background-size: 2px 100%;\n",
              "  background-repeat: no-repeat;\n",
              "  background-position: center center;\n",
              "}\n",
              "\n",
              "/* Parallel-specific style estimator block */\n",
              "\n",
              "#sk-container-id-1 div.sk-parallel-item::after {\n",
              "  content: \"\";\n",
              "  width: 100%;\n",
              "  border-bottom: 2px solid var(--sklearn-color-text-on-default-background);\n",
              "  flex-grow: 1;\n",
              "}\n",
              "\n",
              "#sk-container-id-1 div.sk-parallel {\n",
              "  display: flex;\n",
              "  align-items: stretch;\n",
              "  justify-content: center;\n",
              "  background-color: var(--sklearn-color-background);\n",
              "  position: relative;\n",
              "}\n",
              "\n",
              "#sk-container-id-1 div.sk-parallel-item {\n",
              "  display: flex;\n",
              "  flex-direction: column;\n",
              "}\n",
              "\n",
              "#sk-container-id-1 div.sk-parallel-item:first-child::after {\n",
              "  align-self: flex-end;\n",
              "  width: 50%;\n",
              "}\n",
              "\n",
              "#sk-container-id-1 div.sk-parallel-item:last-child::after {\n",
              "  align-self: flex-start;\n",
              "  width: 50%;\n",
              "}\n",
              "\n",
              "#sk-container-id-1 div.sk-parallel-item:only-child::after {\n",
              "  width: 0;\n",
              "}\n",
              "\n",
              "/* Serial-specific style estimator block */\n",
              "\n",
              "#sk-container-id-1 div.sk-serial {\n",
              "  display: flex;\n",
              "  flex-direction: column;\n",
              "  align-items: center;\n",
              "  background-color: var(--sklearn-color-background);\n",
              "  padding-right: 1em;\n",
              "  padding-left: 1em;\n",
              "}\n",
              "\n",
              "\n",
              "/* Toggleable style: style used for estimator/Pipeline/ColumnTransformer box that is\n",
              "clickable and can be expanded/collapsed.\n",
              "- Pipeline and ColumnTransformer use this feature and define the default style\n",
              "- Estimators will overwrite some part of the style using the `sk-estimator` class\n",
              "*/\n",
              "\n",
              "/* Pipeline and ColumnTransformer style (default) */\n",
              "\n",
              "#sk-container-id-1 div.sk-toggleable {\n",
              "  /* Default theme specific background. It is overwritten whether we have a\n",
              "  specific estimator or a Pipeline/ColumnTransformer */\n",
              "  background-color: var(--sklearn-color-background);\n",
              "}\n",
              "\n",
              "/* Toggleable label */\n",
              "#sk-container-id-1 label.sk-toggleable__label {\n",
              "  cursor: pointer;\n",
              "  display: flex;\n",
              "  width: 100%;\n",
              "  margin-bottom: 0;\n",
              "  padding: 0.5em;\n",
              "  box-sizing: border-box;\n",
              "  text-align: center;\n",
              "  align-items: start;\n",
              "  justify-content: space-between;\n",
              "  gap: 0.5em;\n",
              "}\n",
              "\n",
              "#sk-container-id-1 label.sk-toggleable__label .caption {\n",
              "  font-size: 0.6rem;\n",
              "  font-weight: lighter;\n",
              "  color: var(--sklearn-color-text-muted);\n",
              "}\n",
              "\n",
              "#sk-container-id-1 label.sk-toggleable__label-arrow:before {\n",
              "  /* Arrow on the left of the label */\n",
              "  content: \"▸\";\n",
              "  float: left;\n",
              "  margin-right: 0.25em;\n",
              "  color: var(--sklearn-color-icon);\n",
              "}\n",
              "\n",
              "#sk-container-id-1 label.sk-toggleable__label-arrow:hover:before {\n",
              "  color: var(--sklearn-color-text);\n",
              "}\n",
              "\n",
              "/* Toggleable content - dropdown */\n",
              "\n",
              "#sk-container-id-1 div.sk-toggleable__content {\n",
              "  max-height: 0;\n",
              "  max-width: 0;\n",
              "  overflow: hidden;\n",
              "  text-align: left;\n",
              "  /* unfitted */\n",
              "  background-color: var(--sklearn-color-unfitted-level-0);\n",
              "}\n",
              "\n",
              "#sk-container-id-1 div.sk-toggleable__content.fitted {\n",
              "  /* fitted */\n",
              "  background-color: var(--sklearn-color-fitted-level-0);\n",
              "}\n",
              "\n",
              "#sk-container-id-1 div.sk-toggleable__content pre {\n",
              "  margin: 0.2em;\n",
              "  border-radius: 0.25em;\n",
              "  color: var(--sklearn-color-text);\n",
              "  /* unfitted */\n",
              "  background-color: var(--sklearn-color-unfitted-level-0);\n",
              "}\n",
              "\n",
              "#sk-container-id-1 div.sk-toggleable__content.fitted pre {\n",
              "  /* unfitted */\n",
              "  background-color: var(--sklearn-color-fitted-level-0);\n",
              "}\n",
              "\n",
              "#sk-container-id-1 input.sk-toggleable__control:checked~div.sk-toggleable__content {\n",
              "  /* Expand drop-down */\n",
              "  max-height: 200px;\n",
              "  max-width: 100%;\n",
              "  overflow: auto;\n",
              "}\n",
              "\n",
              "#sk-container-id-1 input.sk-toggleable__control:checked~label.sk-toggleable__label-arrow:before {\n",
              "  content: \"▾\";\n",
              "}\n",
              "\n",
              "/* Pipeline/ColumnTransformer-specific style */\n",
              "\n",
              "#sk-container-id-1 div.sk-label input.sk-toggleable__control:checked~label.sk-toggleable__label {\n",
              "  color: var(--sklearn-color-text);\n",
              "  background-color: var(--sklearn-color-unfitted-level-2);\n",
              "}\n",
              "\n",
              "#sk-container-id-1 div.sk-label.fitted input.sk-toggleable__control:checked~label.sk-toggleable__label {\n",
              "  background-color: var(--sklearn-color-fitted-level-2);\n",
              "}\n",
              "\n",
              "/* Estimator-specific style */\n",
              "\n",
              "/* Colorize estimator box */\n",
              "#sk-container-id-1 div.sk-estimator input.sk-toggleable__control:checked~label.sk-toggleable__label {\n",
              "  /* unfitted */\n",
              "  background-color: var(--sklearn-color-unfitted-level-2);\n",
              "}\n",
              "\n",
              "#sk-container-id-1 div.sk-estimator.fitted input.sk-toggleable__control:checked~label.sk-toggleable__label {\n",
              "  /* fitted */\n",
              "  background-color: var(--sklearn-color-fitted-level-2);\n",
              "}\n",
              "\n",
              "#sk-container-id-1 div.sk-label label.sk-toggleable__label,\n",
              "#sk-container-id-1 div.sk-label label {\n",
              "  /* The background is the default theme color */\n",
              "  color: var(--sklearn-color-text-on-default-background);\n",
              "}\n",
              "\n",
              "/* On hover, darken the color of the background */\n",
              "#sk-container-id-1 div.sk-label:hover label.sk-toggleable__label {\n",
              "  color: var(--sklearn-color-text);\n",
              "  background-color: var(--sklearn-color-unfitted-level-2);\n",
              "}\n",
              "\n",
              "/* Label box, darken color on hover, fitted */\n",
              "#sk-container-id-1 div.sk-label.fitted:hover label.sk-toggleable__label.fitted {\n",
              "  color: var(--sklearn-color-text);\n",
              "  background-color: var(--sklearn-color-fitted-level-2);\n",
              "}\n",
              "\n",
              "/* Estimator label */\n",
              "\n",
              "#sk-container-id-1 div.sk-label label {\n",
              "  font-family: monospace;\n",
              "  font-weight: bold;\n",
              "  display: inline-block;\n",
              "  line-height: 1.2em;\n",
              "}\n",
              "\n",
              "#sk-container-id-1 div.sk-label-container {\n",
              "  text-align: center;\n",
              "}\n",
              "\n",
              "/* Estimator-specific */\n",
              "#sk-container-id-1 div.sk-estimator {\n",
              "  font-family: monospace;\n",
              "  border: 1px dotted var(--sklearn-color-border-box);\n",
              "  border-radius: 0.25em;\n",
              "  box-sizing: border-box;\n",
              "  margin-bottom: 0.5em;\n",
              "  /* unfitted */\n",
              "  background-color: var(--sklearn-color-unfitted-level-0);\n",
              "}\n",
              "\n",
              "#sk-container-id-1 div.sk-estimator.fitted {\n",
              "  /* fitted */\n",
              "  background-color: var(--sklearn-color-fitted-level-0);\n",
              "}\n",
              "\n",
              "/* on hover */\n",
              "#sk-container-id-1 div.sk-estimator:hover {\n",
              "  /* unfitted */\n",
              "  background-color: var(--sklearn-color-unfitted-level-2);\n",
              "}\n",
              "\n",
              "#sk-container-id-1 div.sk-estimator.fitted:hover {\n",
              "  /* fitted */\n",
              "  background-color: var(--sklearn-color-fitted-level-2);\n",
              "}\n",
              "\n",
              "/* Specification for estimator info (e.g. \"i\" and \"?\") */\n",
              "\n",
              "/* Common style for \"i\" and \"?\" */\n",
              "\n",
              ".sk-estimator-doc-link,\n",
              "a:link.sk-estimator-doc-link,\n",
              "a:visited.sk-estimator-doc-link {\n",
              "  float: right;\n",
              "  font-size: smaller;\n",
              "  line-height: 1em;\n",
              "  font-family: monospace;\n",
              "  background-color: var(--sklearn-color-background);\n",
              "  border-radius: 1em;\n",
              "  height: 1em;\n",
              "  width: 1em;\n",
              "  text-decoration: none !important;\n",
              "  margin-left: 0.5em;\n",
              "  text-align: center;\n",
              "  /* unfitted */\n",
              "  border: var(--sklearn-color-unfitted-level-1) 1pt solid;\n",
              "  color: var(--sklearn-color-unfitted-level-1);\n",
              "}\n",
              "\n",
              ".sk-estimator-doc-link.fitted,\n",
              "a:link.sk-estimator-doc-link.fitted,\n",
              "a:visited.sk-estimator-doc-link.fitted {\n",
              "  /* fitted */\n",
              "  border: var(--sklearn-color-fitted-level-1) 1pt solid;\n",
              "  color: var(--sklearn-color-fitted-level-1);\n",
              "}\n",
              "\n",
              "/* On hover */\n",
              "div.sk-estimator:hover .sk-estimator-doc-link:hover,\n",
              ".sk-estimator-doc-link:hover,\n",
              "div.sk-label-container:hover .sk-estimator-doc-link:hover,\n",
              ".sk-estimator-doc-link:hover {\n",
              "  /* unfitted */\n",
              "  background-color: var(--sklearn-color-unfitted-level-3);\n",
              "  color: var(--sklearn-color-background);\n",
              "  text-decoration: none;\n",
              "}\n",
              "\n",
              "div.sk-estimator.fitted:hover .sk-estimator-doc-link.fitted:hover,\n",
              ".sk-estimator-doc-link.fitted:hover,\n",
              "div.sk-label-container:hover .sk-estimator-doc-link.fitted:hover,\n",
              ".sk-estimator-doc-link.fitted:hover {\n",
              "  /* fitted */\n",
              "  background-color: var(--sklearn-color-fitted-level-3);\n",
              "  color: var(--sklearn-color-background);\n",
              "  text-decoration: none;\n",
              "}\n",
              "\n",
              "/* Span, style for the box shown on hovering the info icon */\n",
              ".sk-estimator-doc-link span {\n",
              "  display: none;\n",
              "  z-index: 9999;\n",
              "  position: relative;\n",
              "  font-weight: normal;\n",
              "  right: .2ex;\n",
              "  padding: .5ex;\n",
              "  margin: .5ex;\n",
              "  width: min-content;\n",
              "  min-width: 20ex;\n",
              "  max-width: 50ex;\n",
              "  color: var(--sklearn-color-text);\n",
              "  box-shadow: 2pt 2pt 4pt #999;\n",
              "  /* unfitted */\n",
              "  background: var(--sklearn-color-unfitted-level-0);\n",
              "  border: .5pt solid var(--sklearn-color-unfitted-level-3);\n",
              "}\n",
              "\n",
              ".sk-estimator-doc-link.fitted span {\n",
              "  /* fitted */\n",
              "  background: var(--sklearn-color-fitted-level-0);\n",
              "  border: var(--sklearn-color-fitted-level-3);\n",
              "}\n",
              "\n",
              ".sk-estimator-doc-link:hover span {\n",
              "  display: block;\n",
              "}\n",
              "\n",
              "/* \"?\"-specific style due to the `<a>` HTML tag */\n",
              "\n",
              "#sk-container-id-1 a.estimator_doc_link {\n",
              "  float: right;\n",
              "  font-size: 1rem;\n",
              "  line-height: 1em;\n",
              "  font-family: monospace;\n",
              "  background-color: var(--sklearn-color-background);\n",
              "  border-radius: 1rem;\n",
              "  height: 1rem;\n",
              "  width: 1rem;\n",
              "  text-decoration: none;\n",
              "  /* unfitted */\n",
              "  color: var(--sklearn-color-unfitted-level-1);\n",
              "  border: var(--sklearn-color-unfitted-level-1) 1pt solid;\n",
              "}\n",
              "\n",
              "#sk-container-id-1 a.estimator_doc_link.fitted {\n",
              "  /* fitted */\n",
              "  border: var(--sklearn-color-fitted-level-1) 1pt solid;\n",
              "  color: var(--sklearn-color-fitted-level-1);\n",
              "}\n",
              "\n",
              "/* On hover */\n",
              "#sk-container-id-1 a.estimator_doc_link:hover {\n",
              "  /* unfitted */\n",
              "  background-color: var(--sklearn-color-unfitted-level-3);\n",
              "  color: var(--sklearn-color-background);\n",
              "  text-decoration: none;\n",
              "}\n",
              "\n",
              "#sk-container-id-1 a.estimator_doc_link.fitted:hover {\n",
              "  /* fitted */\n",
              "  background-color: var(--sklearn-color-fitted-level-3);\n",
              "}\n",
              "</style><div id=\"sk-container-id-1\" class=\"sk-top-container\"><div class=\"sk-text-repr-fallback\"><pre>Pipeline(steps=[(&#x27;preprocessor&#x27;,\n",
              "                 ColumnTransformer(remainder=&#x27;passthrough&#x27;,\n",
              "                                   transformers=[(&#x27;num&#x27;,\n",
              "                                                  Pipeline(steps=[(&#x27;imputer&#x27;,\n",
              "                                                                   SimpleImputer(strategy=&#x27;median&#x27;)),\n",
              "                                                                  (&#x27;scaler&#x27;,\n",
              "                                                                   StandardScaler())]),\n",
              "                                                  [&#x27;CREDITCARD_CREDIT_UTILIZATION_MEAN&#x27;,\n",
              "                                                   &#x27;CREDITCARD_CNT_DRAWINGS_ATM_CURRENT_MEAN&#x27;,\n",
              "                                                   &#x27;CREDITCARD_CNT_DRAWINGS_CURRENT_MAX&#x27;,\n",
              "                                                   &#x27;CREDITCARD_CREDIT_UTILIZATION_MAX&#x27;,\n",
              "                                                   &#x27;DAYS_CRE...\n",
              "                                                   &#x27;HOUR_APPR_PROCESS_START_mean&#x27;, ...]),\n",
              "                                                 (&#x27;bin&#x27;,\n",
              "                                                  Pipeline(steps=[(&#x27;imputer&#x27;,\n",
              "                                                                   SimpleImputer(strategy=&#x27;most_frequent&#x27;))]),\n",
              "                                                  [])])),\n",
              "                (&#x27;over&#x27;, SMOTE(random_state=42, sampling_strategy=0.35)),\n",
              "                (&#x27;under&#x27;,\n",
              "                 RandomUnderSampler(random_state=42, sampling_strategy=0.65)),\n",
              "                (&#x27;model&#x27;,\n",
              "                 LGBMClassifier(class_weight=&#x27;balanced&#x27;,\n",
              "                                learning_rate=0.10488855372533333, max_depth=7,\n",
              "                                n_estimators=113, num_leaves=28))])</pre><b>In a Jupyter environment, please rerun this cell to show the HTML representation or trust the notebook. <br />On GitHub, the HTML representation is unable to render, please try loading this page with nbviewer.org.</b></div><div class=\"sk-container\" hidden><div class=\"sk-item sk-dashed-wrapped\"><div class=\"sk-label-container\"><div class=\"sk-label fitted sk-toggleable\"><input class=\"sk-toggleable__control sk-hidden--visually\" id=\"sk-estimator-id-1\" type=\"checkbox\" ><label for=\"sk-estimator-id-1\" class=\"sk-toggleable__label fitted sk-toggleable__label-arrow\"><div><div>Pipeline</div></div><div><span class=\"sk-estimator-doc-link fitted\">i<span>Fitted</span></span></div></label><div class=\"sk-toggleable__content fitted\"><pre>Pipeline(steps=[(&#x27;preprocessor&#x27;,\n",
              "                 ColumnTransformer(remainder=&#x27;passthrough&#x27;,\n",
              "                                   transformers=[(&#x27;num&#x27;,\n",
              "                                                  Pipeline(steps=[(&#x27;imputer&#x27;,\n",
              "                                                                   SimpleImputer(strategy=&#x27;median&#x27;)),\n",
              "                                                                  (&#x27;scaler&#x27;,\n",
              "                                                                   StandardScaler())]),\n",
              "                                                  [&#x27;CREDITCARD_CREDIT_UTILIZATION_MEAN&#x27;,\n",
              "                                                   &#x27;CREDITCARD_CNT_DRAWINGS_ATM_CURRENT_MEAN&#x27;,\n",
              "                                                   &#x27;CREDITCARD_CNT_DRAWINGS_CURRENT_MAX&#x27;,\n",
              "                                                   &#x27;CREDITCARD_CREDIT_UTILIZATION_MAX&#x27;,\n",
              "                                                   &#x27;DAYS_CRE...\n",
              "                                                   &#x27;HOUR_APPR_PROCESS_START_mean&#x27;, ...]),\n",
              "                                                 (&#x27;bin&#x27;,\n",
              "                                                  Pipeline(steps=[(&#x27;imputer&#x27;,\n",
              "                                                                   SimpleImputer(strategy=&#x27;most_frequent&#x27;))]),\n",
              "                                                  [])])),\n",
              "                (&#x27;over&#x27;, SMOTE(random_state=42, sampling_strategy=0.35)),\n",
              "                (&#x27;under&#x27;,\n",
              "                 RandomUnderSampler(random_state=42, sampling_strategy=0.65)),\n",
              "                (&#x27;model&#x27;,\n",
              "                 LGBMClassifier(class_weight=&#x27;balanced&#x27;,\n",
              "                                learning_rate=0.10488855372533333, max_depth=7,\n",
              "                                n_estimators=113, num_leaves=28))])</pre></div> </div></div><div class=\"sk-serial\"><div class=\"sk-item sk-dashed-wrapped\"><div class=\"sk-label-container\"><div class=\"sk-label fitted sk-toggleable\"><input class=\"sk-toggleable__control sk-hidden--visually\" id=\"sk-estimator-id-2\" type=\"checkbox\" ><label for=\"sk-estimator-id-2\" class=\"sk-toggleable__label fitted sk-toggleable__label-arrow\"><div><div>preprocessor: ColumnTransformer</div></div><div><a class=\"sk-estimator-doc-link fitted\" rel=\"noreferrer\" target=\"_blank\" href=\"https://scikit-learn.org/1.6/modules/generated/sklearn.compose.ColumnTransformer.html\">?<span>Documentation for preprocessor: ColumnTransformer</span></a></div></label><div class=\"sk-toggleable__content fitted\"><pre>ColumnTransformer(remainder=&#x27;passthrough&#x27;,\n",
              "                  transformers=[(&#x27;num&#x27;,\n",
              "                                 Pipeline(steps=[(&#x27;imputer&#x27;,\n",
              "                                                  SimpleImputer(strategy=&#x27;median&#x27;)),\n",
              "                                                 (&#x27;scaler&#x27;, StandardScaler())]),\n",
              "                                 [&#x27;CREDITCARD_CREDIT_UTILIZATION_MEAN&#x27;,\n",
              "                                  &#x27;CREDITCARD_CNT_DRAWINGS_ATM_CURRENT_MEAN&#x27;,\n",
              "                                  &#x27;CREDITCARD_CNT_DRAWINGS_CURRENT_MAX&#x27;,\n",
              "                                  &#x27;CREDITCARD_CREDIT_UTILIZATION_MAX&#x27;,\n",
              "                                  &#x27;DAYS_CREDIT_mean&#x27;,\n",
              "                                  &#x27;CREDITCARD_CNT_DRAWIN...\n",
              "                                  &#x27;DAYS_ENDDATE_FACT_mean&#x27;, &#x27;DAYS_CREDIT_std&#x27;,\n",
              "                                  &#x27;DAYS_CREDIT_max&#x27;, &#x27;DAYS_CREDIT_ENDDATE_mean&#x27;,\n",
              "                                  &#x27;DAYS_DECISION_mean&#x27;, &#x27;FLOORSMAX_AVG&#x27;,\n",
              "                                  &#x27;FLOORSMAX_MEDI&#x27;, &#x27;FLOORSMAX_MODE&#x27;,\n",
              "                                  &#x27;RATE_DOWN_PAYMENT_max&#x27;, &#x27;AMT_GOODS_PRICE&#x27;,\n",
              "                                  &#x27;OWN_CAR_AGE&#x27;, &#x27;DAYS_CREDIT_ENDDATE_max&#x27;,\n",
              "                                  &#x27;HOUR_APPR_PROCESS_START_mean&#x27;, ...]),\n",
              "                                (&#x27;bin&#x27;,\n",
              "                                 Pipeline(steps=[(&#x27;imputer&#x27;,\n",
              "                                                  SimpleImputer(strategy=&#x27;most_frequent&#x27;))]),\n",
              "                                 [])])</pre></div> </div></div><div class=\"sk-parallel\"><div class=\"sk-parallel-item\"><div class=\"sk-item\"><div class=\"sk-label-container\"><div class=\"sk-label fitted sk-toggleable\"><input class=\"sk-toggleable__control sk-hidden--visually\" id=\"sk-estimator-id-3\" type=\"checkbox\" ><label for=\"sk-estimator-id-3\" class=\"sk-toggleable__label fitted sk-toggleable__label-arrow\"><div><div>num</div></div></label><div class=\"sk-toggleable__content fitted\"><pre>[&#x27;CREDITCARD_CREDIT_UTILIZATION_MEAN&#x27;, &#x27;CREDITCARD_CNT_DRAWINGS_ATM_CURRENT_MEAN&#x27;, &#x27;CREDITCARD_CNT_DRAWINGS_CURRENT_MAX&#x27;, &#x27;CREDITCARD_CREDIT_UTILIZATION_MAX&#x27;, &#x27;DAYS_CREDIT_mean&#x27;, &#x27;CREDITCARD_CNT_DRAWINGS_CURRENT_MEAN&#x27;, &#x27;CREDIT_ACTIVE_Closed_mean&#x27;, &#x27;CREDIT_ACTIVE_Active_mean&#x27;, &#x27;DAYS_CREDIT_min&#x27;, &#x27;CREDITCARD_AMT_INST_MIN_REGULARITY_MEAN&#x27;, &#x27;CREDITCARD_CREDIT_UTILIZATION_STD&#x27;, &#x27;DAYS_CREDIT_UPDATE_mean&#x27;, &#x27;CREDITCARD_CNT_DRAWINGS_ATM_CURRENT_MAX&#x27;, &#x27;DAYS_ENDDATE_FACT_min&#x27;, &#x27;MONTHS_BALANCE_min&#x27;, &#x27;DAYS_LAST_PHONE_CHANGE&#x27;, &#x27;DAYS_DECISION_min&#x27;, &#x27;DAYS_ENDDATE_FACT_mean&#x27;, &#x27;DAYS_CREDIT_std&#x27;, &#x27;DAYS_CREDIT_max&#x27;, &#x27;DAYS_CREDIT_ENDDATE_mean&#x27;, &#x27;DAYS_DECISION_mean&#x27;, &#x27;FLOORSMAX_AVG&#x27;, &#x27;FLOORSMAX_MEDI&#x27;, &#x27;FLOORSMAX_MODE&#x27;, &#x27;RATE_DOWN_PAYMENT_max&#x27;, &#x27;AMT_GOODS_PRICE&#x27;, &#x27;OWN_CAR_AGE&#x27;, &#x27;DAYS_CREDIT_ENDDATE_max&#x27;, &#x27;HOUR_APPR_PROCESS_START_mean&#x27;, &#x27;MONTHS_BALANCE_size&#x27;, &#x27;APP_CREDIT_PERC_mean&#x27;, &#x27;AMT_ANNUITY_mean_y&#x27;, &#x27;DAYS_CREDIT_ENDDATE_min&#x27;, &#x27;ELEVATORS_AVG&#x27;, &#x27;ELEVATORS_MEDI&#x27;, &#x27;FLOORSMIN_AVG&#x27;, &#x27;RATE_DOWN_PAYMENT_mean&#x27;, &#x27;FLOORSMIN_MEDI&#x27;, &#x27;LIVINGAREA_AVG&#x27;, &#x27;LIVINGAREA_MEDI&#x27;, &#x27;FLOORSMIN_MODE&#x27;, &#x27;TOTALAREA_MODE&#x27;, &#x27;AMT_ANNUITY_min&#x27;, &#x27;DEF_30_CNT_SOCIAL_CIRCLE&#x27;, &#x27;ELEVATORS_MODE&#x27;, &#x27;HOUR_APPR_PROCESS_START_min&#x27;, &#x27;DEF_60_CNT_SOCIAL_CIRCLE&#x27;, &#x27;APP_CREDIT_PERC_max&#x27;, &#x27;HOUR_APPR_PROCESS_START_max&#x27;, &#x27;LIVINGAREA_MODE&#x27;, &#x27;APARTMENTS_AVG&#x27;, &#x27;PAYMENT_DIFF_MEAN&#x27;, &#x27;APARTMENTS_MEDI&#x27;, &#x27;AMT_ANNUITY_max_y&#x27;, &#x27;CNT_PAYMENT_mean&#x27;, &#x27;CNT_PAYMENT_sum&#x27;, &#x27;PAYMENT_DIFF_SUM&#x27;, &#x27;APARTMENTS_MODE&#x27;, &#x27;AMT_PAYMENT_MIN&#x27;]</pre></div> </div></div><div class=\"sk-serial\"><div class=\"sk-item\"><div class=\"sk-serial\"><div class=\"sk-item\"><div class=\"sk-estimator fitted sk-toggleable\"><input class=\"sk-toggleable__control sk-hidden--visually\" id=\"sk-estimator-id-4\" type=\"checkbox\" ><label for=\"sk-estimator-id-4\" class=\"sk-toggleable__label fitted sk-toggleable__label-arrow\"><div><div>SimpleImputer</div></div><div><a class=\"sk-estimator-doc-link fitted\" rel=\"noreferrer\" target=\"_blank\" href=\"https://scikit-learn.org/1.6/modules/generated/sklearn.impute.SimpleImputer.html\">?<span>Documentation for SimpleImputer</span></a></div></label><div class=\"sk-toggleable__content fitted\"><pre>SimpleImputer(strategy=&#x27;median&#x27;)</pre></div> </div></div><div class=\"sk-item\"><div class=\"sk-estimator fitted sk-toggleable\"><input class=\"sk-toggleable__control sk-hidden--visually\" id=\"sk-estimator-id-5\" type=\"checkbox\" ><label for=\"sk-estimator-id-5\" class=\"sk-toggleable__label fitted sk-toggleable__label-arrow\"><div><div>StandardScaler</div></div><div><a class=\"sk-estimator-doc-link fitted\" rel=\"noreferrer\" target=\"_blank\" href=\"https://scikit-learn.org/1.6/modules/generated/sklearn.preprocessing.StandardScaler.html\">?<span>Documentation for StandardScaler</span></a></div></label><div class=\"sk-toggleable__content fitted\"><pre>StandardScaler()</pre></div> </div></div></div></div></div></div></div><div class=\"sk-parallel-item\"><div class=\"sk-item\"><div class=\"sk-label-container\"><div class=\"sk-label fitted sk-toggleable\"><input class=\"sk-toggleable__control sk-hidden--visually\" id=\"sk-estimator-id-6\" type=\"checkbox\" ><label for=\"sk-estimator-id-6\" class=\"sk-toggleable__label fitted sk-toggleable__label-arrow\"><div><div>bin</div></div></label><div class=\"sk-toggleable__content fitted\"><pre>[]</pre></div> </div></div><div class=\"sk-serial\"><div class=\"sk-item\"><div class=\"sk-serial\"><div class=\"sk-item\"><div class=\"sk-estimator fitted sk-toggleable\"><input class=\"sk-toggleable__control sk-hidden--visually\" id=\"sk-estimator-id-7\" type=\"checkbox\" ><label for=\"sk-estimator-id-7\" class=\"sk-toggleable__label fitted sk-toggleable__label-arrow\"><div><div>SimpleImputer</div></div><div><a class=\"sk-estimator-doc-link fitted\" rel=\"noreferrer\" target=\"_blank\" href=\"https://scikit-learn.org/1.6/modules/generated/sklearn.impute.SimpleImputer.html\">?<span>Documentation for SimpleImputer</span></a></div></label><div class=\"sk-toggleable__content fitted\"><pre>SimpleImputer(strategy=&#x27;most_frequent&#x27;)</pre></div> </div></div></div></div></div></div></div><div class=\"sk-parallel-item\"><div class=\"sk-item\"><div class=\"sk-label-container\"><div class=\"sk-label fitted sk-toggleable\"><input class=\"sk-toggleable__control sk-hidden--visually\" id=\"sk-estimator-id-8\" type=\"checkbox\" ><label for=\"sk-estimator-id-8\" class=\"sk-toggleable__label fitted sk-toggleable__label-arrow\"><div><div>remainder</div></div></label><div class=\"sk-toggleable__content fitted\"><pre>[&#x27;EXT_SOURCE_2&#x27;, &#x27;EXT_SOURCE_3&#x27;, &#x27;EXT_SOURCE_1&#x27;, &#x27;DAYS_BIRTH&#x27;, &#x27;REGION_RATING_CLIENT_W_CITY&#x27;, &#x27;REGION_RATING_CLIENT&#x27;, &#x27;NAME_INCOME_TYPE_Working&#x27;, &#x27;NAME_EDUCATION_TYPE_Higher education&#x27;, &#x27;CODE_GENDER_M&#x27;, &#x27;CODE_GENDER_F&#x27;, &#x27;DAYS_ID_PUBLISH&#x27;, &#x27;REG_CITY_NOT_WORK_CITY&#x27;, &#x27;NAME_EDUCATION_TYPE_Secondary / secondary special&#x27;, &#x27;NAME_INCOME_TYPE_Pensioner&#x27;, &#x27;DAYS_EMPLOYED&#x27;, &#x27;ORGANIZATION_TYPE_XNA&#x27;, &#x27;FLAG_EMP_PHONE&#x27;, &#x27;REG_CITY_NOT_LIVE_CITY&#x27;, &#x27;FLAG_DOCUMENT_3&#x27;, &#x27;OCCUPATION_TYPE_Laborers&#x27;, &#x27;DAYS_REGISTRATION&#x27;, &#x27;HOUSETYPE_MODE_block of flats&#x27;, &#x27;HOUSETYPE_MODE_nan&#x27;, &#x27;WALLSMATERIAL_MODE_nan&#x27;, &#x27;OCCUPATION_TYPE_nan&#x27;, &#x27;REGION_POPULATION_RELATIVE&#x27;, &#x27;EMPLOYABILITY_STABILITY&#x27;, &#x27;WALLSMATERIAL_MODE_Panel&#x27;, &#x27;LIVE_CITY_NOT_WORK_CITY&#x27;, &#x27;NAME_CONTRACT_TYPE&#x27;, &#x27;AMT_CREDIT&#x27;, &#x27;OCCUPATION_TYPE_Drivers&#x27;, &#x27;NAME_HOUSING_TYPE_With parents&#x27;, &#x27;FONDKAPREMONT_MODE_nan&#x27;, &#x27;ORGANIZATION_TYPE_Self-employed&#x27;, &#x27;FLAG_DOCUMENT_6&#x27;, &#x27;NAME_HOUSING_TYPE_House / apartment&#x27;, &#x27;FLAG_WORK_PHONE&#x27;, &#x27;OCCUPATION_TYPE_Low-skill Laborers&#x27;, &#x27;NAME_FAMILY_STATUS_Single / not married&#x27;]</pre></div> </div></div><div class=\"sk-serial\"><div class=\"sk-item\"><div class=\"sk-estimator fitted sk-toggleable\"><input class=\"sk-toggleable__control sk-hidden--visually\" id=\"sk-estimator-id-9\" type=\"checkbox\" ><label for=\"sk-estimator-id-9\" class=\"sk-toggleable__label fitted sk-toggleable__label-arrow\"><div><div>passthrough</div></div></label><div class=\"sk-toggleable__content fitted\"><pre>passthrough</pre></div> </div></div></div></div></div></div></div><div class=\"sk-item\"><div class=\"sk-estimator fitted sk-toggleable\"><input class=\"sk-toggleable__control sk-hidden--visually\" id=\"sk-estimator-id-10\" type=\"checkbox\" ><label for=\"sk-estimator-id-10\" class=\"sk-toggleable__label fitted sk-toggleable__label-arrow\"><div><div>SMOTE</div></div></label><div class=\"sk-toggleable__content fitted\"><pre>SMOTE(random_state=42, sampling_strategy=0.35)</pre></div> </div></div><div class=\"sk-item\"><div class=\"sk-estimator fitted sk-toggleable\"><input class=\"sk-toggleable__control sk-hidden--visually\" id=\"sk-estimator-id-11\" type=\"checkbox\" ><label for=\"sk-estimator-id-11\" class=\"sk-toggleable__label fitted sk-toggleable__label-arrow\"><div><div>RandomUnderSampler</div></div></label><div class=\"sk-toggleable__content fitted\"><pre>RandomUnderSampler(random_state=42, sampling_strategy=0.65)</pre></div> </div></div><div class=\"sk-item\"><div class=\"sk-estimator fitted sk-toggleable\"><input class=\"sk-toggleable__control sk-hidden--visually\" id=\"sk-estimator-id-12\" type=\"checkbox\" ><label for=\"sk-estimator-id-12\" class=\"sk-toggleable__label fitted sk-toggleable__label-arrow\"><div><div>LGBMClassifier</div></div></label><div class=\"sk-toggleable__content fitted\"><pre>LGBMClassifier(class_weight=&#x27;balanced&#x27;, learning_rate=0.10488855372533333,\n",
              "               max_depth=7, n_estimators=113, num_leaves=28)</pre></div> </div></div></div></div></div></div>"
            ]
          },
          "metadata": {},
          "execution_count": 57
        }
      ],
      "source": [
        "# training\n",
        "best_pipeline.fit(X_train, y_train)"
      ]
    },
    {
      "cell_type": "code",
      "execution_count": 58,
      "id": "KQ2avlAIe78d",
      "metadata": {
        "id": "KQ2avlAIe78d",
        "colab": {
          "base_uri": "https://localhost:8080/"
        },
        "outputId": "8540ab2b-acca-4ca0-9e7a-6106623f5a8a"
      },
      "outputs": [
        {
          "output_type": "stream",
          "name": "stderr",
          "text": [
            "/usr/local/lib/python3.12/dist-packages/sklearn/utils/validation.py:2739: UserWarning: X does not have valid feature names, but LGBMClassifier was fitted with feature names\n",
            "  warnings.warn(\n",
            "/usr/local/lib/python3.12/dist-packages/sklearn/utils/validation.py:2739: UserWarning: X does not have valid feature names, but LGBMClassifier was fitted with feature names\n",
            "  warnings.warn(\n"
          ]
        }
      ],
      "source": [
        "# predictions\n",
        "y_pred = best_pipeline.predict(X_test)\n",
        "y_proba = best_pipeline.predict_proba(X_test)[:, 1]"
      ]
    },
    {
      "cell_type": "code",
      "execution_count": 59,
      "id": "a9GnefJofBUT",
      "metadata": {
        "id": "a9GnefJofBUT",
        "colab": {
          "base_uri": "https://localhost:8080/"
        },
        "outputId": "a0ef99ef-e1b7-46eb-bc76-2e61fd5e5c49"
      },
      "outputs": [
        {
          "output_type": "stream",
          "name": "stdout",
          "text": [
            "F2-score : 0.22144675621104382\n"
          ]
        }
      ],
      "source": [
        "# évaluation des performances\n",
        "# 1- fbeta_score\n",
        "print(\"F2-score :\", fbeta_score(y_test, y_pred, beta=2))"
      ]
    },
    {
      "cell_type": "code",
      "execution_count": 60,
      "id": "U4lquNGsfLV1",
      "metadata": {
        "id": "U4lquNGsfLV1",
        "colab": {
          "base_uri": "https://localhost:8080/"
        },
        "outputId": "e68edd83-bbee-4dcd-b88f-17e73a3e6bff"
      },
      "outputs": [
        {
          "output_type": "stream",
          "name": "stdout",
          "text": [
            "AUC-ROC : 0.7673120731200082\n"
          ]
        }
      ],
      "source": [
        "# AUC_ROC\n",
        "print(\"AUC-ROC :\", roc_auc_score(y_test, y_proba))"
      ]
    },
    {
      "cell_type": "code",
      "execution_count": 62,
      "id": "-ByV5dvDfQ9M",
      "metadata": {
        "id": "-ByV5dvDfQ9M",
        "colab": {
          "base_uri": "https://localhost:8080/",
          "height": 466
        },
        "outputId": "8682902b-ba81-44b5-c4b4-748a08290488"
      },
      "outputs": [
        {
          "output_type": "execute_result",
          "data": {
            "text/plain": [
              "Text(50.722222222222214, 0.5, 'Réel')"
            ]
          },
          "metadata": {},
          "execution_count": 62
        },
        {
          "output_type": "display_data",
          "data": {
            "text/plain": [
              "<Figure size 640x480 with 2 Axes>"
            ],
            "image/png": "[encoded data removed]"
          },
          "metadata": {}
        }
      ],
      "source": [
        "# matrice de correlation\n",
        "from sklearn.metrics import confusion_matrix\n",
        "cm = confusion_matrix(y_test, y_pred)\n",
        "import seaborn as sns\n",
        "import matplotlib.pyplot as plt\n",
        "sns.heatmap(cm, annot=True, fmt=\"d\", cmap=\"Blues\")\n",
        "plt.xlabel(\"Prédit\")\n",
        "plt.ylabel(\"Réel\")"
      ]
    },
    {
      "cell_type": "markdown",
      "id": "jrNqHBGJUxE1",
      "metadata": {
        "id": "jrNqHBGJUxE1"
      },
      "source": [
        "On a 1977 FP et 3940 FN"
      ]
    },
    {
      "cell_type": "code",
      "execution_count": 63,
      "id": "8ldtmDbpfVpL",
      "metadata": {
        "id": "8ldtmDbpfVpL",
        "colab": {
          "base_uri": "https://localhost:8080/"
        },
        "outputId": "13d98c58-2f01-4fe9-eb53-53367660146b"
      },
      "outputs": [
        {
          "output_type": "stream",
          "name": "stderr",
          "text": [
            "/usr/local/lib/python3.12/dist-packages/sklearn/utils/validation.py:2739: UserWarning: X does not have valid feature names, but LGBMClassifier was fitted with feature names\n",
            "  warnings.warn(\n"
          ]
        },
        {
          "output_type": "stream",
          "name": "stdout",
          "text": [
            "Accuracy train : 0.9086899613020715\n"
          ]
        },
        {
          "output_type": "stream",
          "name": "stderr",
          "text": [
            "/usr/local/lib/python3.12/dist-packages/sklearn/utils/validation.py:2739: UserWarning: X does not have valid feature names, but LGBMClassifier was fitted with feature names\n",
            "  warnings.warn(\n"
          ]
        },
        {
          "output_type": "stream",
          "name": "stdout",
          "text": [
            "Accuracy test : 0.9037933108954035\n"
          ]
        }
      ],
      "source": [
        "# accuracy train\n",
        "print(\"Accuracy train :\", best_pipeline.score(X_train, y_train))\n",
        "# accuracy test\n",
        "print(\"Accuracy test :\", best_pipeline.score(X_test, y_test))\n"
      ]
    },
    {
      "cell_type": "markdown",
      "id": "Ce4j5g3Ay6aA",
      "metadata": {
        "id": "Ce4j5g3Ay6aA"
      },
      "source": [
        "### 4-6 Analyse de la feature_importance locale et globale"
      ]
    },
    {
      "cell_type": "markdown",
      "id": "t3eRwoL-y-n3",
      "metadata": {
        "id": "t3eRwoL-y-n3"
      },
      "source": [
        "### 4-6-1 analyse de la feature_importance locale (LIME)"
      ]
    },
    {
      "cell_type": "markdown",
      "id": "h61JcdxkzDbX",
      "metadata": {
        "id": "h61JcdxkzDbX"
      },
      "source": [
        "LIME tente d'expliquer une prédiction au hasard réalisée par le modèle :\n",
        "\n",
        "- on génère des perturbations de la prédiction\n",
        "\n",
        "- on regarde comment le modèle s'adapte\n",
        "\n",
        "- on utilise un modèle simple qui attribue un poids à chacune des features\n",
        "\n",
        "On identifie ainsi les features qui ont contribué à cette prédiction locale précise"
      ]
    },
    {
      "cell_type": "code",
      "execution_count": 65,
      "id": "kIUUkKzkgFxG",
      "metadata": {
        "id": "kIUUkKzkgFxG"
      },
      "outputs": [],
      "source": [
        "# évaluation de la feature_importance globale\n",
        "import lime\n",
        "from lime.lime_tabular import LimeTabularExplainer"
      ]
    },
    {
      "cell_type": "code",
      "execution_count": 77,
      "id": "3Dhp7A7iz_AW",
      "metadata": {
        "id": "3Dhp7A7iz_AW"
      },
      "outputs": [],
      "source": [
        "# 1. Créer l’explainer\n",
        "explainer = LimeTabularExplainer(\n",
        "    training_data=np.array(X_train),\n",
        "    feature_names=X_train.columns,\n",
        "    class_names=['Solvable', 'Mauvais payeur'],\n",
        "    mode='classification'\n",
        ")"
      ]
    },
    {
      "cell_type": "code",
      "execution_count": 75,
      "id": "NaOPl7bs0HSB",
      "metadata": {
        "id": "NaOPl7bs0HSB"
      },
      "outputs": [],
      "source": [
        "# 2. Sélectionner une observation à expliquer (client n°10)\n",
        "i = 1000\n",
        "instance = X_test.iloc[i].to_numpy()"
      ]
    },
    {
      "cell_type": "code",
      "execution_count": 78,
      "id": "fRqv4edP0Lwp",
      "metadata": {
        "id": "fRqv4edP0Lwp",
        "colab": {
          "base_uri": "https://localhost:8080/",
          "height": 408
        },
        "outputId": "23928278-6dd3-4e7b-8275-a166ac75b5cb"
      },
      "outputs": [
        {
          "output_type": "error",
          "ename": "ValueError",
          "evalue": "Domain error in arguments. The `scale` parameter must be positive for all distributions, and many distributions have restrictions on shape parameters. Please see the `scipy.stats.truncnorm` documentation for details.",
          "traceback": [
            "\u001b[0;31m---------------------------------------------------------------------------\u001b[0m",
            "\u001b[0;31mValueError\u001b[0m                                Traceback (most recent call last)",
            "\u001b[0;32m/tmp/ipython-input-3098795623.py\u001b[0m in \u001b[0;36m<cell line: 0>\u001b[0;34m()\u001b[0m\n\u001b[1;32m      1\u001b[0m \u001b[0;31m# 3. Générer l’explication locale\u001b[0m\u001b[0;34m\u001b[0m\u001b[0;34m\u001b[0m\u001b[0m\n\u001b[0;32m----> 2\u001b[0;31m exp = explainer.explain_instance(\n\u001b[0m\u001b[1;32m      3\u001b[0m     \u001b[0mdata_row\u001b[0m\u001b[0;34m=\u001b[0m\u001b[0minstance\u001b[0m\u001b[0;34m,\u001b[0m\u001b[0;34m\u001b[0m\u001b[0;34m\u001b[0m\u001b[0m\n\u001b[1;32m      4\u001b[0m     \u001b[0mpredict_fn\u001b[0m\u001b[0;34m=\u001b[0m\u001b[0mbest_model\u001b[0m\u001b[0;34m.\u001b[0m\u001b[0mpredict_proba\u001b[0m\u001b[0;34m\u001b[0m\u001b[0;34m\u001b[0m\u001b[0m\n\u001b[1;32m      5\u001b[0m )\n",
            "\u001b[0;32m/usr/local/lib/python3.12/dist-packages/lime/lime_tabular.py\u001b[0m in \u001b[0;36mexplain_instance\u001b[0;34m(self, data_row, predict_fn, labels, top_labels, num_features, num_samples, distance_metric, model_regressor)\u001b[0m\n\u001b[1;32m    338\u001b[0m             \u001b[0;31m# Preventative code: if sparse, convert to csr format if not in csr format already\u001b[0m\u001b[0;34m\u001b[0m\u001b[0;34m\u001b[0m\u001b[0m\n\u001b[1;32m    339\u001b[0m             \u001b[0mdata_row\u001b[0m \u001b[0;34m=\u001b[0m \u001b[0mdata_row\u001b[0m\u001b[0;34m.\u001b[0m\u001b[0mtocsr\u001b[0m\u001b[0;34m(\u001b[0m\u001b[0;34m)\u001b[0m\u001b[0;34m\u001b[0m\u001b[0;34m\u001b[0m\u001b[0m\n\u001b[0;32m--> 340\u001b[0;31m         \u001b[0mdata\u001b[0m\u001b[0;34m,\u001b[0m \u001b[0minverse\u001b[0m \u001b[0;34m=\u001b[0m \u001b[0mself\u001b[0m\u001b[0;34m.\u001b[0m\u001b[0m__data_inverse\u001b[0m\u001b[0;34m(\u001b[0m\u001b[0mdata_row\u001b[0m\u001b[0;34m,\u001b[0m \u001b[0mnum_samples\u001b[0m\u001b[0;34m)\u001b[0m\u001b[0;34m\u001b[0m\u001b[0;34m\u001b[0m\u001b[0m\n\u001b[0m\u001b[1;32m    341\u001b[0m         \u001b[0;32mif\u001b[0m \u001b[0msp\u001b[0m\u001b[0;34m.\u001b[0m\u001b[0msparse\u001b[0m\u001b[0;34m.\u001b[0m\u001b[0missparse\u001b[0m\u001b[0;34m(\u001b[0m\u001b[0mdata\u001b[0m\u001b[0;34m)\u001b[0m\u001b[0;34m:\u001b[0m\u001b[0;34m\u001b[0m\u001b[0;34m\u001b[0m\u001b[0m\n\u001b[1;32m    342\u001b[0m             \u001b[0;31m# Note in sparse case we don't subtract mean since data would become dense\u001b[0m\u001b[0;34m\u001b[0m\u001b[0;34m\u001b[0m\u001b[0m\n",
            "\u001b[0;32m/usr/local/lib/python3.12/dist-packages/lime/lime_tabular.py\u001b[0m in \u001b[0;36m__data_inverse\u001b[0;34m(self, data_row, num_samples)\u001b[0m\n\u001b[1;32m    548\u001b[0m             \u001b[0minverse\u001b[0m\u001b[0;34m[\u001b[0m\u001b[0;34m:\u001b[0m\u001b[0;34m,\u001b[0m \u001b[0mcolumn\u001b[0m\u001b[0;34m]\u001b[0m \u001b[0;34m=\u001b[0m \u001b[0minverse_column\u001b[0m\u001b[0;34m\u001b[0m\u001b[0;34m\u001b[0m\u001b[0m\n\u001b[1;32m    549\u001b[0m         \u001b[0;32mif\u001b[0m \u001b[0mself\u001b[0m\u001b[0;34m.\u001b[0m\u001b[0mdiscretizer\u001b[0m \u001b[0;32mis\u001b[0m \u001b[0;32mnot\u001b[0m \u001b[0;32mNone\u001b[0m\u001b[0;34m:\u001b[0m\u001b[0;34m\u001b[0m\u001b[0;34m\u001b[0m\u001b[0m\n\u001b[0;32m--> 550\u001b[0;31m             \u001b[0minverse\u001b[0m\u001b[0;34m[\u001b[0m\u001b[0;36m1\u001b[0m\u001b[0;34m:\u001b[0m\u001b[0;34m]\u001b[0m \u001b[0;34m=\u001b[0m \u001b[0mself\u001b[0m\u001b[0;34m.\u001b[0m\u001b[0mdiscretizer\u001b[0m\u001b[0;34m.\u001b[0m\u001b[0mundiscretize\u001b[0m\u001b[0;34m(\u001b[0m\u001b[0minverse\u001b[0m\u001b[0;34m[\u001b[0m\u001b[0;36m1\u001b[0m\u001b[0;34m:\u001b[0m\u001b[0;34m]\u001b[0m\u001b[0;34m)\u001b[0m\u001b[0;34m\u001b[0m\u001b[0;34m\u001b[0m\u001b[0m\n\u001b[0m\u001b[1;32m    551\u001b[0m         \u001b[0minverse\u001b[0m\u001b[0;34m[\u001b[0m\u001b[0;36m0\u001b[0m\u001b[0;34m]\u001b[0m \u001b[0;34m=\u001b[0m \u001b[0mdata_row\u001b[0m\u001b[0;34m\u001b[0m\u001b[0;34m\u001b[0m\u001b[0m\n\u001b[1;32m    552\u001b[0m         \u001b[0;32mreturn\u001b[0m \u001b[0mdata\u001b[0m\u001b[0;34m,\u001b[0m \u001b[0minverse\u001b[0m\u001b[0;34m\u001b[0m\u001b[0;34m\u001b[0m\u001b[0m\n",
            "\u001b[0;32m/usr/local/lib/python3.12/dist-packages/lime/discretize.py\u001b[0m in \u001b[0;36mundiscretize\u001b[0;34m(self, data)\u001b[0m\n\u001b[1;32m    142\u001b[0m                 )\n\u001b[1;32m    143\u001b[0m             \u001b[0;32melse\u001b[0m\u001b[0;34m:\u001b[0m\u001b[0;34m\u001b[0m\u001b[0;34m\u001b[0m\u001b[0m\n\u001b[0;32m--> 144\u001b[0;31m                 ret[:, feature] = self.get_undiscretize_values(\n\u001b[0m\u001b[1;32m    145\u001b[0m                     \u001b[0mfeature\u001b[0m\u001b[0;34m,\u001b[0m \u001b[0mret\u001b[0m\u001b[0;34m[\u001b[0m\u001b[0;34m:\u001b[0m\u001b[0;34m,\u001b[0m \u001b[0mfeature\u001b[0m\u001b[0;34m]\u001b[0m\u001b[0;34m.\u001b[0m\u001b[0mastype\u001b[0m\u001b[0;34m(\u001b[0m\u001b[0mint\u001b[0m\u001b[0;34m)\u001b[0m\u001b[0;34m\u001b[0m\u001b[0;34m\u001b[0m\u001b[0m\n\u001b[1;32m    146\u001b[0m                 )\n",
            "\u001b[0;32m/usr/local/lib/python3.12/dist-packages/lime/discretize.py\u001b[0m in \u001b[0;36mget_undiscretize_values\u001b[0;34m(self, feature, values)\u001b[0m\n\u001b[1;32m    125\u001b[0m \u001b[0;34m\u001b[0m\u001b[0m\n\u001b[1;32m    126\u001b[0m         \u001b[0mret\u001b[0m \u001b[0;34m=\u001b[0m \u001b[0mminz\u001b[0m\u001b[0;34m\u001b[0m\u001b[0;34m\u001b[0m\u001b[0m\n\u001b[0;32m--> 127\u001b[0;31m         ret[np.where(min_max_unequal)] = scipy.stats.truncnorm.rvs(\n\u001b[0m\u001b[1;32m    128\u001b[0m             \u001b[0mminz\u001b[0m\u001b[0;34m[\u001b[0m\u001b[0mmin_max_unequal\u001b[0m\u001b[0;34m]\u001b[0m\u001b[0;34m,\u001b[0m\u001b[0;34m\u001b[0m\u001b[0;34m\u001b[0m\u001b[0m\n\u001b[1;32m    129\u001b[0m             \u001b[0mmaxz\u001b[0m\u001b[0;34m[\u001b[0m\u001b[0mmin_max_unequal\u001b[0m\u001b[0;34m]\u001b[0m\u001b[0;34m,\u001b[0m\u001b[0;34m\u001b[0m\u001b[0;34m\u001b[0m\u001b[0m\n",
            "\u001b[0;32m/usr/local/lib/python3.12/dist-packages/scipy/stats/_distn_infrastructure.py\u001b[0m in \u001b[0;36mrvs\u001b[0;34m(self, *args, **kwds)\u001b[0m\n\u001b[1;32m   1106\u001b[0m                        \u001b[0;34mf\"Please see the `scipy.stats.{self.name}` \"\u001b[0m\u001b[0;34m\u001b[0m\u001b[0;34m\u001b[0m\u001b[0m\n\u001b[1;32m   1107\u001b[0m                        \"documentation for details.\")\n\u001b[0;32m-> 1108\u001b[0;31m             \u001b[0;32mraise\u001b[0m \u001b[0mValueError\u001b[0m\u001b[0;34m(\u001b[0m\u001b[0mmessage\u001b[0m\u001b[0;34m)\u001b[0m\u001b[0;34m\u001b[0m\u001b[0;34m\u001b[0m\u001b[0m\n\u001b[0m\u001b[1;32m   1109\u001b[0m \u001b[0;34m\u001b[0m\u001b[0m\n\u001b[1;32m   1110\u001b[0m         \u001b[0;32mif\u001b[0m \u001b[0mnp\u001b[0m\u001b[0;34m.\u001b[0m\u001b[0mall\u001b[0m\u001b[0;34m(\u001b[0m\u001b[0mscale\u001b[0m \u001b[0;34m==\u001b[0m \u001b[0;36m0\u001b[0m\u001b[0;34m)\u001b[0m\u001b[0;34m:\u001b[0m\u001b[0;34m\u001b[0m\u001b[0;34m\u001b[0m\u001b[0m\n",
            "\u001b[0;31mValueError\u001b[0m: Domain error in arguments. The `scale` parameter must be positive for all distributions, and many distributions have restrictions on shape parameters. Please see the `scipy.stats.truncnorm` documentation for details."
          ]
        }
      ],
      "source": [
        "# 3. Générer l’explication locale\n",
        "exp = explainer.explain_instance(\n",
        "    data_row=instance,\n",
        "    predict_fn=best_model.predict_proba\n",
        ")"
      ]
    },
    {
      "cell_type": "code",
      "execution_count": null,
      "id": "RWWbSmc60QzG",
      "metadata": {
        "id": "RWWbSmc60QzG"
      },
      "outputs": [],
      "source": [
        "# 4. Visualiser\n",
        "exp.show_in_notebook(show_table=True)\n",
        "exp.as_list()"
      ]
    },
    {
      "cell_type": "markdown",
      "source": [
        "#### 4-6-2 analyse de la feature_importance globale (SHAP)"
      ],
      "metadata": {
        "id": "SDn0UmJOg_2h"
      },
      "id": "SDn0UmJOg_2h"
    },
    {
      "cell_type": "code",
      "source": [
        "import shap"
      ],
      "metadata": {
        "id": "ZOsnZFA-hIOn"
      },
      "id": "ZOsnZFA-hIOn",
      "execution_count": 69,
      "outputs": []
    },
    {
      "cell_type": "code",
      "source": [
        "# 1- créer l'explainer\n",
        "explainer = shap.TreeExplainer(best_model)"
      ],
      "metadata": {
        "id": "TFHgRs0khUm3"
      },
      "id": "TFHgRs0khUm3",
      "execution_count": 70,
      "outputs": []
    },
    {
      "cell_type": "code",
      "source": [
        "# 2- calcul des valeurs shap\n",
        "shap_values = explainer.shap_values(X_test)"
      ],
      "metadata": {
        "id": "ncunVx9thb_n",
        "colab": {
          "base_uri": "https://localhost:8080/"
        },
        "outputId": "fb6eee8e-f37a-45cf-c89d-0e14d262c5fb"
      },
      "id": "ncunVx9thb_n",
      "execution_count": 71,
      "outputs": [
        {
          "output_type": "stream",
          "name": "stderr",
          "text": [
            "/usr/local/lib/python3.12/dist-packages/shap/explainers/_tree.py:583: UserWarning: LightGBM binary classifier with TreeExplainer shap values output has changed to a list of ndarray\n",
            "  warnings.warn(\n"
          ]
        }
      ]
    },
    {
      "cell_type": "code",
      "source": [
        "# 3- Importance_globale\n",
        "shap.summary_plot(shap_values, X_test)"
      ],
      "metadata": {
        "id": "_WglHEhjhf7-",
        "colab": {
          "base_uri": "https://localhost:8080/",
          "height": 885
        },
        "outputId": "026fad35-2b6e-4dd3-a4d4-11c3275c82c9"
      },
      "id": "_WglHEhjhf7-",
      "execution_count": 72,
      "outputs": [
        {
          "output_type": "display_data",
          "data": {
            "text/plain": [
              "<Figure size 800x950 with 2 Axes>"
            ],
            "image/png": "[encoded data removed]"
          },
          "metadata": {}
        }
      ]
    }
  ],
  "metadata": {
    "accelerator": "GPU",
    "colab": {
      "gpuType": "T4",
      "provenance": []
    },
    "kernelspec": {
      "display_name": "Python 3",
      "name": "python3"
    },
    "language_info": {
      "codemirror_mode": {
        "name": "ipython",
        "version": 3
      },
      "file_extension": ".py",
      "mimetype": "text/x-python",
      "name": "python",
      "nbconvert_exporter": "python",
      "pygments_lexer": "ipython3",
      "version": "3.12.3"
    }
  },
  "nbformat": 4,
  "nbformat_minor": 5
}