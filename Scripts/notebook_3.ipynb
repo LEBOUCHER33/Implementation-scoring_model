{
 "cells": [
  {
   "cell_type": "markdown",
   "id": "e8cada46",
   "metadata": {},
   "source": [
    "# Projet 7"
   ]
  },
  {
   "cell_type": "markdown",
   "id": "59e292dc",
   "metadata": {},
   "source": [
    "## Mission : Intégrez et optimisez le système MLOps"
   ]
  },
  {
   "cell_type": "markdown",
   "id": "6901fc83",
   "metadata": {},
   "source": [
    "L'objectif de cette partie sera de créer une interface API permettant de faire une prédiction à l'aide du modèle entrainé.\n",
    "\n",
    "Le client pourra, via une requête HTTPS, envoyer de nouvelles données clients formatées selon les features du dataset d’entraînement et recevoir en retour les probabilités de solvabilité\n",
    "\n",
    "Workflow :\n",
    "\n",
    "1- création de l'API dans un fichier main.py \n",
    "\n",
    "2- on définit la fonction de prédiction qui appelle le pipeline du modèle entrainé dans un endpoint de l'API\n",
    "\n",
    "3- on test en local le fonctionnement de l'API\n",
    "\n",
    "4- on met en production l'API : déploiement sur le cloud\n",
    "\n",
    "5- on test l'API en production"
   ]
  },
  {
   "cell_type": "markdown",
   "id": "1518ea8f",
   "metadata": {},
   "source": [
    "## Local API"
   ]
  },
  {
   "cell_type": "code",
   "execution_count": 1,
   "id": "ec86bc88",
   "metadata": {},
   "outputs": [],
   "source": [
    "# import des librairies\n",
    "import pandas as pd\n",
    "import requests\n",
    "import json"
   ]
  },
  {
   "cell_type": "code",
   "execution_count": 2,
   "id": "81a5b876",
   "metadata": {},
   "outputs": [],
   "source": [
    "# définition de l'url de l'API\n",
    "url = \"http://127.0.0.1:5000/predict\""
   ]
  },
  {
   "cell_type": "code",
   "execution_count": null,
   "id": "4940d2b7",
   "metadata": {},
   "outputs": [],
   "source": [
    "# 1- on va récupérer un échantillon de données\n",
    "data = pd.read_csv(\"../data_test.csv\")"
   ]
  },
  {
   "cell_type": "code",
   "execution_count": null,
   "id": "b580dc3f",
   "metadata": {},
   "outputs": [],
   "source": [
    "# 2- on va sélectionner un échantillon de 10 clients\n",
    "data_sample = data.sample(10, random_state=42)"
   ]
  },
  {
   "cell_type": "markdown",
   "id": "d150956b",
   "metadata": {},
   "source": [
    "Nos données se présentent sous forme d'un DataFrame Pandas, les format nativement acceptés par les APIs sont les formats json.\n",
    "Il existe plusieurs techniques pour formater les données en json, la plus courant consiste à utiliser JSON orienté 'records'. Cette technique permet de transformer chaque ligne du dataframe en un dictionnaire et toutes les lignes, s'il y en a plusieurs, en liste."
   ]
  },
  {
   "cell_type": "code",
   "execution_count": null,
   "id": "06f34998",
   "metadata": {},
   "outputs": [],
   "source": [
    "# 3- on va convertir cet échantillon en json\n",
    "data_json = data_sample.to_json(orient=\"records\")"
   ]
  },
  {
   "cell_type": "code",
   "execution_count": null,
   "id": "a04e111a",
   "metadata": {},
   "outputs": [],
   "source": [
    "# on le convertit en dictionnaire python\n",
    "data_dict = json.loads(data_json)"
   ]
  },
  {
   "cell_type": "markdown",
   "id": "d4212a5d",
   "metadata": {},
   "source": [
    "On a deux façon de tester l'API :\n",
    "\n",
    "1- en utilisant cURL en bash dans un terminal\n",
    "```bash\n",
    "curl -X POST \"http://127.0.0.1:5000/predict\" \\\n",
    "     -H \"Content-Type: application/json\" \\\n",
    "     --data-binary @data_json.json\n",
    "```\n",
    "\n",
    "2- en utilisant la lib python request\n",
    "```python\n",
    "response = requests.post(url, data=data_json)\n",
    "```"
   ]
  },
  {
   "cell_type": "code",
   "execution_count": null,
   "id": "69b0d555",
   "metadata": {},
   "outputs": [],
   "source": [
    "# 4- on va envoyer une requête POST à l'API\n",
    "response = requests.post(url, data=data_json)"
   ]
  },
  {
   "cell_type": "code",
   "execution_count": null,
   "id": "3cb237a8",
   "metadata": {},
   "outputs": [],
   "source": [
    "# 5- on affiche la réponse de l'API\n",
    "print(\"Status Code:\", response.status_code)\n",
    "print(\"Response JSON:\", response.json())"
   ]
  }
 ],
 "metadata": {
  "kernelspec": {
   "display_name": "Python (venv_notebook)",
   "language": "python",
   "name": "venv_notebook"
  },
  "language_info": {
   "codemirror_mode": {
    "name": "ipython",
    "version": 3
   },
   "file_extension": ".py",
   "mimetype": "text/x-python",
   "name": "python",
   "nbconvert_exporter": "python",
   "pygments_lexer": "ipython3",
   "version": "3.11.4"
  }
 },
 "nbformat": 4,
 "nbformat_minor": 5
}
